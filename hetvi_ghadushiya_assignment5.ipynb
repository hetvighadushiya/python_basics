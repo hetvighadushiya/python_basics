{
  "metadata": {
    "kernelspec": {
      "name": "python",
      "display_name": "Python (Pyodide)",
      "language": "python"
    },
    "language_info": {
      "codemirror_mode": {
        "name": "python",
        "version": 3
      },
      "file_extension": ".py",
      "mimetype": "text/x-python",
      "name": "python",
      "nbconvert_exporter": "python",
      "pygments_lexer": "ipython3",
      "version": "3.8"
    }
  },
  "nbformat_minor": 4,
  "nbformat": 4,
  "cells": [
    {
      "cell_type": "markdown",
      "source": "Q1.What are the five key concepts of Object-Oriented Programming (OOP)?",
      "metadata": {}
    },
    {
      "cell_type": "markdown",
      "source": "# Key Concepts of Object-Oriented Programming (OOP)\n\n1. **Encapsulation**\n   - Bundling of data (attributes) and methods (functions) that operate on the data within a single unit, typically a class. It restricts direct access to some of an object's components, which can prevent unintended interference and misuse.\n\n2. **Abstraction**\n   - The concept of hiding complex implementation details and showing only the essential features of an object. This simplifies the interface and helps reduce programming complexity.\n\n3. **Inheritance**\n   - A mechanism where a new class (subclass or derived class) can inherit attributes and methods from an existing class (superclass or base class). This promotes code reusability and establishes a relationship between classes.\n\n4. **Polymorphism**\n   - The ability of different classes to be treated as instances of the same class through a common interface. It allows methods to perform differently based on the object that it is acting upon, often through method overriding or interfaces.\n\n5. **Classes and Objects**\n   - **Class**: A blueprint for creating objects, defining attributes and methods.\n   - **Object**: An instance of a class that encapsulates data and functionality, representing a specific entity in the program.\n\n",
      "metadata": {}
    },
    {
      "cell_type": "markdown",
      "source": "q2. Write a Python class for a `Car` with attributes for `make`, `model`, and `year`. Include a method to display the car's information.",
      "metadata": {}
    },
    {
      "cell_type": "code",
      "source": "class Car:\n    def __init__(self, make, model, year):\n        self.make = make\n        self.model = model\n        self.year = year\n\n    def display_info(self):\n        print(f\"Car Information:\\nMake: {self.make}\\nModel: {self.model}\\nYear: {self.year}\")\n\nmy_car = Car(\"Toyota\", \"Corolla\", 2020)\nmy_car.display_info()",
      "metadata": {
        "trusted": true
      },
      "outputs": [
        {
          "name": "stdout",
          "text": "Car Information:\nMake: Toyota\nModel: Corolla\nYear: 2020\n",
          "output_type": "stream"
        }
      ],
      "execution_count": 1
    },
    {
      "cell_type": "markdown",
      "source": "q3.Explain the difference between instance methods and class methods. Provide an example of each",
      "metadata": {}
    },
    {
      "cell_type": "markdown",
      "source": "##Instance Methods\n#Definition: Instance methods operate on an instance of the class (an object). They can access and modify the instance's attributes.\n#Declaration: Defined with self as the first parameter.\n#Usage: Called on an instance of the class.",
      "metadata": {}
    },
    {
      "cell_type": "code",
      "source": "#example\nclass Dog:\n    def __init__(self, name):\n        self.name = name\n\n    def bark(self):\n        return f\"{self.name} says woof!\"\n\n# Usage\nmy_dog = Dog(\"Buddy\")\nprint(my_dog.bark())",
      "metadata": {
        "trusted": true
      },
      "outputs": [
        {
          "name": "stdout",
          "text": "Buddy says woof!\n",
          "output_type": "stream"
        }
      ],
      "execution_count": 2
    },
    {
      "cell_type": "markdown",
      "source": "Class Methods\nDefinition: Class methods operate on the class itself rather than on instances. They can access and modify class-level attributes.\nDeclaration: Defined with cls as the first parameter and decorated with @classmethod.\nUsage: Called on the class itself, not on an instance.",
      "metadata": {}
    },
    {
      "cell_type": "code",
      "source": "#example\nclass Dog:\n    species = \"Canis lupus familiaris\" \n\n    def __init__(self, name):\n        self.name = name\n\n    @classmethod\n    def get_species(cls):\n        return cls.species\n\nprint(Dog.get_species())",
      "metadata": {
        "trusted": true
      },
      "outputs": [
        {
          "name": "stdout",
          "text": "Canis lupus familiaris\n",
          "output_type": "stream"
        }
      ],
      "execution_count": 3
    },
    {
      "cell_type": "markdown",
      "source": "q4. How does Python implement method overloading? Give an example",
      "metadata": {}
    },
    {
      "cell_type": "markdown",
      "source": "Python does not support traditional method overloading as seen in some other programming languages (like Java or C++), where multiple methods can have the same name but different parameter types or counts. Instead, Python allows only one method with a given name in a class.\n\nHowever, you can achieve similar functionality by using default arguments, variable-length arguments, or checking the types of arguments within a single method. Here's how you can implement it using these techniques:",
      "metadata": {}
    },
    {
      "cell_type": "code",
      "source": "#Example of Method Overloading Using Default Arguments\nclass MathOperations:\n    def add(self, a, b=0, c=0):\n        return a + b + c\n\nmath_op = MathOperations()\nprint(math_op.add(5))           # Output: 5 (5 + 0 + 0)\nprint(math_op.add(5, 10))       # Output: 15 (5 + 10 + 0)\nprint(math_op.add(5, 10, 15))   # Output: 30 (5 + 10 + 15)",
      "metadata": {
        "trusted": true
      },
      "outputs": [],
      "execution_count": null
    },
    {
      "cell_type": "code",
      "source": "#Example of Method Overloading Using Variable-Length Arguments\nclass MathOperations:\n    def add(self, *args):\n        return sum(args)\n\nmath_op = MathOperations()\nprint(math_op.add(5)) \nprint(math_op.add(5, 10))  \nprint(math_op.add(5, 10, 15, 20)) ",
      "metadata": {
        "trusted": true
      },
      "outputs": [
        {
          "name": "stdout",
          "text": "5\n15\n50\n",
          "output_type": "stream"
        }
      ],
      "execution_count": 4
    },
    {
      "cell_type": "code",
      "source": "#Example of Method Overloading Using Type Checking\nclass MathOperations:\n    def add(self, a, b):\n        if isinstance(a, str) and isinstance(b, str):\n            return a + b\n        elif isinstance(a, (int, float)) and isinstance(b, (int, float)):\n            return a + b\n        else:\n            raise TypeError(\"Invalid types for addition\")\n\n# Usage\nmath_op = MathOperations()\nprint(math_op.add(5, 10))  \nprint(math_op.add(\"Hello, \", \"World!\")) ",
      "metadata": {
        "trusted": true
      },
      "outputs": [
        {
          "name": "stdout",
          "text": "15\nHello, World!\n",
          "output_type": "stream"
        }
      ],
      "execution_count": 5
    },
    {
      "cell_type": "markdown",
      "source": "q5.What are the three types of access modifiers in Python? How are they denoted?",
      "metadata": {}
    },
    {
      "cell_type": "markdown",
      "source": "Public: Members (attributes and methods) that are accessible from anywhere. They are denoted without any leading underscores.",
      "metadata": {}
    },
    {
      "cell_type": "code",
      "source": "class MyClass:\n    def my_method(self):\n        pass\n",
      "metadata": {
        "trusted": true
      },
      "outputs": [],
      "execution_count": 1
    },
    {
      "cell_type": "markdown",
      "source": "Protected: Members that should not be accessed from outside the class and its subclasses. They are denoted with a single leading underscore.",
      "metadata": {}
    },
    {
      "cell_type": "code",
      "source": "class MyClass:\n    def _my_protected_method(self):\n        pass\n",
      "metadata": {
        "trusted": true
      },
      "outputs": [],
      "execution_count": 2
    },
    {
      "cell_type": "markdown",
      "source": "Private: Members that are not accessible from outside the class. They are denoted with a double leading underscore.",
      "metadata": {}
    },
    {
      "cell_type": "code",
      "source": "class MyClass:\n    def __my_private_method(self):\n        pass",
      "metadata": {
        "trusted": true
      },
      "outputs": [],
      "execution_count": 3
    },
    {
      "cell_type": "markdown",
      "source": "q6. Describe the five types of inheritance in Python. Provide a simple example of multiple inheritance.",
      "metadata": {}
    },
    {
      "cell_type": "code",
      "source": "#Single Inheritance: A class inherits from a single parent class.\nclass Parent:\n    pass\n\nclass Child(Parent):\n    pass\n",
      "metadata": {
        "trusted": true
      },
      "outputs": [],
      "execution_count": 4
    },
    {
      "cell_type": "code",
      "source": "#Multiple Inheritance: A class inherits from more than one parent class.\nclass Parent1:\n    pass\n\nclass Parent2:\n    pass\n\nclass Child(Parent1, Parent2):\n    pass",
      "metadata": {
        "trusted": true
      },
      "outputs": [],
      "execution_count": 5
    },
    {
      "cell_type": "code",
      "source": "#Multilevel Inheritance: A class inherits from a parent class, which in turn inherits from another class.\nclass Grandparent:\n    pass\n\nclass Parent(Grandparent):\n    pass\n\nclass Child(Parent):\n    pass",
      "metadata": {
        "trusted": true
      },
      "outputs": [],
      "execution_count": 6
    },
    {
      "cell_type": "code",
      "source": "#Hierarchical Inheritance: Multiple classes inherit from a single parent class.\nclass Parent:\n    pass\n\nclass Child1(Parent):\n    pass\n\nclass Child2(Parent):\n    pass",
      "metadata": {
        "trusted": true
      },
      "outputs": [],
      "execution_count": 7
    },
    {
      "cell_type": "code",
      "source": "#Hybrid Inheritance: A combination of two or more types of inheritance.\nclass Base:\n    pass\n\nclass Derived1(Base):\n    pass\n\nclass Derived2(Base):\n    pass\n\nclass Child(Derived1, Derived2):\n    pass",
      "metadata": {
        "trusted": true
      },
      "outputs": [],
      "execution_count": 8
    },
    {
      "cell_type": "code",
      "source": "##Example of Multiple Inheritance\nclass Father:\n    def skills(self):\n        return \"Gardening, Programming\"\n\nclass Mother:\n    def skills(self):\n        return \"Cooking, Painting\"\n\nclass Child(Father, Mother):\n    def skills(self):\n        return f\"Child skills: {Father.skills(self)}, {Mother.skills(self)}\"\n\nchild = Child()\nprint(child.skills())",
      "metadata": {
        "trusted": true
      },
      "outputs": [
        {
          "name": "stdout",
          "text": "Child skills: Gardening, Programming, Cooking, Painting\n",
          "output_type": "stream"
        }
      ],
      "execution_count": 9
    },
    {
      "cell_type": "markdown",
      "source": "q7 What is the Method Resolution Order (MRO) in Python? How can you retrieve it programmatically?",
      "metadata": {}
    },
    {
      "cell_type": "markdown",
      "source": "Method Resolution Order (MRO) in Python determines the order in which classes are looked up when searching for a method. This is particularly important in multiple inheritance scenarios, where Python needs to know the order in which to traverse the inheritance hierarchy to find a method or attribute.\n\nMRO Rules\nDepth-First Search: MRO follows a depth-first left-to-right search.\nC3 Linearization: Python uses the C3 linearization algorithm to create a consistent order.\nRetrieving MRO Programmatically\nYou can retrieve the MRO of a class using the mro() method or the __mro__ attribute.",
      "metadata": {}
    },
    {
      "cell_type": "code",
      "source": "class A:\n    pass\n\nclass B(A):\n    pass\n\nclass C(A):\n    pass\n\nclass D(B, C):\n    pass\n\nprint(D.mro())\n\nprint(D.__mro__)\n",
      "metadata": {
        "trusted": true
      },
      "outputs": [
        {
          "name": "stdout",
          "text": "[<class '__main__.D'>, <class '__main__.B'>, <class '__main__.C'>, <class '__main__.A'>, <class 'object'>]\n(<class '__main__.D'>, <class '__main__.B'>, <class '__main__.C'>, <class '__main__.A'>, <class 'object'>)\n",
          "output_type": "stream"
        }
      ],
      "execution_count": 10
    },
    {
      "cell_type": "markdown",
      "source": "q8.Create an abstract base class `Shape` with an abstract method `area()`. Then create two subclasses `Circle` and `Rectangle` that implement the `area()` method.",
      "metadata": {}
    },
    {
      "cell_type": "code",
      "source": "from abc import ABC, abstractmethod\nimport math\n\nclass Shape(ABC):\n    @abstractmethod\n    def area(self):\n        pass\n\nclass Circle(Shape):\n    def __init__(self, radius):\n        self.radius = radius\n\n    def area(self):\n        return math.pi * (self.radius ** 2)\n\nclass Rectangle(Shape):\n    def __init__(self, width, height):\n        self.width = width\n        self.height = height\n\n    def area(self):\n        return self.width * self.height\n\ncircle = Circle(5)\nrectangle = Rectangle(4, 6)\n\nprint(f\"Area of Circle: {circle.area():.2f}\")\nprint(f\"Area of Rectangle: {rectangle.area()}\")\n",
      "metadata": {
        "trusted": true
      },
      "outputs": [
        {
          "name": "stdout",
          "text": "Area of Circle: 78.54\nArea of Rectangle: 24\n",
          "output_type": "stream"
        }
      ],
      "execution_count": 12
    },
    {
      "cell_type": "markdown",
      "source": "q9.Demonstrate polymorphism by creating a function that can work with different shape objects to calculate and print their areas.",
      "metadata": {}
    },
    {
      "cell_type": "code",
      "source": "from abc import ABC, abstractmethod\nimport math\n\nclass Shape(ABC):\n    @abstractmethod\n    def area(self):\n        pass\n\nclass Circle(Shape):\n    def __init__(self, radius):\n        self.radius = radius\n\n    def area(self):\n        return math.pi * (self.radius ** 2)\n\nclass Rectangle(Shape):\n    def __init__(self, width, height):\n        self.width = width\n        self.height = height\n\n    def area(self):\n        return self.width * self.height\n\ndef print_area(shape: Shape):\n    print(f\"Area: {shape.area():.2f}\")\n\ncircle = Circle(5)\nrectangle = Rectangle(4, 6)\n\nprint_area(circle)\nprint_area(rectangle)\n",
      "metadata": {
        "trusted": true
      },
      "outputs": [
        {
          "name": "stdout",
          "text": "Area: 78.54\nArea: 24.00\n",
          "output_type": "stream"
        }
      ],
      "execution_count": 13
    },
    {
      "cell_type": "markdown",
      "source": " q10.Implement encapsulation in a `BankAccount` class with private attributes for `balance` and `account_number`. Include methods for deposit, withdrawal, and balance inquiry.q10.",
      "metadata": {}
    },
    {
      "cell_type": "code",
      "source": "class BankAccount:\n    def __init__(self, account_number, initial_balance=0):\n        self.__account_number = account_number \n        self.__balance = initial_balance        \n\n    def deposit(self, amount):\n        if amount > 0:\n            self.__balance += amount\n            print(f\"Deposited: ${amount:.2f}\")\n        else:\n            print(\"Deposit amount must be positive.\")\n\n    def withdraw(self, amount):\n        if 0 < amount <= self.__balance:\n            self.__balance -= amount\n            print(f\"Withdrew: ${amount:.2f}\")\n        else:\n            print(\"Insufficient funds or invalid amount.\")\n\n    def get_balance(self):\n        return self.__balance\n\n    def get_account_number(self):\n        return self.__account_number\n\naccount = BankAccount(\"12345678\", 1000)\n\nprint(f\"Account Number: {account.get_account_number()}\")\nprint(f\"Initial Balance: ${account.get_balance():.2f}\")\n\naccount.deposit(500)\nprint(f\"New Balance: ${account.get_balance():.2f}\")\n\naccount.withdraw(200)\nprint(f\"New Balance: ${account.get_balance():.2f}\")\n\naccount.withdraw(1500) \n",
      "metadata": {
        "trusted": true
      },
      "outputs": [
        {
          "name": "stdout",
          "text": "Account Number: 12345678\nInitial Balance: $1000.00\nDeposited: $500.00\nNew Balance: $1500.00\nWithdrew: $200.00\nNew Balance: $1300.00\nInsufficient funds or invalid amount.\n",
          "output_type": "stream"
        }
      ],
      "execution_count": 14
    },
    {
      "cell_type": "markdown",
      "source": "q11.Write a class that overrides the `__str__` and `__add__` magic methods. What will these methods allow you to do?",
      "metadata": {}
    },
    {
      "cell_type": "code",
      "source": "class Vector:\n    def __init__(self, x, y):\n        self.x = x\n        self.y = y\n\n    def __str__(self):\n        return f\"Vector({self.x}, {self.y})\"\n\n    def __add__(self, other):\n        if isinstance(other, Vector):\n            return Vector(self.x + other.x, self.y + other.y)\n        return NotImplemented\n\nv1 = Vector(2, 3)\nv2 = Vector(4, 5)\n\nprint(v1) \nprint(v2)  \n\nv3 = v1 + v2  \nprint(v3)   \n",
      "metadata": {
        "trusted": true
      },
      "outputs": [
        {
          "name": "stdout",
          "text": "Vector(2, 3)\nVector(4, 5)\nVector(6, 8)\n",
          "output_type": "stream"
        }
      ],
      "execution_count": 15
    },
    {
      "cell_type": "markdown",
      "source": "q12.Create a decorator that measures and prints the execution time of a function.",
      "metadata": {}
    },
    {
      "cell_type": "code",
      "source": "import time\n\ndef timer_decorator(func):\n    def wrapper(*args, **kwargs):\n        start_time = time.time()  \n        result = func(*args, **kwargs) \n        end_time = time.time() \n        execution_time = end_time - start_time  \n        print(f\"Execution time for {func.__name__}: {execution_time:.4f} seconds\")\n        return result \n    return wrapper\n\n@timer_decorator\ndef example_function(n):\n    total = 0\n    for i in range(n):\n        total += i\n    return total\n\nresult = example_function(1000000)\nprint(f\"Result: {result}\")\n",
      "metadata": {
        "trusted": true
      },
      "outputs": [
        {
          "name": "stdout",
          "text": "Execution time for example_function: 0.1620 seconds\nResult: 499999500000\n",
          "output_type": "stream"
        }
      ],
      "execution_count": 16
    },
    {
      "cell_type": "markdown",
      "source": "q13.. Explain the concept of the Diamond Problem in multiple inheritance. How does Python resolve it?",
      "metadata": {}
    },
    {
      "cell_type": "markdown",
      "source": "#The Diamond Problem occurs in multiple inheritance when a class inherits from two classes that both inherit from a common base class. This can create ambiguity in the method resolution order, as there are multiple paths to reach the base class.\nPython uses the C3 Linearization algorithm (also known as C3 superclass linearization) to determine the order in which classes are looked up for methods and attributes. This ensures a consistent method resolution order (MRO) that respects the inheritance hierarchy.",
      "metadata": {}
    },
    {
      "cell_type": "code",
      "source": "class A:\n    def greet(self):\n        return \"Hello from A\"\n\nclass B(A):\n    def greet(self):\n        return \"Hello from B\"\n\nclass C(A):\n    def greet(self):\n        return \"Hello from C\"\n\nclass D(B, C):\n    pass\n\n# Create an instance of D\nd = D()\nprint(d.greet())  # Which greet method is called?\nprint(D.mro())    # Check the method resolution order\n",
      "metadata": {
        "trusted": true
      },
      "outputs": [
        {
          "name": "stdout",
          "text": "Hello from B\n[<class '__main__.D'>, <class '__main__.B'>, <class '__main__.C'>, <class '__main__.A'>, <class 'object'>]\n",
          "output_type": "stream"
        }
      ],
      "execution_count": 17
    },
    {
      "cell_type": "markdown",
      "source": "q14.. Write a class method that keeps track of the number of instances created from a class.",
      "metadata": {}
    },
    {
      "cell_type": "code",
      "source": "class InstanceCounter:\n    instance_count = 0 \n\n    def __init__(self):\n        InstanceCounter.instance_count += 1 \n\n    @classmethod\n    def get_instance_count(cls):\n        return cls.instance_count \n\nobj1 = InstanceCounter()\nobj2 = InstanceCounter()\nobj3 = InstanceCounter()\n\nprint(f\"Number of instances created: {InstanceCounter.get_instance_count()}\")",
      "metadata": {
        "trusted": true
      },
      "outputs": [
        {
          "name": "stdout",
          "text": "Number of instances created: 3\n",
          "output_type": "stream"
        }
      ],
      "execution_count": 18
    },
    {
      "cell_type": "markdown",
      "source": "q15. Implement a static method in a class that checks if a given year is a leap year.",
      "metadata": {}
    },
    {
      "cell_type": "code",
      "source": "class YearUtils:\n    @staticmethod\n    def is_leap_year(year):\n        \"\"\"Check if the given year is a leap year.\"\"\"\n        if (year % 4 == 0 and year % 100 != 0) or (year % 400 == 0):\n            return True\n        return False\n\nyear_to_check = 2024\nif YearUtils.is_leap_year(year_to_check):\n    print(f\"{year_to_check} is a leap year.\")\nelse:\n    print(f\"{year_to_check} is not a leap year.\")\n",
      "metadata": {
        "trusted": true
      },
      "outputs": [
        {
          "name": "stdout",
          "text": "2024 is a leap year.\n",
          "output_type": "stream"
        }
      ],
      "execution_count": 19
    },
    {
      "cell_type": "code",
      "source": "",
      "metadata": {
        "trusted": true
      },
      "outputs": [],
      "execution_count": null
    }
  ]
}