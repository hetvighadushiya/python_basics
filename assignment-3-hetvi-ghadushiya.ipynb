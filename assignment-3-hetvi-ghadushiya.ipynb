{
 "cells": [
  {
   "cell_type": "markdown",
   "id": "471cff7c-a438-4f7f-b235-9f8b8af74348",
   "metadata": {},
   "source": [
    "Q1 Write a code to reverse a string"
   ]
  },
  {
   "cell_type": "code",
   "execution_count": 1,
   "id": "15753401-4987-4294-b733-1a00f2ee0fcf",
   "metadata": {},
   "outputs": [
    {
     "data": {
      "text/plain": [
       "'!ivteH ,olleH'"
      ]
     },
     "execution_count": 1,
     "metadata": {},
     "output_type": "execute_result"
    }
   ],
   "source": [
    "# Define the string\n",
    "input_string = \"Hello, Hetvi!\"\n",
    "\n",
    "# Reverse the string\n",
    "reversed_string = input_string[::-1]\n",
    "\n",
    "# Display the reversed string\n",
    "reversed_string\n"
   ]
  },
  {
   "cell_type": "markdown",
   "id": "da80960b-689a-4593-8f8a-3ab1dc576e70",
   "metadata": {},
   "source": [
    "q2 Write a code to count the number of vowels in a string"
   ]
  },
  {
   "cell_type": "code",
   "execution_count": 2,
   "id": "99a72a97-851e-40ab-be0b-7216df9a08f2",
   "metadata": {},
   "outputs": [
    {
     "data": {
      "text/plain": [
       "4"
      ]
     },
     "execution_count": 2,
     "metadata": {},
     "output_type": "execute_result"
    }
   ],
   "source": [
    "# Define the string\n",
    "input_string = \"Hello, Hetvi!\"\n",
    "\n",
    "vowels = \"aeiouAEIOU\"\n",
    "vowel_count = sum(1 for char in input_string if char in vowels)\n",
    "vowel_count\n"
   ]
  },
  {
   "cell_type": "markdown",
   "id": "35526abb-1e7e-4595-a5f9-76cb5b2148c7",
   "metadata": {},
   "source": [
    "q3 Write a code to check if a given string is a palindrome or not"
   ]
  },
  {
   "cell_type": "code",
   "execution_count": 4,
   "id": "13c23013-0db6-43b2-bfdf-0002da576783",
   "metadata": {},
   "outputs": [
    {
     "data": {
      "text/plain": [
       "True"
      ]
     },
     "execution_count": 4,
     "metadata": {},
     "output_type": "execute_result"
    }
   ],
   "source": [
    "input_string = \"racecar\"\n",
    "is_palindrome = input_string == input_string[::-1]\n",
    "is_palindrome"
   ]
  },
  {
   "cell_type": "markdown",
   "id": "c16a9139-61e0-4964-8316-3329b6be1a65",
   "metadata": {},
   "source": [
    "q4 Write a code to check if two given strings are anagrams of each other"
   ]
  },
  {
   "cell_type": "code",
   "execution_count": 5,
   "id": "b3b6447a-44b9-45f2-8eaf-c455b8f40945",
   "metadata": {},
   "outputs": [
    {
     "data": {
      "text/plain": [
       "True"
      ]
     },
     "execution_count": 5,
     "metadata": {},
     "output_type": "execute_result"
    }
   ],
   "source": [
    "string1 = \"listen\"\n",
    "string2 = \"silent\"\n",
    "are_anagrams = sorted(string1) == sorted(string2)\n",
    "are_anagrams"
   ]
  },
  {
   "cell_type": "markdown",
   "id": "3cd429c8-c45c-4bc2-b57e-98da9727ff78",
   "metadata": {},
   "source": [
    "q5 Write a code to find all occurrences of a given substring within another string"
   ]
  },
  {
   "cell_type": "code",
   "execution_count": 6,
   "id": "062a066a-01fd-4847-bca3-b21b4ee79d63",
   "metadata": {},
   "outputs": [
    {
     "name": "stdout",
     "output_type": "stream",
     "text": [
      "[17, 31]\n"
     ]
    }
   ],
   "source": [
    "def find_substring_occurrences(text, substring):\n",
    "    occurrences = []\n",
    "    start = 0\n",
    "    \n",
    "    while True:\n",
    "        start = text.find(substring, start)\n",
    "        if start == -1:\n",
    "            break\n",
    "        occurrences.append(start)\n",
    "        start += len(substring)\n",
    "    \n",
    "    return occurrences\n",
    "\n",
    "# Example usage\n",
    "text = \"This is a simple example. This example is just for demonstration.\"\n",
    "substring = \"example\"\n",
    "\n",
    "print(find_substring_occurrences(text, substring))\n"
   ]
  },
  {
   "cell_type": "markdown",
   "id": "d7e39938-f881-4046-80d6-c1386f4b827d",
   "metadata": {},
   "source": [
    "q6 Write a code to perform basic string compression using the counts of repeated characters"
   ]
  },
  {
   "cell_type": "code",
   "execution_count": 8,
   "id": "e0c84b49-a7a1-4241-88df-2fc09b33243b",
   "metadata": {},
   "outputs": [
    {
     "name": "stdout",
     "output_type": "stream",
     "text": [
      "a3b3c3a3\n"
     ]
    }
   ],
   "source": [
    "def compress_string(s):\n",
    "    if not s:\n",
    "        return s\n",
    "    \n",
    "    compressed = \"\"\n",
    "    count = 1\n",
    "    \n",
    "    for i in range(1, len(s)):\n",
    "        if s[i] == s[i - 1]:\n",
    "            count += 1\n",
    "        else:\n",
    "            compressed += s[i - 1] + str(count)\n",
    "            count = 1\n",
    "    \n",
    "    compressed += s[-1] + str(count)\n",
    "    \n",
    "    return compressed if len(compressed) < len(s) else s\n",
    "\n",
    "input_string = \"aaabbbcccaaa\"\n",
    "print(compress_string(input_string))\n"
   ]
  },
  {
   "cell_type": "markdown",
   "id": "5d421e65-f7b7-47c4-9efc-1e51f9be464f",
   "metadata": {},
   "source": [
    "q7 Write a code to determine if a string has all unique characters"
   ]
  },
  {
   "cell_type": "code",
   "execution_count": 9,
   "id": "abaa98bd-59db-4cdf-9832-618bb72acf65",
   "metadata": {},
   "outputs": [
    {
     "name": "stdout",
     "output_type": "stream",
     "text": [
      "True\n",
      "False\n"
     ]
    }
   ],
   "source": [
    "def has_unique_characters(s):\n",
    "    return len(s) == len(set(s))\n",
    "\n",
    "input_string = \"abcdef\"\n",
    "print(has_unique_characters(input_string))\n",
    "\n",
    "input_string = \"aabbcc\"\n",
    "print(has_unique_characters(input_string))\n"
   ]
  },
  {
   "cell_type": "markdown",
   "id": "e6e4af0a-52f9-4318-8842-06ba8e7bfdc0",
   "metadata": {},
   "source": [
    "q8 Write a code to convert a given string to uppercase or lowercase"
   ]
  },
  {
   "cell_type": "code",
   "execution_count": 10,
   "id": "375e4689-d449-4479-be5e-033a04430775",
   "metadata": {},
   "outputs": [
    {
     "name": "stdout",
     "output_type": "stream",
     "text": [
      "Uppercase: HELLO, WORLD!\n",
      "Lowercase: hello, world!\n"
     ]
    }
   ],
   "source": [
    "def convert_case(s, to_upper=True):\n",
    "    if to_upper:\n",
    "        return s.upper()\n",
    "    else:\n",
    "        return s.lower()\n",
    "\n",
    "# Example usage\n",
    "input_string = \"Hello, World!\"\n",
    "\n",
    "print(\"Uppercase:\", convert_case(input_string, to_upper=True)) \n",
    "print(\"Lowercase:\", convert_case(input_string, to_upper=False)) "
   ]
  },
  {
   "cell_type": "markdown",
   "id": "769ee089-2c36-44e8-ba2f-c30c8432df85",
   "metadata": {},
   "source": [
    "q9 Write a code to count the number of words in a string"
   ]
  },
  {
   "cell_type": "code",
   "execution_count": 11,
   "id": "03e43d3d-a207-4348-bf8f-9586aabbc194",
   "metadata": {},
   "outputs": [
    {
     "name": "stdout",
     "output_type": "stream",
     "text": [
      "Number of words: 5\n"
     ]
    }
   ],
   "source": [
    "def count_words(s):\n",
    "    words = s.split()\n",
    "    return len(words)\n",
    "\n",
    "input_string = \"Hello, how are you today?\"\n",
    "print(\"Number of words:\", count_words(input_string))"
   ]
  },
  {
   "cell_type": "markdown",
   "id": "11c05b21-867a-4b92-815e-736e2e496930",
   "metadata": {},
   "source": [
    "q10 Write a code to concatenate two strings without using the + operator"
   ]
  },
  {
   "cell_type": "code",
   "execution_count": 12,
   "id": "87c98007-78bf-45a4-896b-3597ea83d4b9",
   "metadata": {},
   "outputs": [
    {
     "name": "stdout",
     "output_type": "stream",
     "text": [
      "Hello, World!\n"
     ]
    }
   ],
   "source": [
    "def concatenate_strings(s1, s2):\n",
    "    return ''.join([s1, s2])\n",
    "str1 = \"Hello, \"\n",
    "str2 = \"World!\"\n",
    "print(concatenate_strings(str1, str2)) \n"
   ]
  },
  {
   "cell_type": "markdown",
   "id": "8b93ed6f-d113-4967-8821-e4cb140f7ad4",
   "metadata": {},
   "source": [
    "q11 Write a code to remove all occurrences of a specific element from a list"
   ]
  },
  {
   "cell_type": "code",
   "execution_count": 13,
   "id": "0d713e10-0691-4048-8a51-018ff1a31518",
   "metadata": {},
   "outputs": [
    {
     "name": "stdout",
     "output_type": "stream",
     "text": [
      "[1, 3, 4, 5]\n"
     ]
    }
   ],
   "source": [
    "def remove_element(lst, element_to_remove):\n",
    "    return [x for x in lst if x != element_to_remove]\n",
    "\n",
    "my_list = [1, 2, 3, 4, 2, 5, 2]\n",
    "element = 2\n",
    "print(remove_element(my_list, element)) \n"
   ]
  },
  {
   "cell_type": "markdown",
   "id": "b5caa801-c3f8-4ec2-b9da-707ea4b8f930",
   "metadata": {},
   "source": [
    "q12 Implement a code to find the second largest number in a given list of integers"
   ]
  },
  {
   "cell_type": "code",
   "execution_count": 14,
   "id": "b44081fc-edef-4b4c-8ae1-0297d94bd2fe",
   "metadata": {},
   "outputs": [
    {
     "name": "stdout",
     "output_type": "stream",
     "text": [
      "Second largest number: 45\n"
     ]
    }
   ],
   "source": [
    "def find_second_largest(numbers):\n",
    "    if len(numbers) < 2:\n",
    "        raise ValueError(\"List must contain at least two elements\")\n",
    "    \n",
    "    largest = second_largest = float('-inf')\n",
    "    \n",
    "    for num in numbers:\n",
    "        if num > largest:\n",
    "            second_largest = largest\n",
    "            largest = num\n",
    "        elif largest > num > second_largest:\n",
    "            second_largest = num\n",
    "    \n",
    "    if second_largest == float('-inf'):\n",
    "        raise ValueError(\"List must contain at least two distinct elements\")\n",
    "    \n",
    "    return second_largest\n",
    "\n",
    "numbers = [10, 20, 4, 45, 99, 45]\n",
    "print(\"Second largest number:\", find_second_largest(numbers))\n"
   ]
  },
  {
   "cell_type": "markdown",
   "id": "cfa29c2f-cf29-4e7c-bcaa-ed31d19c80ae",
   "metadata": {},
   "source": [
    "q13 Create a code to count the occurrences of each element in a list and return a dictionary with elements as keys and their counts as values"
   ]
  },
  {
   "cell_type": "code",
   "execution_count": 15,
   "id": "0cfa8f1d-1589-4154-a0a7-c8f87c94983f",
   "metadata": {},
   "outputs": [
    {
     "name": "stdout",
     "output_type": "stream",
     "text": [
      "{1: 1, 2: 2, 3: 3, 4: 1}\n"
     ]
    }
   ],
   "source": [
    "def count_occurrences(lst):\n",
    "    counts = {}\n",
    "    for element in lst:\n",
    "        if element in counts:\n",
    "            counts[element] += 1\n",
    "        else:\n",
    "            counts[element] = 1\n",
    "    return counts\n",
    "\n",
    "my_list = [1, 2, 2, 3, 3, 3, 4]\n",
    "print(count_occurrences(my_list))"
   ]
  },
  {
   "cell_type": "markdown",
   "id": "450911fb-233c-4e26-804a-f3a52c4115fc",
   "metadata": {},
   "source": [
    "q14 Write a code to reverse a list in-place without using any built-in reverse functions"
   ]
  },
  {
   "cell_type": "code",
   "execution_count": 16,
   "id": "b279d288-31b4-4b4b-bb20-bc1e98939283",
   "metadata": {},
   "outputs": [
    {
     "name": "stdout",
     "output_type": "stream",
     "text": [
      "[5, 4, 3, 2, 1]\n"
     ]
    }
   ],
   "source": [
    "def reverse_list(lst):\n",
    "    left = 0\n",
    "    right = len(lst) - 1\n",
    "    \n",
    "    while left < right:\n",
    "        lst[left], lst[right] = lst[right], lst[left]\n",
    "        left += 1\n",
    "        right -= 1\n",
    "\n",
    "my_list = [1, 2, 3, 4, 5]\n",
    "reverse_list(my_list)\n",
    "print(my_list) "
   ]
  },
  {
   "cell_type": "markdown",
   "id": "793a8f47-2334-432a-992f-08d3d00d949f",
   "metadata": {},
   "source": [
    "q15 Implement a code to find and remove duplicates from a list while preserving the original order of elements"
   ]
  },
  {
   "cell_type": "code",
   "execution_count": 17,
   "id": "4e9012d2-34fd-466b-a284-6c548d19385a",
   "metadata": {},
   "outputs": [
    {
     "name": "stdout",
     "output_type": "stream",
     "text": [
      "[1, 2, 3, 4, 5]\n"
     ]
    }
   ],
   "source": [
    "def remove_duplicates(lst):\n",
    "    seen = set()\n",
    "    result = []\n",
    "    \n",
    "    for item in lst:\n",
    "        if item not in seen:\n",
    "            result.append(item)\n",
    "            seen.add(item)\n",
    "    \n",
    "    return result\n",
    "\n",
    "my_list = [1, 2, 2, 3, 4, 4, 5]\n",
    "print(remove_duplicates(my_list))\n"
   ]
  },
  {
   "cell_type": "markdown",
   "id": "c718396c-53b9-467d-8114-97d987c85bce",
   "metadata": {},
   "source": [
    "q16 Create a code to check if a given list is sorted (either in ascending or descending order) or not"
   ]
  },
  {
   "cell_type": "code",
   "execution_count": 18,
   "id": "c524c7e5-a138-4243-b4da-e16a60146204",
   "metadata": {},
   "outputs": [
    {
     "name": "stdout",
     "output_type": "stream",
     "text": [
      "True\n",
      "True\n",
      "False\n",
      "True\n"
     ]
    }
   ],
   "source": [
    "def is_sorted(lst):\n",
    "    if not lst:\n",
    "        return True\n",
    "    \n",
    "    ascending = all(lst[i] <= lst[i + 1] for i in range(len(lst) - 1))\n",
    "    descending = all(lst[i] >= lst[i + 1] for i in range(len(lst) - 1))\n",
    "    \n",
    "    return ascending or descending\n",
    "\n",
    "# Example usage\n",
    "print(is_sorted([1, 2, 3, 4, 5]))\n",
    "print(is_sorted([5, 4, 3, 2, 1])) \n",
    "print(is_sorted([1, 3, 2, 4, 5])) \n",
    "print(is_sorted([]))               "
   ]
  },
  {
   "cell_type": "markdown",
   "id": "50f2346e-737a-4158-985e-6c5337ce07ff",
   "metadata": {},
   "source": [
    "q17 Write a code to merge two sorted lists into a single sorted list"
   ]
  },
  {
   "cell_type": "code",
   "execution_count": 19,
   "id": "9c8c93cf-ee17-4e0a-9113-4f1592ba44be",
   "metadata": {},
   "outputs": [
    {
     "name": "stdout",
     "output_type": "stream",
     "text": [
      "Merged List: [1, 2, 3, 4, 5, 6, 7, 8, 9, 10]\n"
     ]
    }
   ],
   "source": [
    "list1 = [1, 3, 5, 7, 9]\n",
    "list2 = [2, 4, 6, 8, 10]\n",
    "\n",
    "def merge_sorted_lists(l1, l2):\n",
    "    merged_list = []\n",
    "    i = j = 0\n",
    "    \n",
    "    while i < len(l1) and j < len(l2):\n",
    "        if l1[i] < l2[j]:\n",
    "            merged_list.append(l1[i])\n",
    "            i += 1\n",
    "        else:\n",
    "            merged_list.append(l2[j])\n",
    "            j += 1\n",
    "    \n",
    "    while i < len(l1):\n",
    "        merged_list.append(l1[i])\n",
    "        i += 1\n",
    "    \n",
    "    while j < len(l2):\n",
    "        merged_list.append(l2[j])\n",
    "        j += 1\n",
    "    \n",
    "    return merged_list\n",
    "\n",
    "result = merge_sorted_lists(list1, list2)\n",
    "\n",
    "print(\"Merged List:\", result)"
   ]
  },
  {
   "cell_type": "markdown",
   "id": "c0ab756e-3d9e-41a6-9ec2-0f378f78d0a2",
   "metadata": {},
   "source": [
    "q18 Implement a code to find the intersection of two given lists"
   ]
  },
  {
   "cell_type": "code",
   "execution_count": 20,
   "id": "c4a04d3c-1240-4a78-90f5-80ba7150e67b",
   "metadata": {},
   "outputs": [
    {
     "name": "stdout",
     "output_type": "stream",
     "text": [
      "Intersection: [9, 5]\n"
     ]
    }
   ],
   "source": [
    "list1 = [1, 3, 5, 7, 9]\n",
    "list2 = [2, 4, 5, 6, 9]\n",
    "\n",
    "def find_intersection(l1, l2):\n",
    "    set1 = set(l1)\n",
    "    set2 = set(l2)\n",
    "    intersection = set1 & set2\n",
    "    return list(intersection)\n",
    "\n",
    "result = find_intersection(list1, list2)\n",
    "\n",
    "print(\"Intersection:\", result)"
   ]
  },
  {
   "cell_type": "markdown",
   "id": "e5526d43-c213-4736-9c7e-75b134e50ec6",
   "metadata": {},
   "source": [
    "q19 Create a code to find the union of two lists without duplicates"
   ]
  },
  {
   "cell_type": "code",
   "execution_count": 21,
   "id": "d3a21671-b8ee-41a6-8c9c-4f543c15db33",
   "metadata": {},
   "outputs": [
    {
     "name": "stdout",
     "output_type": "stream",
     "text": [
      "Union: [1, 2, 3, 4, 5, 6, 7, 9]\n"
     ]
    }
   ],
   "source": [
    "list1 = [1, 3, 5, 7, 9]\n",
    "list2 = [2, 4, 5, 6, 9]\n",
    "\n",
    "def find_union(l1, l2):\n",
    "    set1 = set(l1)\n",
    "    set2 = set(l2)\n",
    "    union = set1 | set2\n",
    "    return list(union)\n",
    "\n",
    "result = find_union(list1, list2)\n",
    "\n",
    "print(\"Union:\", result)"
   ]
  },
  {
   "cell_type": "markdown",
   "id": "59b65422-f5c2-40fe-8f31-97908586e327",
   "metadata": {},
   "source": [
    "q20 Write a code to shuffle a given list randomly without using any built-in shuffle functions"
   ]
  },
  {
   "cell_type": "code",
   "execution_count": 22,
   "id": "4f034b42-88c7-40d1-b449-3f07133906c7",
   "metadata": {},
   "outputs": [
    {
     "name": "stdout",
     "output_type": "stream",
     "text": [
      "Original List: [1, 2, 3, 4, 5]\n",
      "Shuffled List: [1, 4, 2, 5, 3]\n"
     ]
    }
   ],
   "source": [
    "import random\n",
    "\n",
    "def shuffle_list(lst):\n",
    "    n = len(lst)\n",
    "    for i in range(n - 1, 0, -1):\n",
    "        j = random.randint(0, i)\n",
    "        lst[i], lst[j] = lst[j], lst[i]\n",
    "    return lst\n",
    "\n",
    "my_list = [1, 2, 3, 4, 5]\n",
    "shuffled_list = shuffle_list(my_list.copy())\n",
    "\n",
    "print(\"Original List:\", my_list)\n",
    "print(\"Shuffled List:\", shuffled_list)"
   ]
  },
  {
   "cell_type": "markdown",
   "id": "7ae90c0c-a35a-47f0-b8a8-aae0bd6c184b",
   "metadata": {},
   "source": [
    "q21 Write a code that takes two tuples as input and returns a new tuple containing elements that are common to both input tuples"
   ]
  },
  {
   "cell_type": "code",
   "execution_count": 24,
   "id": "e8a64f09-e9b3-427a-b161-25dd03e399a5",
   "metadata": {},
   "outputs": [
    {
     "name": "stdout",
     "output_type": "stream",
     "text": [
      "Tuple 1: (1, 2, 3, 4, 5)\n",
      "Tuple 2: (4, 5, 6, 7, 8)\n",
      "Common Elements: (4, 5)\n"
     ]
    }
   ],
   "source": [
    "def intersection_of_tuples(t1, t2):\n",
    "    set1 = set(t1)\n",
    "    set2 = set(t2)\n",
    "    common_elements = set1 & set2\n",
    "    return tuple(common_elements)\n",
    "\n",
    "tuple1 = (1, 2, 3, 4, 5)\n",
    "tuple2 = (4, 5, 6, 7, 8)\n",
    "result = intersection_of_tuples(tuple1, tuple2)\n",
    "\n",
    "print(\"Tuple 1:\", tuple1)\n",
    "print(\"Tuple 2:\", tuple2)\n",
    "print(\"Common Elements:\", result)"
   ]
  },
  {
   "cell_type": "markdown",
   "id": "c12df9e7-50e0-4adf-9195-4cbcf06a1715",
   "metadata": {},
   "source": [
    "q22 Create a code that prompts the user to enter two sets of integers separated by commas. Then, print the intersection of these two sets"
   ]
  },
  {
   "cell_type": "code",
   "execution_count": null,
   "id": "444a9d79-0743-453e-a1cc-cedaa3de9bfd",
   "metadata": {},
   "outputs": [
    {
     "name": "stdout",
     "output_type": "stream",
     "text": [
      "Enter the first set of integers separated by commas (e.g., 1,2,3):\n"
     ]
    }
   ],
   "source": [
    "def get_set_from_input(prompt):\n",
    "    user_input = input(prompt)\n",
    "    return set(map(int, user_input.split(',')))\n",
    "\n",
    "def main():\n",
    "    print(\"Enter the first set of integers separated by commas (e.g., 1,2,3):\")\n",
    "    set1 = get_set_from_input(\"First set: \")\n",
    "    \n",
    "    print(\"Enter the second set of integers separated by commas (e.g., 4,5,6):\")\n",
    "    set2 = get_set_from_input(\"Second set: \")\n",
    "    \n",
    "    intersection = set1 & set2\n",
    "    \n",
    "    print(\"Intersection of the two sets:\", intersection)\n",
    "\n",
    "if __name__ == \"__main__\":\n",
    "    main()"
   ]
  },
  {
   "cell_type": "markdown",
   "id": "7e342877-f244-4212-bae0-1421c938dbdf",
   "metadata": {},
   "source": [
    "q23 Write a code to concatenate two tuples. The function should take two tuples as input and return a new tuple containing elements from both input tuples"
   ]
  },
  {
   "cell_type": "code",
   "execution_count": null,
   "id": "19f8f206-d1c3-434a-96cb-c14147d13627",
   "metadata": {},
   "outputs": [],
   "source": [
    "def concatenate_tuples(t1, t2):\n",
    "    return t1 + t2\n",
    "\n",
    "tuple1 = (1, 2, 3)\n",
    "tuple2 = (4, 5, 6)\n",
    "result = concatenate_tuples(tuple1, tuple2)\n",
    "\n",
    "print(\"Tuple 1:\", tuple1)\n",
    "print(\"Tuple 2:\", tuple2)\n",
    "print(\"Concatenated Tuple:\", result)"
   ]
  },
  {
   "cell_type": "markdown",
   "id": "d34df221-66e2-489b-9ad3-7f0995a84132",
   "metadata": {},
   "source": [
    "q24 Develop a code that prompts the user to input two sets of strings. Then, print the elements that are present in the first set but not in the second set "
   ]
  },
  {
   "cell_type": "code",
   "execution_count": null,
   "id": "b126b837-7517-4e51-877b-bf397ed104ad",
   "metadata": {},
   "outputs": [],
   "source": [
    "def get_set_from_input(prompt):\n",
    "    user_input = input(prompt)\n",
    "    # Convert the input string to a set of strings\n",
    "    return set(user_input.split(','))\n",
    "\n",
    "def main():\n",
    "    print(\"Enter the first set of strings separated by commas (e.g., a,b,c):\")\n",
    "    set1 = get_set_from_input(\"First set: \")\n",
    "    \n",
    "    print(\"Enter the second set of strings separated by commas (e.g., d,e,f):\")\n",
    "    set2 = get_set_from_input(\"Second set: \")\n",
    "    difference = set1 - set2\n",
    "    \n",
    "    print(\"Elements present in the first set but not in the second set:\", difference)\n",
    "\n",
    "if __name__ == \"__main__\":\n",
    "    main()\n"
   ]
  },
  {
   "cell_type": "markdown",
   "id": "eb8ce261-306b-4dad-b095-ffeee4a2ac98",
   "metadata": {},
   "source": [
    "q25 Create a code that takes a tuple and two integers as input. The function should return a new tuple containing elements from the original tuple within the specified range of indices"
   ]
  },
  {
   "cell_type": "code",
   "execution_count": null,
   "id": "e5b88892-39b5-4bc3-8bae-db09572c2457",
   "metadata": {},
   "outputs": [],
   "source": [
    "def slice_tuple(t, start, end):\n",
    "    if end > len(t):\n",
    "        end = len(t)\n",
    "    return t[start:end]\n",
    "\n",
    "original_tuple = (10, 20, 30, 40, 50, 60)\n",
    "start_index = 2\n",
    "end_index = 5\n",
    "\n",
    "result = slice_tuple(original_tuple, start_index, end_index)\n",
    "\n",
    "print(\"Original Tuple:\", original_tuple)\n",
    "print(\"Sliced Tuple:\", result)"
   ]
  },
  {
   "cell_type": "markdown",
   "id": "e559d543-709d-43c9-9d20-75e3099dbb59",
   "metadata": {},
   "source": [
    "q26 Write a code that prompts the user to input two sets of characters. Then, print the union of these two sets"
   ]
  },
  {
   "cell_type": "code",
   "execution_count": null,
   "id": "e776a79e-7a2e-4b2a-8b11-67fefa2385b6",
   "metadata": {},
   "outputs": [],
   "source": [
    "def get_set_from_input(prompt):\n",
    "    user_input = input(prompt)\n",
    "    return set(user_input)\n",
    "\n",
    "def main():\n",
    "    print(\"Enter the first set of characters:\")\n",
    "    set1 = get_set_from_input(\"First set: \")\n",
    "    \n",
    "    print(\"Enter the second set of characters:\")\n",
    "    set2 = get_set_from_input(\"Second set: \")\n",
    "    \n",
    "    union = set1 | set2\n",
    "    print(\"Union of the two sets:\", union)\n",
    "\n",
    "if __name__ == \"__main__\":\n",
    "    main()\n"
   ]
  },
  {
   "cell_type": "markdown",
   "id": "dcecca3a-dcf6-49c2-9dc2-ec46ee134427",
   "metadata": {},
   "source": [
    "q27 Develop a code that takes a tuple of integers as input. The function should return the maximum and minimum values from the tuple using tuple unpacking"
   ]
  },
  {
   "cell_type": "code",
   "execution_count": null,
   "id": "81cb9f06-3946-45b3-8f46-d09903392ea3",
   "metadata": {},
   "outputs": [],
   "source": [
    "def find_max_min(t):\n",
    "    max_value = max(t)\n",
    "    min_value = min(t)\n",
    "    return max_value, min_value\n",
    "\n",
    "input_tuple = (10, 20, 4, 45, 99, 1)\n",
    "max_val, min_val = find_max_min(input_tuple)\n",
    "\n",
    "print(\"Input Tuple:\", input_tuple)\n",
    "print(\"Maximum Value:\", max_val)\n",
    "print(\"Minimum Value:\", min_val)\n"
   ]
  },
  {
   "cell_type": "markdown",
   "id": "4c620bff-23ac-4e97-bc95-174cb509010c",
   "metadata": {},
   "source": [
    "q28 Create a code that defines two sets of integers. Then, print the union, intersection, and difference of these two sets "
   ]
  },
  {
   "cell_type": "code",
   "execution_count": null,
   "id": "c1b58c06-6edc-43a6-93a9-a6c6fc765613",
   "metadata": {},
   "outputs": [],
   "source": [
    "set1 = {1, 2, 3, 4, 5}\n",
    "set2 = {4, 5, 6, 7, 8}\n",
    "union = set1 | set2\n",
    "intersection = set1 & set2\n",
    "difference = set1 - set2\n",
    "\n",
    "print(\"Set 1:\", set1)\n",
    "print(\"Set 2:\", set2)\n",
    "print(\"Union of Set 1 and Set 2:\", union)\n",
    "print(\"Intersection of Set 1 and Set 2:\", intersection)\n",
    "print(\"Difference of Set 1 and Set 2 (Set 1 - Set 2):\", difference)\n"
   ]
  },
  {
   "cell_type": "markdown",
   "id": "4d631be3-b964-4cf1-baff-720f072102f7",
   "metadata": {},
   "source": [
    "q29 Write a code that takes a tuple and an element as input. The function should return the count of occurrences of the given element in the tuple"
   ]
  },
  {
   "cell_type": "code",
   "execution_count": null,
   "id": "034b42e2-51a8-4ec6-bcf3-7d86d9b4f0e2",
   "metadata": {},
   "outputs": [],
   "source": [
    "def count_element_in_tuple(t, element):\n",
    "    count = t.count(element)\n",
    "    return count\n",
    "\n",
    "input_tuple = (1, 2, 3, 4, 2, 2, 5)\n",
    "element_to_count = 2\n",
    "\n",
    "count = count_element_in_tuple(input_tuple, element_to_count)\n",
    "\n",
    "print(\"Input Tuple:\", input_tuple)\n",
    "print(f\"Count of element {element_to_count}:\", count)\n"
   ]
  },
  {
   "cell_type": "markdown",
   "id": "49527932-a05b-4462-8521-32453ac9b737",
   "metadata": {},
   "source": [
    "q30 Develop a code that prompts the user to input two sets of strings. Then, print the symmetric difference of these two sets"
   ]
  },
  {
   "cell_type": "code",
   "execution_count": null,
   "id": "dfbd3049-3a24-46f4-bc7b-5fc529b8a5b7",
   "metadata": {},
   "outputs": [],
   "source": [
    "def get_set_from_input(prompt):\n",
    "    user_input = input(prompt)\n",
    "    return set(user_input.split(','))\n",
    "\n",
    "def main():\n",
    "    print(\"Enter the first set of strings separated by commas (e.g., a,b,c):\")\n",
    "    set1 = get_set_from_input(\"First set: \")\n",
    "    \n",
    "    print(\"Enter the second set of strings separated by commas (e.g., d,e,f):\")\n",
    "    set2 = get_set_from_input(\"Second set: \")\n",
    "    \n",
    "    symmetric_difference = set1 ^ set2\n",
    "    \n",
    "    print(\"Symmetric Difference of the two sets:\", symmetric_difference)\n",
    "\n",
    "if __name__ == \"__main__\":\n",
    "    main()"
   ]
  },
  {
   "cell_type": "markdown",
   "id": "e60c1840-21e7-4614-8f1e-979ef2cbbf10",
   "metadata": {},
   "source": [
    "q31 Write a code that takes a list of words as input and returns a dictionary where the keys are unique words and the values are the frequencies of those words in the input list"
   ]
  },
  {
   "cell_type": "code",
   "execution_count": null,
   "id": "6e311157-7751-485f-b0b9-401161ff8c4f",
   "metadata": {},
   "outputs": [],
   "source": [
    "def count_word_frequencies(words):\n",
    "    frequency_dict = {}\n",
    "    for word in words:\n",
    "        if word in frequency_dict:\n",
    "            frequency_dict[word] += 1\n",
    "        else:\n",
    "            frequency_dict[word] = 1\n",
    "    return frequency_dict\n",
    "\n",
    "def main():\n",
    "    input_string = input(\"Enter a list of words separated by spaces: \")\n",
    "    words = input_string.split()\n",
    "    word_frequencies = count_word_frequencies(words)\n",
    "    print(\"Word Frequencies:\", word_frequencies)\n",
    "\n",
    "if __name__ == \"__main__\":\n",
    "    main()\n"
   ]
  },
  {
   "cell_type": "markdown",
   "id": "af84dbdb-8e6c-4059-ae57-fb5bdf169b6e",
   "metadata": {},
   "source": [
    "q32 Write a code that takes two dictionaries as input and merges them into a single dictionary. If there are common keys, the values should be added together"
   ]
  },
  {
   "cell_type": "code",
   "execution_count": null,
   "id": "0e9cf56f-05f9-4999-be2e-dd0820f818b9",
   "metadata": {},
   "outputs": [],
   "source": [
    "def merge_dictionaries(dict1, dict2):\n",
    "    result = dict1.copy()\n",
    "    for key, value in dict2.items():\n",
    "        if key in result:\n",
    "            result[key] += value\n",
    "        else:\n",
    "            result[key] = value\n",
    "    return result\n",
    "\n",
    "def main():\n",
    "    dict1 = eval(input(\"Enter the first dictionary (e.g., {'a': 1, 'b': 2}): \"))\n",
    "    dict2 = eval(input(\"Enter the second dictionary (e.g., {'b': 3, 'c': 4}): \"))\n",
    "    \n",
    "    merged_dict = merge_dictionaries(dict1, dict2)\n",
    "    \n",
    "    print(\"Merged Dictionary:\", merged_dict)\n",
    "\n",
    "if __name__ == \"__main__\":\n",
    "    main()"
   ]
  },
  {
   "cell_type": "markdown",
   "id": "acf19940-8d5f-44a5-9997-e0292ffaa8b1",
   "metadata": {},
   "source": [
    "q33 Write a code to access a value in a nested dictionary. The function should take the dictionary and a list of keys as input, and return the corresponding value. If any of the keys do not exist in the dictionary, the function should return None"
   ]
  },
  {
   "cell_type": "code",
   "execution_count": null,
   "id": "50f53fa1-d186-4c89-aa09-0d4839657233",
   "metadata": {},
   "outputs": [],
   "source": [
    "def access_nested_value(d, keys):\n",
    "    current = d\n",
    "    for key in keys:\n",
    "        if isinstance(current, dict) and key in current:\n",
    "            current = current[key]\n",
    "        else:\n",
    "            return None\n",
    "    return current\n",
    "\n",
    "nested_dict = {\n",
    "    'a': {\n",
    "        'b': {\n",
    "            'c': 42\n",
    "        }\n",
    "    }\n",
    "}\n",
    "\n",
    "keys = ['a', 'b', 'c']\n",
    "value = access_nested_value(nested_dict, keys)\n",
    "\n",
    "print(\"Nested Dictionary:\", nested_dict)\n",
    "print(\"Value for keys\", keys, \":\", value)\n"
   ]
  },
  {
   "cell_type": "markdown",
   "id": "951819f7-fefd-4faa-b528-e5a701dbda1d",
   "metadata": {},
   "source": [
    "q34 Write a code that takes a dictionary as input and returns a sorted version of it based on the values. You can choose whether to sort in ascending or descending order"
   ]
  },
  {
   "cell_type": "code",
   "execution_count": null,
   "id": "af84477f-0b4c-4ec0-a85f-9a082a00cc1b",
   "metadata": {},
   "outputs": [],
   "source": [
    "def sort_dict_by_values(d, descending=False)\n",
    "    sorted_items = sorted(d.items(), key=lambda item: item[1], reverse=descending)\n",
    "    return dict(sorted_items)\n",
    "\n",
    "input_dict = {\n",
    "    'apple': 3,\n",
    "    'banana': 1,\n",
    "    'cherry': 2\n",
    "}\n",
    "\n",
    "sorted_dict_ascending = sort_dict_by_values(input_dict)\n",
    "print(\"Sorted Dictionary (Ascending):\", sorted_dict_ascending)\n",
    "\n",
    "sorted_dict_descending = sort_dict_by_values(input_dict, descending=True)\n",
    "print(\"Sorted Dictionary (Descending):\", sorted_dict_descending)\n"
   ]
  },
  {
   "cell_type": "markdown",
   "id": "711778c2-3a3e-40eb-8f68-1eec48edf71b",
   "metadata": {},
   "source": [
    "q35 Write a code that inverts a dictionary, swapping keys and values. Ensure that the inverted dictionary correctly handles cases where multiple keys have the same value by storing the keys as a list in the inverted dictionary."
   ]
  },
  {
   "cell_type": "code",
   "execution_count": null,
   "id": "a1bae5cc-82e6-41f2-a52b-06bafe8c0f39",
   "metadata": {},
   "outputs": [],
   "source": [
    "def invert_dictionary(d):\n",
    "    inverted_dict = {}\n",
    "    for key, value in d.items():\n",
    "        if value in inverted_dict:\n",
    "            inverted_dict[value].append(key)\n",
    "        else:\n",
    "            inverted_dict[value] = [key]\n",
    "    return inverted_dict\n",
    "\n",
    "# Example usage\n",
    "input_dict = {\n",
    "    'a': 1,\n",
    "    'b': 2,\n",
    "    'c': 1,\n",
    "    'd': 3\n",
    "}\n",
    "\n",
    "inverted_dict = invert_dictionary(input_dict)\n",
    "print(\"Inverted Dictionary:\", inverted_dict)\n"
   ]
  }
 ],
 "metadata": {
  "kernelspec": {
   "display_name": "Python 3 (ipykernel)",
   "language": "python",
   "name": "python3"
  },
  "language_info": {
   "codemirror_mode": {
    "name": "ipython",
    "version": 3
   },
   "file_extension": ".py",
   "mimetype": "text/x-python",
   "name": "python",
   "nbconvert_exporter": "python",
   "pygments_lexer": "ipython3",
   "version": "3.10.8"
  }
 },
 "nbformat": 4,
 "nbformat_minor": 5
}
