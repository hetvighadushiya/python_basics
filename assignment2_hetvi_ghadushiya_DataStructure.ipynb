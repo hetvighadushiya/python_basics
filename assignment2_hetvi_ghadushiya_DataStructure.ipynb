{
 "cells": [
  {
   "cell_type": "markdown",
   "id": "f5f7f566-bc01-4a05-a4c9-ae6d94185738",
   "metadata": {},
   "source": [
    "# Q1.String Slicing in Python\n",
    "\n",
    "# String slicing allows you to extract substrings from a string using the notation `string[start:stop:step]`.\n",
    "\n",
    "# Examples\n"
   ]
  },
  {
   "cell_type": "code",
   "execution_count": 12,
   "id": "ae68054c-3bea-44b7-a542-028559450b19",
   "metadata": {},
   "outputs": [
    {
     "name": "stdout",
     "output_type": "stream",
     "text": [
      "Hello\n"
     ]
    }
   ],
   "source": [
    "#1. **Basic Slicing**\n",
    "text = \"Hello, World!\"\n",
    "substring = text[0:5]\n",
    "print(substring) \n"
   ]
  },
  {
   "cell_type": "code",
   "execution_count": 11,
   "id": "53ad6db2-12b9-4e2c-adfc-3da3b3c47a68",
   "metadata": {},
   "outputs": [
    {
     "name": "stdout",
     "output_type": "stream",
     "text": [
      "Hello, World!\n"
     ]
    }
   ],
   "source": [
    "#2. **Omitting Start and Stop**\n",
    "whole_text = text[:]\n",
    "print(whole_text) \n"
   ]
  },
  {
   "cell_type": "code",
   "execution_count": 16,
   "id": "a057fe47-84d5-4c92-bc7e-22c003254a93",
   "metadata": {},
   "outputs": [
    {
     "name": "stdout",
     "output_type": "stream",
     "text": [
      "Hlo ol!\n"
     ]
    }
   ],
   "source": [
    "#3. **Using Step**\n",
    "step_text = text[::2]\n",
    "print(step_text) \n"
   ]
  },
  {
   "cell_type": "code",
   "execution_count": 15,
   "id": "31098b87-20a4-4ed4-8434-51d72a4b2a6a",
   "metadata": {},
   "outputs": [
    {
     "name": "stdout",
     "output_type": "stream",
     "text": [
      "ld!\n"
     ]
    }
   ],
   "source": [
    "#4. **Negative Indexing**\n",
    "last_three = text[-3:]\n",
    "print(last_three) "
   ]
  },
  {
   "cell_type": "code",
   "execution_count": 17,
   "id": "83932c40-e9f0-4cc5-a27c-175950b619b8",
   "metadata": {},
   "outputs": [
    {
     "name": "stdout",
     "output_type": "stream",
     "text": [
      "!dlroW ,olleH\n"
     ]
    }
   ],
   "source": [
    "#5. **Reversing a String**\n",
    "reversed_text = text[::-1]\n",
    "print(reversed_text) \n"
   ]
  },
  {
   "cell_type": "markdown",
   "id": "6e794e3f-d11c-427f-90c8-a57b60b52549",
   "metadata": {},
   "source": [
    "# q2 Key Features of Lists in Python\n",
    "\n"
   ]
  },
  {
   "cell_type": "code",
   "execution_count": 28,
   "id": "589df0be-4a8f-4962-87b7-8cc2fd38b4bb",
   "metadata": {},
   "outputs": [],
   "source": [
    "#Lists are a versatile and fundamental data structure in Python, useful for storing and manipulating collections of items."
   ]
  },
  {
   "cell_type": "code",
   "execution_count": 20,
   "id": "7d65d3f4-eeef-4571-a89b-8703ffe2ba4c",
   "metadata": {},
   "outputs": [],
   "source": [
    "#1. **Ordered**: Lists maintain the order of elements. The position of each element is determined by its index.\n",
    "fruits = ['apple', 'banana', 'cherry']"
   ]
  },
  {
   "cell_type": "code",
   "execution_count": 21,
   "id": "6c3422f1-c488-4c21-9a01-1cffa15498ee",
   "metadata": {},
   "outputs": [],
   "source": [
    "#2. Mutable: Lists can be changed after creation. You can modify, add, or remove elements.\n",
    "fruits[1] = 'blueberry'\n",
    "fruits.append('date')"
   ]
  },
  {
   "cell_type": "code",
   "execution_count": 22,
   "id": "2e7d1b14-5c27-4d15-b130-07be6ecb1037",
   "metadata": {},
   "outputs": [
    {
     "data": {
      "text/plain": [
       "'date'"
      ]
     },
     "execution_count": 22,
     "metadata": {},
     "output_type": "execute_result"
    }
   ],
   "source": [
    "#3. Dynamic Size: Lists can grow or shrink in size dynamically\n",
    "fruits.pop() \n"
   ]
  },
  {
   "cell_type": "code",
   "execution_count": 25,
   "id": "3d3fd47d-37c5-42c5-9a10-ac4c9fe6af63",
   "metadata": {},
   "outputs": [],
   "source": [
    "#4. Heterogeneous: Lists can contain elements of different data types, including other lists.\\\n",
    "mixed_list = [1, 'hello', 3.14, [1, 2, 3]]"
   ]
  },
  {
   "cell_type": "code",
   "execution_count": 24,
   "id": "16edaed8-ec00-42ee-89d2-74e2d948de6e",
   "metadata": {},
   "outputs": [],
   "source": [
    "#5. Indexing and Slicing: You can access elements and slices using indices.\n",
    "first_fruit = fruits[0] \n",
    "some_fruits = fruits[1:3] "
   ]
  },
  {
   "cell_type": "code",
   "execution_count": 26,
   "id": "026ce0f8-ae20-47b3-81bd-7deabcb34041",
   "metadata": {},
   "outputs": [
    {
     "name": "stdout",
     "output_type": "stream",
     "text": [
      "apple\n",
      "blueberry\n",
      "cherry\n"
     ]
    }
   ],
   "source": [
    "#6. Supports Iteration: Lists can be iterated over using loops.\n",
    "for fruit in fruits:\n",
    "    print(fruit)\n"
   ]
  },
  {
   "cell_type": "code",
   "execution_count": 27,
   "id": "e40ffce9-86c5-40a1-a4e2-b8833f6aa31c",
   "metadata": {},
   "outputs": [],
   "source": [
    "#7. Methods: Lists come with various built-in methods such as .append(), .remove(), .sort(), and .reverse().\n",
    "fruits.sort() \n"
   ]
  },
  {
   "cell_type": "markdown",
   "id": "392a4f89-f8af-4ec6-87d3-48c167b146a1",
   "metadata": {},
   "source": [
    "# q3 Describe how to access, modify, and delete elements in a list with examples"
   ]
  },
  {
   "cell_type": "code",
   "execution_count": 30,
   "id": "11d2f882-b006-4c27-9a9b-d042df7dbac5",
   "metadata": {},
   "outputs": [
    {
     "name": "stdout",
     "output_type": "stream",
     "text": [
      "apple\n",
      "cherry\n"
     ]
    }
   ],
   "source": [
    "# Accessing, Modifying, and Deleting List Elements\n",
    "\n",
    "## Accessing Elements\n",
    "\n",
    "#Use indexing to access elements:\n",
    "\n",
    "fruits = ['apple', 'banana', 'cherry']\n",
    "print(fruits[0])   \n",
    "print(fruits[-1])  \n"
   ]
  },
  {
   "cell_type": "code",
   "execution_count": 31,
   "id": "6b29c437-1fa8-41dd-a70f-eb42587a4857",
   "metadata": {},
   "outputs": [
    {
     "name": "stdout",
     "output_type": "stream",
     "text": [
      "['apple', 'blueberry', 'cherry']\n"
     ]
    }
   ],
   "source": [
    "s# Modifying Elements\n",
    "# Change elements by index:\n",
    "\n",
    "fruits[1] = 'blueberry'\n",
    "print(fruits)    "
   ]
  },
  {
   "cell_type": "code",
   "execution_count": 32,
   "id": "e926753b-7670-4d74-b3ca-bea4b32ebd06",
   "metadata": {},
   "outputs": [
    {
     "name": "stdout",
     "output_type": "stream",
     "text": [
      "['apple', 'mango', 'blueberry', 'cherry', 'date']\n"
     ]
    }
   ],
   "source": [
    "# Add elements with .append() or .insert()\n",
    "fruits.append('date')\n",
    "fruits.insert(1, 'mango')\n",
    "print(fruits)    \n"
   ]
  },
  {
   "cell_type": "code",
   "execution_count": 33,
   "id": "d44c8405-ebc1-458c-a1e8-4f6c3c8e0372",
   "metadata": {},
   "outputs": [
    {
     "name": "stdout",
     "output_type": "stream",
     "text": [
      "['apple', 'date']\n"
     ]
    }
   ],
   "source": [
    "# Deleting Elements\n",
    "# Remove elements by value or index:\n",
    "\n",
    "fruits.remove('blueberry') \n",
    "popped_fruit = fruits.pop(2)  \n",
    "del fruits[1] \n",
    "print(fruits) "
   ]
  },
  {
   "cell_type": "markdown",
   "id": "9eefaecd-b6b3-4b11-ae6a-bdca21c84104",
   "metadata": {},
   "source": [
    "# q4. Compare and contrast tuples and lists with examples"
   ]
  },
  {
   "cell_type": "code",
   "execution_count": 34,
   "id": "d9cf9a14-15f8-488c-8ee3-e8dcc0f0a5ab",
   "metadata": {},
   "outputs": [],
   "source": [
    "# Tuples vs. Lists in Python"
   ]
  },
  {
   "cell_type": "code",
   "execution_count": 35,
   "id": "055fc8ea-6de5-4f93-843e-bb82868b5815",
   "metadata": {},
   "outputs": [],
   "source": [
    "## 1. Mutability\n",
    "\n",
    "# **Lists**: Mutable. You can modify, add, or remove elements after creation.\n",
    "\n",
    "# List example\n",
    "fruits = ['apple', 'banana']\n",
    "fruits[1] = 'blueberry' \n",
    "fruits.append('cherry') \n",
    "\n",
    "# Tuples: Immutable. Once created, you cannot modify, add, or remove elements.\n",
    "\n",
    "# Tuple example\n",
    "coordinates = (10, 20)"
   ]
  },
  {
   "cell_type": "code",
   "execution_count": 36,
   "id": "b485e240-d064-4f10-a2f3-3ebdfb266f4c",
   "metadata": {},
   "outputs": [],
   "source": [
    "## 2. Syntax\n",
    "#Lists: Defined using square brackets [].\n",
    "fruits = ['apple', 'banana']\n",
    "\n",
    "#Tuples: Defined using parentheses ().\n",
    "coordinates = (10, 20)"
   ]
  },
  {
   "cell_type": "code",
   "execution_count": 37,
   "id": "ad0b2731-a416-4969-97a6-4fc3a3bc8e77",
   "metadata": {},
   "outputs": [],
   "source": [
    "## 3. Performance\n",
    "#Lists: Generally have more overhead due to their mutability, which can make them slower in certain situations.\n",
    "\n",
    "#Tuples: Usually faster and use less memory, which can be beneficial when handling large amounts of data."
   ]
  },
  {
   "cell_type": "code",
   "execution_count": 38,
   "id": "9ddba4b2-b940-4e1c-90a1-28829127d856",
   "metadata": {},
   "outputs": [],
   "source": [
    "## 4.  Use Cases\n",
    "\n",
    "#Lists: Suitable for collections of items where the data might change, such as managing a list of items in a cart.\n",
    "shopping_cart = ['milk', 'eggs', 'bread']\n",
    "\n",
    "#Tuples: Ideal for fixed collections of items that shouldn’t change, such as coordinates or fixed configurations.\n",
    "point = (3, 4)"
   ]
  },
  {
   "cell_type": "markdown",
   "id": "e85f30d5-b57e-4c40-a180-ca05cf61b5ee",
   "metadata": {},
   "source": [
    "# q5.Describe the key features of sets and provide examples of their use"
   ]
  },
  {
   "cell_type": "code",
   "execution_count": 39,
   "id": "fb2217bd-76b2-4f8f-bed1-877b81fc82b1",
   "metadata": {},
   "outputs": [],
   "source": [
    "# Key Features of Sets in Python\n"
   ]
  },
  {
   "cell_type": "code",
   "execution_count": 40,
   "id": "8c667dcd-cba7-4d1b-9f37-c37e2d68b3a9",
   "metadata": {},
   "outputs": [],
   "source": [
    "#1. **Unordered**: Sets do not maintain the order of elements. The order of items is not guaranteed.\n",
    "\n",
    "numbers = {1, 2, 3, 4}"
   ]
  },
  {
   "cell_type": "code",
   "execution_count": 41,
   "id": "b1a9a99f-4f4f-498c-9324-9daa4d4e18bd",
   "metadata": {},
   "outputs": [
    {
     "name": "stdout",
     "output_type": "stream",
     "text": [
      "{1, 2, 3}\n"
     ]
    }
   ],
   "source": [
    "#2. Unique Elements: Sets automatically eliminate duplicate elements. Each item in a set must be unique.\n",
    "numbers = {1, 2, 2, 3}\n",
    "print(numbers)  "
   ]
  },
  {
   "cell_type": "code",
   "execution_count": 42,
   "id": "2952e39d-e649-4252-8efc-3f40e497bffc",
   "metadata": {},
   "outputs": [],
   "source": [
    "#3. Mutable: Sets are mutable; you can add or remove elements after creation.\n",
    "numbers = {1, 2, 3}\n",
    "numbers.add(4)    \n",
    "numbers.remove(2) "
   ]
  },
  {
   "cell_type": "code",
   "execution_count": 43,
   "id": "6e5b0024-efc6-4170-9ea7-2ee4f7e08cef",
   "metadata": {},
   "outputs": [],
   "source": [
    "#4. No Indexing: Elements cannot be accessed by index. Sets do not support indexing or slicing.\n",
    "# This will raise an error\n",
    "# element = numbers[0]"
   ]
  },
  {
   "cell_type": "code",
   "execution_count": 44,
   "id": "53173680-9058-4fbc-b2e2-e849978d8b24",
   "metadata": {},
   "outputs": [],
   "source": [
    "#5. Set Operations: Supports mathematical operations like union, intersection, difference, and symmetric difference.\n",
    "set1 = {1, 2, 3}\n",
    "set2 = {3, 4, 5}\n",
    "\n",
    "union_set = set1 | set2       \n",
    "intersection_set = set1 & set2 \n",
    "difference_set = set1 - set2   \n",
    "sym_diff_set = set1 ^ set2    \n"
   ]
  },
  {
   "cell_type": "code",
   "execution_count": 49,
   "id": "a1b8c08f-e99e-478a-9ead-1a7f9e9c607c",
   "metadata": {},
   "outputs": [
    {
     "name": "stdout",
     "output_type": "stream",
     "text": [
      "{1, 2, 3, 4, 5}\n",
      "{3}\n"
     ]
    }
   ],
   "source": [
    "# EXAMPLES :\n",
    "# Define a set\n",
    "fruits = {'apple', 'banana', 'cherry'}\n",
    "\n",
    "# Add an element\n",
    "fruits.add('date')\n",
    "\n",
    "# Remove an element\n",
    "fruits.remove('banana')\n",
    "\n",
    "# Perform set operations\n",
    "set1 = {1, 2, 3}\n",
    "set2 = {3, 4, 5}\n",
    "print(set1 | set2) \n",
    "print(set1 & set2)  \n"
   ]
  },
  {
   "cell_type": "markdown",
   "id": "613ad66e-1d70-42a6-8981-709683160e40",
   "metadata": {},
   "source": [
    "# q6.Discuss the use cases of tuples and sets in Python programming"
   ]
  },
  {
   "cell_type": "code",
   "execution_count": 51,
   "id": "b7b02e73-b8cc-43bd-87ec-aef446da3195",
   "metadata": {},
   "outputs": [],
   "source": [
    "# Use Cases Of Tuples :\n",
    "\n",
    "#Immutable Data: Useful for fixed collections of items that should not be modified. For instance, coordinates or fixed configurations.\n",
    "#Dictionary Keys: Tuples can be used as keys in dictionaries, unlike lists.\n",
    "#Function Returns: Tuples are often used to return multiple values from a function.\n",
    "#Performance: Slightly faster than lists due to immutability."
   ]
  },
  {
   "cell_type": "code",
   "execution_count": 52,
   "id": "1221661d-6791-4531-ac81-e3c276470596",
   "metadata": {},
   "outputs": [
    {
     "name": "stdout",
     "output_type": "stream",
     "text": [
      "X: 10.0, Y: 20.0\n"
     ]
    }
   ],
   "source": [
    "#EXAMPLES\n",
    "# Creating a tuple\n",
    "coordinates = (10.0, 20.0)\n",
    "\n",
    "# Accessing elements\n",
    "x, y = coordinates\n",
    "print(f\"X: {x}, Y: {y}\")\n",
    "\n",
    "# Tuple as a dictionary key\n",
    "locations = {coordinates: \"Home\"}\n"
   ]
  },
  {
   "cell_type": "code",
   "execution_count": 53,
   "id": "b75dd9d3-aa1a-48e7-8383-8def3101e869",
   "metadata": {},
   "outputs": [],
   "source": [
    "# Use Cases Of Sets:\n",
    "\n",
    "#Unique Elements: Ideal for collections where duplicates are not allowed. For example, tracking unique user IDs.\n",
    "#Set Operations: Supports mathematical set operations like union, intersection, and difference.\n",
    "#Membership Testing: Efficient for checking if an element is part of the collection.\n",
    "#Removing Duplicates: Can be used to remove duplicates from a list or other iterable."
   ]
  },
  {
   "cell_type": "code",
   "execution_count": 54,
   "id": "e5cb8819-b65f-42a4-bcd7-cde4849bd6b0",
   "metadata": {},
   "outputs": [
    {
     "name": "stdout",
     "output_type": "stream",
     "text": [
      "{1, 2, 3, 4, 5}\n",
      "{1, 2, 3, 4, 5, 6, 7, 8}\n"
     ]
    }
   ],
   "source": [
    "#EXAMPLES:\n",
    "# Creating a set\n",
    "numbers = {1, 2, 3, 4, 5}\n",
    "\n",
    "# Adding elements\n",
    "numbers.add(6)\n",
    "\n",
    "# Removing duplicates\n",
    "duplicates = [1, 2, 2, 3, 4, 4, 5]\n",
    "unique_numbers = set(duplicates)\n",
    "print(unique_numbers)\n",
    "\n",
    "# Set operations\n",
    "even_numbers = {2, 4, 6, 8}\n",
    "odd_numbers = {1, 3, 5, 7}\n",
    "all_numbers = even_numbers.union(odd_numbers)\n",
    "print(all_numbers)"
   ]
  },
  {
   "cell_type": "markdown",
   "id": "7ef707e5-ac0f-41a3-aaf0-7de425431024",
   "metadata": {},
   "source": []
  },
  {
   "cell_type": "markdown",
   "id": "b648bcd4-02f7-4153-a6fa-adaeee2dfea9",
   "metadata": {},
   "source": [
    "# q7. Describe how to add, modify, and delete items in a dictionary with examples"
   ]
  },
  {
   "cell_type": "code",
   "execution_count": 55,
   "id": "806361e9-86f1-43a8-9173-b3beb5aa1ae1",
   "metadata": {},
   "outputs": [
    {
     "name": "stdout",
     "output_type": "stream",
     "text": [
      "{'name': 'Alice', 'age': 25, 'city': 'New York'}\n"
     ]
    }
   ],
   "source": [
    "#Dictionary Operations in Python\n",
    "##Adding Items\n",
    "#To add a new key-value pair to a dictionary, simply assign a value to a new key.\n",
    "\n",
    "#Example:\n",
    "\n",
    "# Creating a dictionary\n",
    "person = {'name': 'Alice', 'age': 25}\n",
    "\n",
    "# Adding a new key-value pair\n",
    "person['city'] = 'New York'\n",
    "print(person)"
   ]
  },
  {
   "cell_type": "code",
   "execution_count": 56,
   "id": "2dd9a691-4f0d-4a66-ad51-fa22931e129e",
   "metadata": {},
   "outputs": [
    {
     "name": "stdout",
     "output_type": "stream",
     "text": [
      "{'name': 'Alice', 'age': 26, 'city': 'New York'}\n"
     ]
    }
   ],
   "source": [
    "\n",
    "##Modifying Items\n",
    "#To modify the value associated with an existing key, assign a new value to that key.\n",
    "\n",
    "#Example:\n",
    "# Modifying an existing key's value\n",
    "person['age'] = 26\n",
    "print(person)"
   ]
  },
  {
   "cell_type": "code",
   "execution_count": 57,
   "id": "79fe8fd2-b884-483c-9718-e86db6bba54a",
   "metadata": {},
   "outputs": [
    {
     "name": "stdout",
     "output_type": "stream",
     "text": [
      "{'name': 'Alice', 'age': 26}\n",
      "{'name': 'Alice'}\n",
      "Deleted age: 26\n"
     ]
    }
   ],
   "source": [
    "##Deleting Items\n",
    "#To delete an item from a dictionary, use the del statement or the pop method.\n",
    "\n",
    "#Example:\n",
    "# Deleting an item using del\n",
    "del person['city']\n",
    "print(person)\n",
    "\n",
    "# Deleting an item using pop\n",
    "age = person.pop('age')\n",
    "print(person)\n",
    "print(f\"Deleted age: {age}\")"
   ]
  },
  {
   "cell_type": "markdown",
   "id": "9c725f62-39ad-41af-83c6-4916f33b0e52",
   "metadata": {},
   "source": [
    "# q8. Discuss the importance of dictionary keys being immutable and provide examples."
   ]
  },
  {
   "cell_type": "code",
   "execution_count": 65,
   "id": "3352238e-2126-45b3-b5cd-083062a69c2c",
   "metadata": {},
   "outputs": [],
   "source": [
    "#Importance of Dictionary Keys Being Immutable\n",
    "#Definition: In Python, dictionary keys must be immutable. Immutable types include strings, numbers, and tuples (with immutable elements).\n",
    "##Importance:\n",
    "#Hash Consistency: Immutable keys ensure that their hash value, used for quick lookups, remains consistent. If keys were mutable, their hash value could change, leading to inconsistencies in dictionary access.\n",
    "#Data Integrity: Immutability guarantees that the key-value mapping remains stable. This is crucial for maintaining the integrity of data stored in dictionaries.\n",
    "#Predictable Behavior: Immutable keys prevent accidental changes to keys, which could otherwise lead to unpredictable behavior and bugs."
   ]
  },
  {
   "cell_type": "code",
   "execution_count": 63,
   "id": "41355073-dcb1-4633-8eeb-6d54273429c4",
   "metadata": {},
   "outputs": [
    {
     "name": "stdout",
     "output_type": "stream",
     "text": [
      "{'name': 'Alice'}\n",
      "{1: 'one'}\n",
      "{(1, 2): 'point'}\n"
     ]
    }
   ],
   "source": [
    "#Examples:\n",
    "\n",
    "#Valid Keys:\n",
    "# Creating a dictionary with a string key\n",
    "my_dict = {'name': 'Alice'}\n",
    "print(my_dict)\n",
    "# Creating a dictionary with a number key\n",
    "my_dict = {1: 'one'}\n",
    "print(my_dict) \n",
    "# Creating a dictionary with a tuple key\n",
    "my_dict = {(1, 2): 'point'}\n",
    "print(my_dict) \n"
   ]
  },
  {
   "cell_type": "code",
   "execution_count": 64,
   "id": "95c40845-561e-4424-abb3-75db98c826c1",
   "metadata": {},
   "outputs": [
    {
     "name": "stdout",
     "output_type": "stream",
     "text": [
      "Error: unhashable type: 'list'\n",
      "Error: unhashable type: 'dict'\n"
     ]
    }
   ],
   "source": [
    "\n",
    "#Invalid Keys:\n",
    "# Attempting to use a list as a dictionary key\n",
    "try:\n",
    "    my_dict = {[1, 2]: 'list'}\n",
    "except TypeError as e:\n",
    "    print(f\"Error: {e}\")  \n",
    "# Attempting to use a dictionary as a dictionary key\n",
    "try:\n",
    "    my_dict = {{'key': 'value'}: 'nested_dict'}\n",
    "except TypeError as e:\n",
    "    print(f\"Error: {e}\")  \n"
   ]
  },
  {
   "cell_type": "code",
   "execution_count": null,
   "id": "5db0349e-910e-48bd-802a-f3a16b82e890",
   "metadata": {},
   "outputs": [],
   "source": [
    "#Explanation:\n",
    "\n",
    "#Valid Keys: Strings, numbers, and tuples (with immutable elements) are hashable and thus suitable as dictionary keys.\n",
    "#Invalid Keys: Lists and dictionaries are mutable and cannot be used as keys because their hash values can change, causing inconsistencies.\n"
   ]
  }
 ],
 "metadata": {
  "kernelspec": {
   "display_name": "Python 3 (ipykernel)",
   "language": "python",
   "name": "python3"
  },
  "language_info": {
   "codemirror_mode": {
    "name": "ipython",
    "version": 3
   },
   "file_extension": ".py",
   "mimetype": "text/x-python",
   "name": "python",
   "nbconvert_exporter": "python",
   "pygments_lexer": "ipython3",
   "version": "3.10.8"
  }
 },
 "nbformat": 4,
 "nbformat_minor": 5
}
