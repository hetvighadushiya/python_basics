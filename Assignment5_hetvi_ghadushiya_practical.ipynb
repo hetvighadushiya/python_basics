{
  "metadata": {
    "kernelspec": {
      "name": "python",
      "display_name": "Python (Pyodide)",
      "language": "python"
    },
    "language_info": {
      "codemirror_mode": {
        "name": "python",
        "version": 3
      },
      "file_extension": ".py",
      "mimetype": "text/x-python",
      "name": "python",
      "nbconvert_exporter": "python",
      "pygments_lexer": "ipython3",
      "version": "3.8"
    }
  },
  "nbformat_minor": 4,
  "nbformat": 4,
  "cells": [
    {
      "cell_type": "markdown",
      "source": "Practical Questions: \n1. Create a 3x3 NumPy array with random integers between 1 and 100. Then, interchange its rows and columns.",
      "metadata": {}
    },
    {
      "cell_type": "code",
      "source": "import numpy as np\n\narray = np.random.randint(1, 101, size=(3, 3))\nprint(\"Original Array:\\n\", array)\n\ntransposed_array = array.T\nprint(\"Transposed Array (interchanged rows and columns):\\n\", transposed_array)\n",
      "metadata": {
        "trusted": true
      },
      "outputs": [
        {
          "name": "stdout",
          "text": "Original Array:\n [[56 32  9]\n [10 11 86]\n [82 19 46]]\nTransposed Array (interchanged rows and columns):\n [[56 10 82]\n [32 11 19]\n [ 9 86 46]]\n",
          "output_type": "stream"
        }
      ],
      "execution_count": 1
    },
    {
      "cell_type": "markdown",
      "source": "q2.Generate a 1D NumPy array with 10 elements. Reshape it into a 2x5 array, then into a 5x2 array",
      "metadata": {}
    },
    {
      "cell_type": "code",
      "source": "import numpy as np\n\narray_1d = np.arange(10)\narray_2x5 = array_1d.reshape(2, 5)\narray_5x2 = array_1d.reshape(5, 2)\n\nprint(\"1D Array:\\n\", array_1d)\nprint(\"2x5 Array:\\n\", array_2x5)\nprint(\"5x2 Array:\\n\", array_5x2)\n",
      "metadata": {
        "trusted": true
      },
      "outputs": [
        {
          "name": "stdout",
          "text": "1D Array:\n [0 1 2 3 4 5 6 7 8 9]\n2x5 Array:\n [[0 1 2 3 4]\n [5 6 7 8 9]]\n5x2 Array:\n [[0 1]\n [2 3]\n [4 5]\n [6 7]\n [8 9]]\n",
          "output_type": "stream"
        }
      ],
      "execution_count": 2
    },
    {
      "cell_type": "markdown",
      "source": "q3.Create a 4x4 NumPy array with random float values. Add a border of zeros around it, resulting in a 6x6 array",
      "metadata": {}
    },
    {
      "cell_type": "code",
      "source": "import numpy as np\n\narray_4x4 = np.random.rand(4, 4)\nbordered_array = np.pad(array_4x4, pad_width=1, mode='constant', constant_values=0)\n\nprint(\"Original 4x4 Array:\\n\", array_4x4)\nprint(\"6x6 Array with Border of Zeros:\\n\", bordered_array)\n",
      "metadata": {
        "trusted": true
      },
      "outputs": [
        {
          "name": "stdout",
          "text": "Original 4x4 Array:\n [[0.0856553  0.74140857 0.7247198  0.0741415 ]\n [0.82438442 0.79851803 0.86042763 0.02616112]\n [0.74969433 0.57332057 0.91086355 0.32029442]\n [0.45213002 0.62309565 0.65692753 0.39614598]]\n6x6 Array with Border of Zeros:\n [[0.         0.         0.         0.         0.         0.        ]\n [0.         0.0856553  0.74140857 0.7247198  0.0741415  0.        ]\n [0.         0.82438442 0.79851803 0.86042763 0.02616112 0.        ]\n [0.         0.74969433 0.57332057 0.91086355 0.32029442 0.        ]\n [0.         0.45213002 0.62309565 0.65692753 0.39614598 0.        ]\n [0.         0.         0.         0.         0.         0.        ]]\n",
          "output_type": "stream"
        }
      ],
      "execution_count": 3
    },
    {
      "cell_type": "markdown",
      "source": "q4.Using NumPy, create an array of integers from 10 to 60 with a step of 5.",
      "metadata": {}
    },
    {
      "cell_type": "code",
      "source": "import numpy as np\n\narray = np.arange(10, 61, 5)\nprint(\"Array of integers from 10 to 60 with a step of 5:\\n\", array)\n",
      "metadata": {
        "trusted": true
      },
      "outputs": [
        {
          "name": "stdout",
          "text": "Array of integers from 10 to 60 with a step of 5:\n [10 15 20 25 30 35 40 45 50 55 60]\n",
          "output_type": "stream"
        }
      ],
      "execution_count": 4
    },
    {
      "cell_type": "markdown",
      "source": "q5.Create a NumPy array of strings ['python', 'numpy', 'pandas']. Apply different case transformations (uppercase, lowercase, title case, etc.) to each element.",
      "metadata": {}
    },
    {
      "cell_type": "code",
      "source": "import numpy as np\n\narray_strings = np.array(['python', 'numpy', 'pandas'])\n\nuppercase = np.char.upper(array_strings)\nlowercase = np.char.lower(array_strings)\ntitlecase = np.char.title(array_strings)\ncapitalize = np.char.capitalize(array_strings)\n\nprint(\"Original Array:\\n\", array_strings)\nprint(\"Uppercase:\\n\", uppercase)\nprint(\"Lowercase:\\n\", lowercase)\nprint(\"Title Case:\\n\", titlecase)\nprint(\"Capitalized:\\n\", capitalize)\n",
      "metadata": {
        "trusted": true
      },
      "outputs": [
        {
          "name": "stdout",
          "text": "Original Array:\n ['python' 'numpy' 'pandas']\nUppercase:\n ['PYTHON' 'NUMPY' 'PANDAS']\nLowercase:\n ['python' 'numpy' 'pandas']\nTitle Case:\n ['Python' 'Numpy' 'Pandas']\nCapitalized:\n ['Python' 'Numpy' 'Pandas']\n",
          "output_type": "stream"
        }
      ],
      "execution_count": 5
    },
    {
      "cell_type": "markdown",
      "source": "q6.Generate a NumPy array of words. Insert a space between each character of every word in the array",
      "metadata": {}
    },
    {
      "cell_type": "code",
      "source": "import numpy as np\n\narray_words = np.array(['hello', 'numpy', 'array'])\nspaced_words = np.char.join(' ', array_words)\n\nprint(\"Original Array:\\n\", array_words)\nprint(\"Words with Spaces:\\n\", spaced_words)\n",
      "metadata": {
        "trusted": true
      },
      "outputs": [
        {
          "name": "stdout",
          "text": "Original Array:\n ['hello' 'numpy' 'array']\nWords with Spaces:\n ['h e l l o' 'n u m p y' 'a r r a y']\n",
          "output_type": "stream"
        }
      ],
      "execution_count": 6
    },
    {
      "cell_type": "markdown",
      "source": "q7.Create two 2D NumPy arrays and perform element-wise addition, subtraction, multiplication, and division",
      "metadata": {}
    },
    {
      "cell_type": "code",
      "source": "import numpy as np\n\narray1 = np.array([[1, 2, 3], [4, 5, 6]])\narray2 = np.array([[7, 8, 9], [10, 11, 12]])\n\naddition = array1 + array2\nsubtraction = array1 - array2\nmultiplication = array1 * array2\ndivision = array1 / array2\n\nprint(\"Array 1:\\n\", array1)\nprint(\"Array 2:\\n\", array2)\nprint(\"Element-wise Addition:\\n\", addition)\nprint(\"Element-wise Subtraction:\\n\", subtraction)\nprint(\"Element-wise Multiplication:\\n\", multiplication)\nprint(\"Element-wise Division:\\n\", division)\n",
      "metadata": {
        "trusted": true
      },
      "outputs": [
        {
          "name": "stdout",
          "text": "Array 1:\n [[1 2 3]\n [4 5 6]]\nArray 2:\n [[ 7  8  9]\n [10 11 12]]\nElement-wise Addition:\n [[ 8 10 12]\n [14 16 18]]\nElement-wise Subtraction:\n [[-6 -6 -6]\n [-6 -6 -6]]\nElement-wise Multiplication:\n [[ 7 16 27]\n [40 55 72]]\nElement-wise Division:\n [[0.14285714 0.25       0.33333333]\n [0.4        0.45454545 0.5       ]]\n",
          "output_type": "stream"
        }
      ],
      "execution_count": 7
    },
    {
      "cell_type": "markdown",
      "source": "q8.Use NumPy to create a 5x5 identity matrix, then extract its diagonal elements",
      "metadata": {}
    },
    {
      "cell_type": "code",
      "source": "import numpy as np\n\nidentity_matrix = np.eye(5)\ndiagonal_elements = np.diagonal(identity_matrix)\n\nprint(\"5x5 Identity Matrix:\\n\", identity_matrix)\nprint(\"Diagonal Elements:\\n\", diagonal_elements)\n",
      "metadata": {
        "trusted": true
      },
      "outputs": [
        {
          "name": "stdout",
          "text": "5x5 Identity Matrix:\n [[1. 0. 0. 0. 0.]\n [0. 1. 0. 0. 0.]\n [0. 0. 1. 0. 0.]\n [0. 0. 0. 1. 0.]\n [0. 0. 0. 0. 1.]]\nDiagonal Elements:\n [1. 1. 1. 1. 1.]\n",
          "output_type": "stream"
        }
      ],
      "execution_count": 8
    },
    {
      "cell_type": "markdown",
      "source": "q9.Generate a NumPy array of 100 random integers between 0 and 1000. Find and display all prime numbers in this array",
      "metadata": {}
    },
    {
      "cell_type": "code",
      "source": "import numpy as np\n\ndef is_prime(n):\n    if n <= 1:\n        return False\n    for i in range(2, int(n**0.5) + 1):\n        if n % i == 0:\n            return False\n    return True\n\nrandom_array = np.random.randint(0, 1001, size=100)\nprime_numbers = np.array([num for num in random_array if is_prime(num)])\n\nprint(\"Random Array:\\n\", random_array)\nprint(\"Prime Numbers:\\n\", prime_numbers)",
      "metadata": {
        "trusted": true
      },
      "outputs": [
        {
          "name": "stdout",
          "text": "Random Array:\n [516 681 231 565 936 777  70 560 727 839 344 208 273 120 259 466 558 594\n 653 139 854  75 611 339 438 269  67 194 632 347 938 592  92 440 315 361\n 510 674 828 846 382 440 790 483 317 889 913 514 847 990 962 484  69 259\n 901 546 855 993 741 680 696 210 913 753  99 796  46  85 614 133 826 332\n 588 788 518 439 128 168   6 104 617 526 468 345 627 101 927 438 405 599\n 339 743  98 674 402 976  78 670 649 699]\nPrime Numbers:\n [727 839 653 139 269  67 347 317 439 617 101 599 743]\n",
          "output_type": "stream"
        }
      ],
      "execution_count": 9
    },
    {
      "cell_type": "markdown",
      "source": "q10. Create a NumPy array representing daily temperatures for a month. Calculate and display the weekly averages.",
      "metadata": {}
    },
    {
      "cell_type": "code",
      "source": "import numpy as np\n\ndaily_temperatures = np.random.uniform(low=15, high=35, size=30)\n\nweekly_temperatures = daily_temperatures[:28].reshape(4, 7)\n\nweekly_averages = np.mean(weekly_temperatures, axis=1)\n\nprint(\"Daily Temperatures for a Month:\\n\", daily_temperatures)\nprint(\"Weekly Averages:\\n\", weekly_averages)\n",
      "metadata": {
        "trusted": true
      },
      "outputs": [
        {
          "name": "stdout",
          "text": "Daily Temperatures for a Month:\n [24.03068128 24.671797   18.22832767 27.13738975 17.34040989 19.86345335\n 32.41085915 17.99263318 22.9344657  26.73140641 34.70436604 23.3169937\n 29.6766895  25.69905664 27.34685406 30.79787456 23.36090421 26.36432858\n 25.00188098 26.64596162 15.38109574 30.61721347 33.05352122 22.70931491\n 23.63974483 28.51296294 22.70237162 18.26861382 26.63766586 17.71704026]\nWeekly Averages:\n [23.38327401 25.86508731 24.98555711 25.64339183]\n",
          "output_type": "stream"
        }
      ],
      "execution_count": 12
    },
    {
      "cell_type": "code",
      "source": "",
      "metadata": {
        "trusted": true
      },
      "outputs": [],
      "execution_count": null
    }
  ]
}