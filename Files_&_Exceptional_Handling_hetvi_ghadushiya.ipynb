{
 "cells": [
  {
   "cell_type": "markdown",
   "id": "ee3c9e14-9df8-4433-be1b-67d569759854",
   "metadata": {},
   "source": [
    "## Q1.Discuss the scenarios where multithreading is preferable to multiprocessing and scenarios where\n",
    "multiprocessing is a better choice."
   ]
  },
  {
   "cell_type": "markdown",
   "id": "ec2e8b1c-53d7-4c22-a4ac-664dbb0e1d79",
   "metadata": {},
   "source": [
    "### Multithreading vs. Multiprocessing Scenarios\n",
    "\n",
    "**Multithreading is preferable when:**\n",
    "- Tasks are I/O-bound (e.g., file reading/writing, network communication).\n",
    "- Lightweight tasks where thread overhead is minimal.\n",
    "- Applications require shared memory space to reduce memory usage.\n",
    "- Responsiveness in GUI applications needs to be maintained.\n",
    "\n",
    "**Multiprocessing is preferable when:**\n",
    "- Tasks are CPU-bound (e.g., heavy computations, data processing).\n",
    "- The program benefits from parallel execution without GIL limitations.\n",
    "- High performance is needed by fully utilizing multiple CPU cores.\n",
    "- Processes need to run independently, avoiding memory sharing constraints.\n"
   ]
  },
  {
   "cell_type": "markdown",
   "id": "0d2b203d-2b7e-4496-b67c-ec96e87ff032",
   "metadata": {},
   "source": [
    "## Q2. Describe what a process pool is and how it helps in managing multiple processes efficiently."
   ]
  },
  {
   "cell_type": "markdown",
   "id": "0df6975c-eab5-44cc-b491-3cc96a1eb0b8",
   "metadata": {},
   "source": [
    "### Process Pool Explained\n",
    "\n",
    "A **process pool** is a technique for managing multiple processes efficiently by maintaining a pool of worker processes ready to execute tasks. It helps in:\n",
    "\n",
    "- **Reducing Overhead**: Reuses processes instead of creating and destroying them repeatedly, saving system resources.\n",
    "- **Simplifying Parallel Execution**: Makes it easier to execute tasks in parallel without manually managing each process.\n",
    "- **Efficient Load Distribution**: Distributes tasks among processes, optimizing CPU utilization and improving performance.\n",
    "- **Controlling Process Count**: Limits the number of concurrent processes, preventing system overload and ensuring better resource management.\n"
   ]
  },
  {
   "cell_type": "markdown",
   "id": "a332e955-8570-44ad-b6e2-37bef1a9aa92",
   "metadata": {},
   "source": [
    "## Q3. Explain what multiprocessing is and why it is used in Python programs"
   ]
  },
  {
   "cell_type": "markdown",
   "id": "b9c2cda5-6227-4710-91cc-e87c39953b90",
   "metadata": {},
   "source": [
    "### Multiprocessing Explained\n",
    "\n",
    "**Multiprocessing** is a method that allows a Python program to execute multiple processes simultaneously by leveraging multiple CPU cores. Each process runs independently with its own memory space, bypassing Python’s Global Interpreter Lock (GIL), which limits multithreading.\n",
    "\n",
    "**Why it is used in Python programs:**\n",
    "- **Parallel Execution**: It enables parallel execution of CPU-bound tasks, improving performance for computationally intensive operations.\n",
    "- **Better CPU Utilization**: By running separate processes on different cores, it maximizes the use of available CPU power.\n",
    "- **Overcomes GIL Limitations**: Unlike multithreading, multiprocessing creates separate Python interpreters for each process, avoiding the GIL and allowing true parallelism.\n",
    "- **Improved Performance**: Ideal for tasks like data processing, scientific computations, and real-time simulations where single-threaded execution is slow.\n"
   ]
  },
  {
   "cell_type": "markdown",
   "id": "c6b529b2-ac72-4032-9a9a-f3d0667e2309",
   "metadata": {},
   "source": [
    "## Q4.Write a Python program using multithreading where one thread adds numbers to a list, and anotherthread removes numbers from the list ,Implement a mechanism to avoid race conditions using threading.Lock"
   ]
  },
  {
   "cell_type": "code",
   "execution_count": 3,
   "id": "c4b9ff7b-fb34-4ca7-a7c6-792af74f6a83",
   "metadata": {},
   "outputs": [
    {
     "name": "stdout",
     "output_type": "stream",
     "text": [
      "Added: 1\n",
      "Removed: 1\n",
      "Added: 2\n",
      "Added: 3\n",
      "Removed: 2\n",
      "Added: 4\n",
      "Removed: 3\n",
      "Added: 5\n",
      "Removed: 4\n",
      "Removed: 5\n",
      "Final list: []\n"
     ]
    }
   ],
   "source": [
    "import threading\n",
    "import time\n",
    "\n",
    "shared_list = []\n",
    "\n",
    "lock = threading.Lock()\n",
    "\n",
    "def add_numbers():\n",
    "    for i in range(1, 6):\n",
    "        time.sleep(1)\n",
    "        lock.acquire()\n",
    "        try:\n",
    "            shared_list.append(i)\n",
    "            print(f\"Added: {i}\")\n",
    "        finally:\n",
    "            lock.release()\n",
    "\n",
    "def remove_numbers():\n",
    "    for _ in range(1, 6):\n",
    "        time.sleep(1.5)\n",
    "        lock.acquire()\n",
    "        try:\n",
    "            if shared_list:\n",
    "                removed = shared_list.pop(0)\n",
    "                print(f\"Removed: {removed}\")\n",
    "            else:\n",
    "                print(\"Nothing to remove\")\n",
    "        finally:\n",
    "            lock.release()\n",
    "\n",
    "t1 = threading.Thread(target=add_numbers)\n",
    "t2 = threading.Thread(target=remove_numbers)\n",
    "\n",
    "t1.start()\n",
    "t2.start()\n",
    "\n",
    "t1.join()\n",
    "t2.join()\n",
    "\n",
    "print(\"Final list:\", shared_list)\n"
   ]
  },
  {
   "cell_type": "markdown",
   "id": "0fbf7288-c8bc-48c3-9094-5a8ede3cdf5a",
   "metadata": {},
   "source": [
    "## Q5.. Describe the methods and tools available in Python for safely sharing data between threads and processes."
   ]
  },
  {
   "cell_type": "markdown",
   "id": "94c1af27-ef18-466b-8bb8-ba8661fc7322",
   "metadata": {},
   "source": [
    "### Methods and Tools for Safely Sharing Data in Python\n",
    "\n",
    "Python provides various methods and tools to safely share data between threads and processes:\n",
    "\n",
    "#### 1. **Threading Module Tools**\n",
    "- **`threading.Lock`**: A primitive lock object that ensures only one thread accesses a shared resource at a time, preventing race conditions.\n",
    "- **`threading.RLock`**: A reentrant lock that allows the same thread to acquire the lock multiple times without causing a deadlock.\n",
    "- **`threading.Condition`**: Used for complex thread communication, where one thread waits for a condition to be met by another thread.\n",
    "- **`threading.Semaphore`**: Limits the number of threads that can access a shared resource simultaneously.\n",
    "- **`queue.Queue`**: A thread-safe, built-in queue for managing data between threads. It handles all the necessary locking mechanisms internally, simplifying thread communication.\n",
    "\n",
    "#### 2. **Multiprocessing Module Tools**\n",
    "- **`multiprocessing.Queue`**: A process-safe queue for sharing data between processes. It uses IPC (Inter-Process Communication) mechanisms to allow processes to communicate safely.\n",
    "- **`multiprocessing.Value`**: Allows sharing of a single value between processes with type safety and locking.\n",
    "- **`multiprocessing.Array`**: Shares an array of data between processes. This is also type-safe and comes with optional locking.\n",
    "- **`multiprocessing.Manager`**: Provides a way to create shared objects like lists, dictionaries, and more, which can be accessed and modified safely by different processes.\n",
    "- **`multiprocessing.Lock`**: Functions similarly to `threading.Lock`, ensuring only one process accesses shared data at a time.\n",
    "\n",
    "#### 3. **Synchronization Mechanisms**\n",
    "- **Shared Memory with `multiprocessing.shared_memory`**: Provides shared memory blocks that processes can access directly, allowing faster data sharing without pickling overhead.\n",
    "- **`threading.Barrier`**: Synchronizes threads at a particular point, ensuring that all threads reach the barrier before any can continue.\n",
    "\n",
    "### Choosing the Right Tool:\n",
    "- **For Threads**: Use `threading.Lock` or `queue.Queue` for simple synchronization. Use `threading.Condition` or `threading.Semaphore` for more complex interactions.\n",
    "- **For Processes**: Use `multiprocessing.Queue`, `multiprocessing.Value`, or `multiprocessing.Array` for basic data sharing. Use `multiprocessing.Manager` for more complex shared data structures.\n",
    "\n",
    "These methods and tools ensure thread and process safety, preventing race conditions and ensuring data consistency during concurrent execution.\n"
   ]
  },
  {
   "cell_type": "markdown",
   "id": "55780d7d-9d3a-4330-b3a8-7545e62b9ff3",
   "metadata": {},
   "source": [
    "## Q6. Discuss why it’s crucial to handle exceptions in concurrent programs and the techniques available for doing so."
   ]
  },
  {
   "cell_type": "markdown",
   "id": "6ea05e69-155a-4496-8910-235c45f5a5cf",
   "metadata": {},
   "source": [
    "### Importance of Handling Exceptions in Concurrent Programs\n",
    "\n",
    "Handling exceptions in concurrent programs is crucial to ensure that the program runs smoothly, maintains data integrity, and prevents unexpected behavior or crashes. Concurrent programs introduce complexities due to simultaneous execution, which can lead to issues such as race conditions, deadlocks, or data corruption if not handled properly.\n",
    "\n",
    "**Key Reasons for Handling Exceptions:**\n",
    "- **Prevent Crashes**: Exceptions in one thread or process can terminate it prematurely, potentially leaving shared resources in an inconsistent state.\n",
    "- **Maintain Data Integrity**: Proper exception handling ensures shared data remains consistent, even if one part of the program fails.\n",
    "- **Improve Debugging and Monitoring**: Capturing and logging exceptions help in understanding failures and improving the program.\n",
    "- **Graceful Degradation**: Ensures that the failure of one thread or process does not lead to the failure of the entire program.\n",
    "\n",
    "### Techniques for Handling Exceptions in Concurrent Programs\n",
    "\n",
    "1. **Try-Except Blocks**\n",
    "   - Use `try-except` blocks within threads or processes to catch and handle exceptions locally.\n",
    "   - Example:\n"
   ]
  },
  {
   "cell_type": "code",
   "execution_count": 10,
   "id": "3668dd18-fc29-4bc4-85de-6e530389c7b9",
   "metadata": {},
   "outputs": [
    {
     "name": "stdout",
     "output_type": "stream",
     "text": [
      "Operation succeeded!\n"
     ]
    }
   ],
   "source": [
    "import threading\n",
    "\n",
    "def risky_operation():\n",
    "    print(\"Operation succeeded!\")\n",
    "\n",
    "def thread_function():\n",
    "    try:\n",
    "        risky_operation() \n",
    "    except Exception as e:\n",
    "        print(f\"Exception in thread: {e}\")\n",
    "\n",
    "thread = threading.Thread(target=thread_function)\n",
    "thread.start()\n",
    "thread.join()\n"
   ]
  },
  {
   "cell_type": "markdown",
   "id": "ddf5d749-74a0-4b68-bbdd-e067b2e94366",
   "metadata": {},
   "source": [
    "2. **Thread or Process Wrapper Functions**\n",
    "   - Wrap the main logic of a thread or process in a function that catches exceptions and logs them.\n",
    "   - This approach helps centralize exception handling.\n",
    "    "
   ]
  },
  {
   "cell_type": "code",
   "execution_count": 12,
   "id": "9dad3e2d-b358-4a0f-bd5c-c393182d08cc",
   "metadata": {},
   "outputs": [],
   "source": [
    "import multiprocessing\n",
    "\n",
    "def task_function():\n",
    "    raise ValueError(\"An error occurred in the task function\")\n",
    "\n",
    "def safe_process_function(target_function):\n",
    "    try:\n",
    "        target_function() \n",
    "    except Exception as e:\n",
    "        print(f\"Exception in process: {e}\")\n",
    "\n",
    "process = multiprocessing.Process(target=safe_process_function, args=(task_function,))\n",
    "process.start()\n",
    "process.join()"
   ]
  },
  {
   "cell_type": "markdown",
   "id": "f26e0c01-17c8-443d-b93c-cf2b61f61471",
   "metadata": {},
   "source": [
    "3. **Using `concurrent.futures`**\n",
    "   - The `concurrent.futures` module simplifies handling exceptions by providing built-in methods for monitoring and retrieving thread or process exceptions.\n",
    "   - Example:"
   ]
  },
  {
   "cell_type": "code",
   "execution_count": 14,
   "id": "a63270d2-5f0b-4c38-b7fd-2f2634d66273",
   "metadata": {},
   "outputs": [
    {
     "name": "stdout",
     "output_type": "stream",
     "text": [
      "Exception caught from thread: An error occurred\n"
     ]
    }
   ],
   "source": [
    "from concurrent.futures import ThreadPoolExecutor\n",
    "\n",
    "def risky_function():\n",
    "    raise ValueError(\"An error occurred\")\n",
    "\n",
    "with ThreadPoolExecutor(max_workers=2) as executor:\n",
    "    future = executor.submit(risky_function)\n",
    "    try:\n",
    "        result = future.result()\n",
    "    except Exception as e:\n",
    "        print(f\"Exception caught from thread: {e}\")\n"
   ]
  },
  {
   "cell_type": "markdown",
   "id": "bb287ab1-f5a6-4466-94fb-217d221c4d8b",
   "metadata": {},
   "source": [
    "4. **Custom Exception Handling**\n",
    "   - Implement custom exception handling logic for specific exceptions, allowing more fine-grained control over how different types of errors are managed."
   ]
  },
  {
   "cell_type": "markdown",
   "id": "bd2b849e-80ff-4c75-aaf7-38e93bd4c513",
   "metadata": {},
   "source": [
    "5. **Logging Exceptions**\n",
    "   - Use Python’s `logging` module to log exceptions within threads or processes for better monitoring and debugging."
   ]
  },
  {
   "cell_type": "code",
   "execution_count": null,
   "id": "a583ca9f-8c03-4ecc-886d-7c3d3b83bdaf",
   "metadata": {},
   "outputs": [],
   "source": [
    "import logging\n",
    "     import threading\n",
    "\n",
    "     logging.basicConfig(level=logging.ERROR, format='%(asctime)s - %(levelname)s - %(message)s')\n",
    "\n",
    "     def thread_function():\n",
    "         try:\n",
    "             # Risky code\n",
    "             risky_operation()\n",
    "         except Exception as e:\n",
    "             logging.error(\"Exception occurred in thread\", exc_info=True)\n",
    "\n",
    "     thread = threading.Thread(target=thread_function)\n",
    "     thread.start()\n",
    "     thread.join()"
   ]
  },
  {
   "cell_type": "markdown",
   "id": "5d2d5d4a-c856-4e7f-910b-af589021384d",
   "metadata": {},
   "source": [
    "Handling exceptions properly in concurrent programs ensures robustness, reliability, and better maintainability, making it an essential aspect of concurrent programming."
   ]
  },
  {
   "cell_type": "markdown",
   "id": "a5ec226d-89b2-4aeb-958b-796478f340e1",
   "metadata": {},
   "source": [
    "## Q7.Create a program that uses a thread pool to calculate the factorial of numbers from 1 to 10 concurrently. Use concurrent.futures.ThreadPoolExecutor to manage the threads."
   ]
  },
  {
   "cell_type": "code",
   "execution_count": 17,
   "id": "5c658dcf-fa2f-4e07-be0f-da9453e19760",
   "metadata": {},
   "outputs": [
    {
     "name": "stdout",
     "output_type": "stream",
     "text": [
      "1\n",
      "3628800\n",
      "40320\n",
      "5040\n",
      "24\n",
      "362880\n",
      "2\n",
      "720\n",
      "120\n",
      "6\n"
     ]
    }
   ],
   "source": [
    "import concurrent.futures\n",
    "import math\n",
    "\n",
    "def calculate_factorial(n):\n",
    "    return math.factorial(n)\n",
    "\n",
    "def main():\n",
    "    with concurrent.futures.ThreadPoolExecutor() as executor:\n",
    "        futures = [executor.submit(calculate_factorial, i) for i in range(1, 11)]\n",
    "        \n",
    "        for future in concurrent.futures.as_completed(futures):\n",
    "            result = future.result()\n",
    "            print(result)\n",
    "\n",
    "if __name__ == '__main__':\n",
    "    main()"
   ]
  },
  {
   "cell_type": "markdown",
   "id": "233b1556-1bcc-4a68-8aec-955648b6f993",
   "metadata": {},
   "source": [
    "## Q8.Create a Python program that uses multiprocessing.Pool to compute the square of numbers from 1 to 10 in parallel. Measure the time taken to perform this computation using a pool of different sizes (e.g., 2, 4, 8 processes)."
   ]
  },
  {
   "cell_type": "code",
   "execution_count": null,
   "id": "641ee979-f2ff-4a3c-af93-ced4243b3c7e",
   "metadata": {},
   "outputs": [],
   "source": [
    "import multiprocessing\n",
    "import time\n",
    "\n",
    "def compute_square(n):\n",
    "    return n * n\n",
    "\n",
    "def measure_time(pool_size):\n",
    "    with multiprocessing.Pool(pool_size) as pool:\n",
    "        start_time = time.time()\n",
    "        \n",
    "        result = pool.map(compute_square, range(1, 11))\n",
    "        \n",
    "        end_time = time.time()\n",
    "        \n",
    "        print(f\"Results with {pool_size} processes: {result}\")\n",
    "        \n",
    "        print(f\"Time taken with {pool_size} processes: {end_time - start_time:.4f} seconds\")\n",
    "        \n",
    "def main():\n",
    "    for pool_size in [2, 4, 8]:\n",
    "        measure_time(pool_size)\n",
    "\n",
    "if __name__ == \"__main__\":\n",
    "    main()\n"
   ]
  },
  {
   "cell_type": "code",
   "execution_count": null,
   "id": "dfb402ff-c100-4f0a-8d13-b9b8235ad1ab",
   "metadata": {},
   "outputs": [],
   "source": []
  }
 ],
 "metadata": {
  "kernelspec": {
   "display_name": "Python 3 (ipykernel)",
   "language": "python",
   "name": "python3"
  },
  "language_info": {
   "codemirror_mode": {
    "name": "ipython",
    "version": 3
   },
   "file_extension": ".py",
   "mimetype": "text/x-python",
   "name": "python",
   "nbconvert_exporter": "python",
   "pygments_lexer": "ipython3",
   "version": "3.13.0"
  }
 },
 "nbformat": 4,
 "nbformat_minor": 5
}
