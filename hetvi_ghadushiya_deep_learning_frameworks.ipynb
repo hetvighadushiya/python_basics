{
 "cells": [
  {
   "cell_type": "markdown",
   "id": "1cad43cf-0276-41a6-89e2-73ef60d21a32",
   "metadata": {},
   "source": [
    "## Deep Learning Frameworks"
   ]
  },
  {
   "cell_type": "markdown",
   "id": "9452fa8a-4aa8-45e7-b35a-778d9a9f16c2",
   "metadata": {},
   "source": [
    "Q1 What is TensorFlow 2.0, and how is it different from TensorFlow 1.x?\n",
    "\n",
    "TensorFlow 2.0 is a major upgrade to TensorFlow 1.x with several improvements focused on ease of use and performance.\n",
    "\n",
    "Key Differences:\n",
    "- **Eager Execution by Default**: TF 2.0 executes operations immediately, making it more Pythonic and easier to debug.\n",
    "- **Keras Integration**: It adopts `tf.keras` as the default high-level API.\n",
    "- **Simplified API**: Many redundant APIs were removed or replaced with more consistent versions.\n",
    "- **Function Decoration**: `@tf.function` enables automatic graph generation from Python functions.\n",
    "- **Better Compatibility**: Modular architecture improves portability and compatibility.\n"
   ]
  },
  {
   "cell_type": "code",
   "execution_count": 24,
   "id": "aece6d45-b5bf-4247-8b46-65787f18d914",
   "metadata": {},
   "outputs": [
    {
     "name": "stdout",
     "output_type": "stream",
     "text": [
      "2.15.0\n"
     ]
    }
   ],
   "source": [
    "# Q2 How do you install TensorFlow 2.0?\n",
    "\n",
    "import tensorflow as tf\n",
    "print(tf.__version__)"
   ]
  },
  {
   "cell_type": "markdown",
   "id": "13f434f4-9b9b-49b0-b9d7-46654b5d1f78",
   "metadata": {},
   "source": [
    "Q3. What is the primary function of the tf.function in TensorFlow 2.0?\n",
    "`tf.function` is a decorator that compiles a Python function into a callable TensorFlow graph.\n",
    "\n",
    " Benefits:\n",
    "- Faster execution using graph optimization.\n",
    "- Static graph representation allows deployment on different platforms.\n",
    "- Useful in training loops and model functions.\n"
   ]
  },
  {
   "cell_type": "markdown",
   "id": "2f58f240-5870-4f48-8697-f191b4151724",
   "metadata": {},
   "source": [
    "Q4.  What is the purpose of the Model class in TensorFlow 2.0?\n",
    "The `Model` class (from `tf.keras.Model`) is a core component for creating custom models.\n",
    "\n",
    " Uses:\n",
    "- Define forward-pass logic in `call()` method.\n",
    "- Enables training, evaluation, and prediction via `.fit()`, `.evaluate()`, and `.predict()`.\n",
    "- Easily customized for complex architectures.\n"
   ]
  },
  {
   "cell_type": "code",
   "execution_count": 22,
   "id": "d5f809bf-9154-484e-bb76-e0c67fa8c57a",
   "metadata": {},
   "outputs": [
    {
     "name": "stdout",
     "output_type": "stream",
     "text": [
      "Model: \"sequential_5\"\n",
      "_________________________________________________________________\n",
      " Layer (type)                Output Shape              Param #   \n",
      "=================================================================\n",
      " dense_13 (Dense)            (None, 32)                352       \n",
      "                                                                 \n",
      " dense_14 (Dense)            (None, 16)                528       \n",
      "                                                                 \n",
      " dense_15 (Dense)            (None, 1)                 17        \n",
      "                                                                 \n",
      "=================================================================\n",
      "Total params: 897 (3.50 KB)\n",
      "Trainable params: 897 (3.50 KB)\n",
      "Non-trainable params: 0 (0.00 Byte)\n",
      "_________________________________________________________________\n"
     ]
    }
   ],
   "source": [
    "# Q5.How do you create a neural network using TensorFlow 2.0?\n",
    "\n",
    "import warnings\n",
    "warnings.filterwarnings('ignore')\n",
    "import tensorflow as tf\n",
    "from tensorflow.keras.models import Sequential\n",
    "from tensorflow.keras.layers import Dense\n",
    "\n",
    "model = Sequential([\n",
    "    Dense(32, activation='relu', input_shape=(10,)),\n",
    "    Dense(16, activation='relu'),\n",
    "    Dense(1, activation='sigmoid')\n",
    "])\n",
    "\n",
    "model.compile(optimizer='adam', loss='binary_crossentropy', metrics=['accuracy'])\n",
    "\n",
    "model.summary()\n"
   ]
  },
  {
   "cell_type": "markdown",
   "id": "4a0f667c-f646-4ce5-a8c3-2939dd6d1288",
   "metadata": {},
   "source": [
    "### 6️ What is the importance of Tensor Space in TensorFlow?\n",
    "\n",
    "Tensor space represents the **multi-dimensional array structure** used to store and manipulate data in TensorFlow. Every input, weight, output, and intermediate computation is a **tensor**.\n",
    "\n",
    " Importance:\n",
    "- Tensors are generalizations of scalars (0D), vectors (1D), matrices (2D), and n-dimensional arrays.\n",
    "- They allow efficient computation across CPUs, GPUs, and TPUs.\n",
    "- TensorFlow operations (like matrix multiplication, reshaping, etc.) are optimized for tensor structures.\n",
    "\n",
    "---\n"
   ]
  },
  {
   "cell_type": "markdown",
   "id": "d1e7fcd0-baa0-4d92-948a-702cd17bb019",
   "metadata": {},
   "source": [
    "### 7️ How can TensorBoard be integrated with TensorFlow 2.0?\n",
    "\n",
    "TensorBoard is TensorFlow’s built-in visualization toolkit for:\n",
    "- Monitoring training (loss, accuracy, etc.)\n",
    "- Visualizing model graphs\n",
    "- Inspecting weight histograms and distributions\n",
    "\n",
    " Integration Steps:\n",
    "1. Define a log directory.\n",
    "2. Use a `TensorBoard` callback while training.\n",
    "3. Launch TensorBoard from notebook or terminal.\n",
    "\n",
    "```python\n",
    "import tensorflow as tf\n",
    "from tensorflow.keras.callbacks import TensorBoard\n",
    "import datetime\n",
    "\n",
    "log_dir = \"logs/fit/\" + datetime.datetime.now().strftime(\"%Y%m%d-%H%M%S\")\n",
    "\n",
    "tensorboard_callback = TensorBoard(log_dir=log_dir, histogram_freq=1)\n",
    "\n",
    "model.fit(X_train, y_train, epochs=10, callbacks=[tensorboard_callback])\n"
   ]
  },
  {
   "cell_type": "markdown",
   "id": "195058fb-0652-4e17-a8b3-b16e56a88e4b",
   "metadata": {},
   "source": [
    "\n",
    "### 8️ What is the purpose of TensorFlow Playground?\n",
    "\n",
    "TensorFlow Playground is a **browser-based interactive tool** that allows users to:\n",
    "\n",
    "- Experiment with neural network architectures visually.\n",
    "- Understand how changes in hyperparameters affect model learning.\n",
    "- Visualize decision boundaries, hidden layers, and activations.\n",
    "\n",
    " It's mainly for **educational purposes** and uses a simplified neural net in JavaScript.\n",
    "\n",
    "---\n"
   ]
  },
  {
   "cell_type": "markdown",
   "id": "1091b6a9-816d-4494-ab62-554010a2d871",
   "metadata": {},
   "source": [
    "### 9️ What is Netron, and how is it useful for deep learning models?\n",
    "\n",
    "**Netron** is a visual model viewer for deep learning models.\n",
    "\n",
    "Features:\n",
    "- Supports models from TensorFlow, Keras, PyTorch, ONNX, Caffe, and more.\n",
    "- Visualizes model architecture layer by layer.\n",
    "- Displays layer properties like shape, size, and parameters.\n",
    "\n",
    " Useful for debugging, presenting, or understanding complex neural network designs.\n"
   ]
  },
  {
   "cell_type": "markdown",
   "id": "e355eb9e-5260-4bf3-aba8-87ddd10794b2",
   "metadata": {},
   "source": [
    "###  What is the difference between TensorFlow and PyTorch?\n",
    "\n",
    "| Feature              | TensorFlow 2.0                           | PyTorch                             |\n",
    "|----------------------|------------------------------------------|-------------------------------------|\n",
    "| Execution Mode       | Eager + Graph (via `@tf.function`)       | Eager Execution by default          |\n",
    "| API Style            | Functional + Object-Oriented             | More Pythonic, dynamic              |\n",
    "| Popularity           | Used in production/industry              | Favored in research/academia        |\n",
    "| Visualization        | TensorBoard                              | Supports TensorBoard + other tools  |\n",
    "| Deployment           | TensorFlow Serving, TFLite, JS, etc.     | TorchScript, ONNX, limited options  |\n",
    "| Model Definition     | `tf.keras.Model`, Sequential, Functional | Subclass `nn.Module`                |\n",
    "\n",
    " Both are powerful and widely used frameworks for deep learning. Choose based on your **use-case and comfort level**.\n",
    "\n",
    "---\n"
   ]
  },
  {
   "cell_type": "markdown",
   "id": "329d4bde-4656-4667-9b89-3696b87ad90e",
   "metadata": {},
   "source": [
    "### 11. How do you install PyTorch?\n",
    "\n",
    "To install PyTorch, use the official command from the PyTorch website. Choose based on your operating system, Python version, and whether you want GPU support.\n",
    "\n",
    "For CPU-only installation:\n",
    "\n",
    "```bash\n",
    "pip install torch torchvision torchaudio\n"
   ]
  },
  {
   "cell_type": "code",
   "execution_count": 13,
   "id": "1313cb86-2d8b-49a9-a18c-79598091690d",
   "metadata": {},
   "outputs": [
    {
     "name": "stdout",
     "output_type": "stream",
     "text": [
      "Net(\n",
      "  (fc1): Linear(in_features=10, out_features=32, bias=True)\n",
      "  (fc2): Linear(in_features=32, out_features=16, bias=True)\n",
      "  (fc3): Linear(in_features=16, out_features=1, bias=True)\n",
      ")\n"
     ]
    }
   ],
   "source": [
    "# Q12.\n",
    "import torch\n",
    "import torch.nn as nn\n",
    "import torch.nn.functional as F\n",
    "\n",
    "class Net(nn.Module):\n",
    "    def __init__(self):\n",
    "        super(Net, self).__init__()\n",
    "        self.fc1 = nn.Linear(10, 32)\n",
    "        self.fc2 = nn.Linear(32, 16)\n",
    "        self.fc3 = nn.Linear(16, 1)\n",
    "\n",
    "    def forward(self, x):\n",
    "        x = F.relu(self.fc1(x))\n",
    "        x = F.relu(self.fc2(x))\n",
    "        x = torch.sigmoid(self.fc3(x))\n",
    "        return x\n",
    "\n",
    "model = Net()\n",
    "print(model)\n"
   ]
  },
  {
   "cell_type": "markdown",
   "id": "ef2755fb-c836-401c-8b78-f0e0dbe5ab10",
   "metadata": {},
   "source": [
    "# 13. What is the significance of tensors in PyTorch?\n",
    "Tensors are the core data structures in PyTorch. They are similar to NumPy arrays but with added support for GPU acceleration.\n",
    "\n",
    "Key points:\n",
    "\n",
    "Tensors support automatic differentiation which is essential for training neural networks.\n",
    "\n",
    "Operations on tensors are optimized and can be parallelized using GPUs.\n",
    "\n",
    "All model inputs, parameters, and outputs in PyTorch are handled as tensors."
   ]
  },
  {
   "cell_type": "markdown",
   "id": "3cd05320-a5c3-47ea-a14b-b34ac8e5c440",
   "metadata": {},
   "source": [
    "# 14. What is the difference between torch.Tensor and torch.cuda.Tensor in PyTorch?\n",
    "torch.Tensor is the default tensor type and resides in the system's main memory (CPU).\n",
    "\n",
    "torch.cuda.Tensor is a tensor that resides in the GPU memory and is used for faster computation."
   ]
  },
  {
   "cell_type": "markdown",
   "id": "3612ebd8-d89e-4755-8bc4-c0d3c16751ce",
   "metadata": {},
   "source": [
    "# 15. What is the purpose of the torch.optim module in PyTorch?\n",
    "The torch.optim module provides various optimization algorithms used for training neural networks. These algorithms update the model's parameters to minimize the loss function.\n",
    "\n",
    "Common optimizers include:\n",
    "\n",
    "SGD (Stochastic Gradient Descent)\n",
    "\n",
    "Adam\n",
    "\n",
    "RMSprop"
   ]
  },
  {
   "cell_type": "markdown",
   "id": "30af8b5b-f0fb-48a5-8167-7a78fde01d0f",
   "metadata": {},
   "source": [
    "### 16. What are some common activation functions used in neural networks?\n",
    "\n",
    "Activation functions introduce non-linearity into neural networks, enabling them to learn complex patterns.\n",
    "\n",
    "Some common activation functions:\n",
    "\n",
    "1. ReLU (Rectified Linear Unit):\n",
    "   - Most widely used.\n",
    "   - Formula: f(x) = max(0, x)\n",
    "\n",
    "2. Sigmoid:\n",
    "   - Maps input to (0, 1)\n",
    "   - Good for binary classification.\n",
    "\n",
    "3. Tanh:\n",
    "   - Maps input to (-1, 1)\n",
    "   - Often used in RNNs.\n",
    "\n",
    "4. Softmax:\n",
    "   - Converts logits into probabilities.\n",
    "   - Used in multi-class classification.\n",
    "\n",
    "5. Leaky ReLU:\n",
    "   - Variant of ReLU allowing small negative values.\n"
   ]
  },
  {
   "cell_type": "markdown",
   "id": "7fe84e21-99a9-4627-9326-74716973ca5f",
   "metadata": {},
   "source": [
    "### 17. What is the difference between torch.nn.Module and torch.nn.Sequential in PyTorch?\n",
    "\n",
    "- `torch.nn.Module`:\n",
    "   - Base class for all PyTorch models.\n",
    "   - Used when you need full control over model architecture.\n",
    "   - Requires defining a class and writing the `forward()` method.\n",
    "\n",
    "- `torch.nn.Sequential`:\n",
    "   - A simpler way to define a model when layers are applied sequentially.\n",
    "   - No need to explicitly write the forward method.\n",
    "\n",
    "Example using nn.Module:\n",
    "```python\n",
    "import torch.nn as nn\n",
    "\n",
    "class Net(nn.Module):\n",
    "    def __init__(self):\n",
    "        super(Net, self).__init__()\n",
    "        self.layer1 = nn.Linear(10, 32)\n",
    "        self.layer2 = nn.ReLU()\n",
    "        self.layer3 = nn.Linear(32, 1)\n",
    "\n",
    "    def forward(self, x):\n",
    "        return torch.sigmoid(self.layer3(self.layer2(self.layer1(x))))\n"
   ]
  },
  {
   "cell_type": "markdown",
   "id": "60a3b1aa-1f11-4cb0-acb2-fc26b5ddcc0b",
   "metadata": {},
   "source": [
    "\n",
    "### 18. How can you monitor training progress in TensorFlow 2.0?\n",
    "\n",
    "You can monitor training using the following:\n",
    "\n",
    "1. **Verbose Output**:\n",
    "   - `model.fit(..., verbose=1)` shows progress per epoch.\n",
    "\n",
    "2. **TensorBoard**:\n",
    "   - Use `tf.keras.callbacks.TensorBoard()` during training.\n",
    "\n",
    "Example:\n",
    "\n",
    "```python\n",
    "from tensorflow.keras.callbacks import TensorBoard\n",
    "import datetime\n",
    "\n",
    "log_dir = \"logs/\" + datetime.datetime.now().strftime(\"%Y%m%d-%H%M%S\")\n",
    "tensorboard_cb = TensorBoard(log_dir=log_dir, histogram_freq=1)\n",
    "\n",
    "model.fit(X_train, y_train, epochs=5, callbacks=[tensorboard_cb])\n"
   ]
  },
  {
   "cell_type": "markdown",
   "id": "717f10ae-3f8c-4dff-be8d-c0fbc3e33d06",
   "metadata": {},
   "source": [
    "\n",
    "### 19. How does the Keras API fit into TensorFlow 2.0?\n",
    "\n",
    "Keras is the **official high-level API** of TensorFlow 2.0.\n",
    "\n",
    "Key points:\n",
    "\n",
    "- It simplifies building, training, and deploying deep learning models.\n",
    "- Integrated as `tf.keras` inside TensorFlow 2.x.\n",
    "- Offers `Sequential` and functional API for model creation.\n",
    "- Fully compatible with TensorFlow’s low-level features.\n",
    "\n",
    "Example usage:\n",
    "\n",
    "```python\n",
    "from tensorflow.keras.models import Sequential\n",
    "from tensorflow.keras.layers import Dense\n"
   ]
  },
  {
   "cell_type": "markdown",
   "id": "3013f983-d703-43f2-b20d-691959e28058",
   "metadata": {},
   "source": [
    "### 20. What is an example of a deep learning project that can be implemented using TensorFlow 2.0?\n",
    "\n",
    "A simple example: **Image classification using the MNIST dataset**\n",
    "\n",
    "Steps involved:\n",
    "\n",
    "1. Load dataset:\n",
    "```python\n",
    "from tensorflow.keras.datasets import mnist\n",
    "(x_train, y_train), (x_test, y_test) = mnist.load_data()\n"
   ]
  },
  {
   "cell_type": "markdown",
   "id": "f950cab6-7fdd-4c82-aa29-c960fdafa2e7",
   "metadata": {},
   "source": [
    "### 21. What is the main advantage of using pre-trained models in TensorFlow and PyTorch?\n",
    "\n",
    "Pre-trained models are models that have already been trained on large benchmark datasets like ImageNet, COCO, or Wikipedia text.\n",
    "\n",
    "Main advantages:\n",
    "\n",
    "1. **Reduced Training Time**: You do not have to train the model from scratch, saving hours or even days of training.\n",
    "2. **Improved Accuracy**: Pre-trained models often generalize well and serve as strong baselines.\n",
    "3. **Transfer Learning**: You can reuse feature extraction layers from a pre-trained model and fine-tune the top layers for your specific task.\n",
    "4. **Resource Efficiency**: Saves computation power and avoids the need for large training datasets.\n",
    "\n",
    "In **TensorFlow**:\n",
    "\n",
    "```python\n",
    "from tensorflow.keras.applications import MobileNetV2\n",
    "\n",
    "model = MobileNetV2(weights='imagenet')  # loads a pre-trained model\n"
   ]
  },
  {
   "cell_type": "markdown",
   "id": "9eedfa2b-df55-44b1-a048-5c1410dc82ac",
   "metadata": {},
   "source": [
    "## Practical"
   ]
  },
  {
   "cell_type": "code",
   "execution_count": 15,
   "id": "8040e361-4d17-48f1-bc31-c239f05f8ce2",
   "metadata": {},
   "outputs": [
    {
     "name": "stdout",
     "output_type": "stream",
     "text": [
      "TensorFlow version: 2.15.0\n"
     ]
    }
   ],
   "source": [
    "## Practical 1. How do you install and verify that TensorFlow 2.0 was installed successfully?\n",
    "# Step 1: Install TensorFlow 2.0 using pip\n",
    "# (Uncomment the line below if you're running this in a new environment)\n",
    "# !pip install tensorflow==2.0\n",
    "\n",
    "# Step 2: Verify installation\n",
    "import tensorflow as tf\n",
    "print(\"TensorFlow version:\", tf.__version__)\n"
   ]
  },
  {
   "cell_type": "code",
   "execution_count": 16,
   "id": "44d30da2-3aee-4619-b43b-f74a744e4c8e",
   "metadata": {},
   "outputs": [
    {
     "name": "stdout",
     "output_type": "stream",
     "text": [
      "Addition Result: 30\n"
     ]
    }
   ],
   "source": [
    "## Practical 2. How can you define a simple function in TensorFlow 2.0 to perform addition?\n",
    "import tensorflow as tf\n",
    "\n",
    "@tf.function  # Converts to a TensorFlow graph for optimization\n",
    "def add_numbers(x, y):\n",
    "    return x + y\n",
    "\n",
    "# Test the function\n",
    "a = tf.constant(10)\n",
    "b = tf.constant(20)\n",
    "result = add_numbers(a, b)\n",
    "\n",
    "print(\"Addition Result:\", result.numpy())\n"
   ]
  },
  {
   "cell_type": "code",
   "execution_count": 17,
   "id": "88e66a84-38db-4e41-b5dd-09ac1f304349",
   "metadata": {},
   "outputs": [
    {
     "name": "stdout",
     "output_type": "stream",
     "text": [
      "Model: \"sequential_2\"\n",
      "_________________________________________________________________\n",
      " Layer (type)                Output Shape              Param #   \n",
      "=================================================================\n",
      " dense_6 (Dense)             (None, 64)                704       \n",
      "                                                                 \n",
      " dense_7 (Dense)             (None, 1)                 65        \n",
      "                                                                 \n",
      "=================================================================\n",
      "Total params: 769 (3.00 KB)\n",
      "Trainable params: 769 (3.00 KB)\n",
      "Non-trainable params: 0 (0.00 Byte)\n",
      "_________________________________________________________________\n"
     ]
    }
   ],
   "source": [
    "## Practical 3. How can you create a simple neural network in TensorFlow 2.0 with one hidden layer?\n",
    "from tensorflow.keras.models import Sequential\n",
    "from tensorflow.keras.layers import Dense\n",
    "\n",
    "model = Sequential([\n",
    "    Dense(64, activation='relu', input_shape=(10,)),  # Hidden layer\n",
    "    Dense(1, activation='sigmoid')  # Output layer\n",
    "])\n",
    "\n",
    "model.compile(optimizer='adam', loss='binary_crossentropy', metrics=['accuracy'])\n",
    "\n",
    "model.summary()"
   ]
  },
  {
   "cell_type": "code",
   "execution_count": 18,
   "id": "714d4ca8-a174-41b9-a558-979a455d33ef",
   "metadata": {},
   "outputs": [
    {
     "name": "stdout",
     "output_type": "stream",
     "text": [
      "Epoch 1/10\n",
      "WARNING:tensorflow:From C:\\Users\\hetvi\\AppData\\Local\\Programs\\Python\\Python311\\Lib\\site-packages\\keras\\src\\utils\\tf_utils.py:492: The name tf.ragged.RaggedTensorValue is deprecated. Please use tf.compat.v1.ragged.RaggedTensorValue instead.\n",
      "\n",
      "WARNING:tensorflow:From C:\\Users\\hetvi\\AppData\\Local\\Programs\\Python\\Python311\\Lib\\site-packages\\keras\\src\\engine\\base_layer_utils.py:384: The name tf.executing_eagerly_outside_functions is deprecated. Please use tf.compat.v1.executing_eagerly_outside_functions instead.\n",
      "\n",
      "16/16 [==============================] - 4s 5ms/step - loss: 0.6903 - accuracy: 0.5500\n",
      "Epoch 2/10\n",
      "16/16 [==============================] - 0s 3ms/step - loss: 0.6883 - accuracy: 0.5520\n",
      "Epoch 3/10\n",
      "16/16 [==============================] - 0s 10ms/step - loss: 0.6872 - accuracy: 0.5620\n",
      "Epoch 4/10\n",
      "16/16 [==============================] - 0s 20ms/step - loss: 0.6862 - accuracy: 0.5640\n",
      "Epoch 5/10\n",
      "16/16 [==============================] - 0s 11ms/step - loss: 0.6857 - accuracy: 0.5600\n",
      "Epoch 6/10\n",
      "16/16 [==============================] - 0s 8ms/step - loss: 0.6860 - accuracy: 0.5740\n",
      "Epoch 7/10\n",
      "16/16 [==============================] - 0s 8ms/step - loss: 0.6840 - accuracy: 0.5740\n",
      "Epoch 8/10\n",
      "16/16 [==============================] - 0s 16ms/step - loss: 0.6832 - accuracy: 0.5700\n",
      "Epoch 9/10\n",
      "16/16 [==============================] - 0s 11ms/step - loss: 0.6825 - accuracy: 0.5620\n",
      "Epoch 10/10\n",
      "16/16 [==============================] - 0s 15ms/step - loss: 0.6823 - accuracy: 0.5660\n"
     ]
    },
    {
     "data": {
      "text/plain": [
       "Text(0.5, 0, 'Epoch')"
      ]
     },
     "execution_count": 18,
     "metadata": {},
     "output_type": "execute_result"
    },
    {
     "data": {
      "image/png": "[encoded data removed]",
      "text/plain": [
       "<Figure size 1200x500 with 2 Axes>"
      ]
     },
     "metadata": {},
     "output_type": "display_data"
    }
   ],
   "source": [
    "## Practical 4. How can you visualize the training progress using TensorFlow and Matplotlib?\n",
    "import tensorflow as tf\n",
    "import matplotlib.pyplot as plt\n",
    "import numpy as np\n",
    "\n",
    "X = np.random.rand(500, 10)\n",
    "y = np.random.randint(0, 2, size=(500, 1))\n",
    "\n",
    "model = tf.keras.Sequential([\n",
    "    tf.keras.layers.Dense(32, activation='relu', input_shape=(10,)),\n",
    "    tf.keras.layers.Dense(1, activation='sigmoid')\n",
    "])\n",
    "\n",
    "model.compile(optimizer='adam', loss='binary_crossentropy', metrics=['accuracy'])\n",
    "\n",
    "history = model.fit(X, y, epochs=10, batch_size=32, verbose=1)\n",
    "\n",
    "plt.figure(figsize=(12, 5))\n",
    "\n",
    "plt.subplot(1, 2, 1)\n",
    "plt.plot(history.history['accuracy'], marker='o')\n",
    "plt.title('Training Accuracy')\n",
    "plt.xlabel('Epoch')\n",
    "plt.ylabel('Accuracy')\n",
    "\n",
    "plt.subplot(1, 2, 2)\n",
    "plt.plot(history.history['loss'], marker='o', color='orange')\n",
    "plt.title('Training Loss')\n",
    "plt.xlabel('Epoch')"
   ]
  },
  {
   "cell_type": "code",
   "execution_count": 19,
   "id": "f3eaa9ac-5a06-4d8b-b4e0-dd6a61bb8fcb",
   "metadata": {},
   "outputs": [
    {
     "name": "stdout",
     "output_type": "stream",
     "text": [
      "PyTorch version: 2.7.0+cpu\n",
      "Is CUDA available: False\n"
     ]
    }
   ],
   "source": [
    "## Practical 5. How do you install PyTorch and verify the PyTorch installation?\n",
    "\n",
    "import torch\n",
    "\n",
    "print(\"PyTorch version:\", torch.__version__)\n",
    "print(\"Is CUDA available:\", torch.cuda.is_available())\n"
   ]
  },
  {
   "cell_type": "code",
   "execution_count": 20,
   "id": "640a3ee6-c42a-47b3-b067-ab447fc3fcf6",
   "metadata": {},
   "outputs": [
    {
     "name": "stdout",
     "output_type": "stream",
     "text": [
      "SimpleNet(\n",
      "  (fc1): Linear(in_features=10, out_features=32, bias=True)\n",
      "  (fc2): Linear(in_features=32, out_features=1, bias=True)\n",
      ")\n"
     ]
    }
   ],
   "source": [
    "## Practical 6. How do you create a simple neural network in PyTorch?\n",
    "import torch.nn as nn\n",
    "import torch.nn.functional as F\n",
    "\n",
    "class SimpleNet(nn.Module):\n",
    "    def __init__(self):\n",
    "        super(SimpleNet, self).__init__()\n",
    "        self.fc1 = nn.Linear(10, 32)  # Input layer to hidden layer\n",
    "        self.fc2 = nn.Linear(32, 1)   # Hidden layer to output\n",
    "\n",
    "    def forward(self, x):\n",
    "        x = F.relu(self.fc1(x))\n",
    "        x = torch.sigmoid(self.fc2(x))\n",
    "        return x\n",
    "\n",
    "model = SimpleNet()\n",
    "\n",
    "print(model)\n"
   ]
  },
  {
   "cell_type": "code",
   "execution_count": null,
   "id": "d74b9f1e-cd76-49a1-82ba-44c75957cec0",
   "metadata": {},
   "outputs": [],
   "source": []
  }
 ],
 "metadata": {
  "kernelspec": {
   "display_name": "Python 3 (ipykernel)",
   "language": "python",
   "name": "python3"
  },
  "language_info": {
   "codemirror_mode": {
    "name": "ipython",
    "version": 3
   },
   "file_extension": ".py",
   "mimetype": "text/x-python",
   "name": "python",
   "nbconvert_exporter": "python",
   "pygments_lexer": "ipython3",
   "version": "3.11.7"
  }
 },
 "nbformat": 4,
 "nbformat_minor": 5
}
