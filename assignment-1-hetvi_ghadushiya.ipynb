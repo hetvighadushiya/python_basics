{
 "cells": [
  {
   "cell_type": "code",
   "execution_count": 77,
   "id": "9d565b52-ba93-4004-8fda-6b7794679afa",
   "metadata": {},
   "outputs": [],
   "source": [
    "#read this dataset"
   ]
  },
  {
   "cell_type": "code",
   "execution_count": 76,
   "id": "9cf117c8-31d2-46c8-8a64-03c6306a56fd",
   "metadata": {
    "tags": [
     "q1"
    ]
   },
   "outputs": [],
   "source": [
    "# q1.Explain the key features of Python that make it a popular choice for programming\n",
    "\n",
    "#Inlenartion with Computer\n",
    "\n",
    "#Software Program's\n",
    "\n",
    "#Embedded Devices\n",
    "\n",
    "#Robotics\n",
    "\n",
    "#Chat GPT\n"
   ]
  },
  {
   "cell_type": "code",
   "execution_count": 78,
   "id": "0cf52941-bfe6-49db-bc60-715cd34d8183",
   "metadata": {
    "tags": [
     "q2"
    ]
   },
   "outputs": [],
   "source": [
    "# q2.Describe the role of predefined keywords in Python and provide examples of how they are used in a program\n",
    "\n",
    "#Predefined keywords in Python are reserved words that define the language's syntax and structure. They perform essential roles such as:\n",
    "\n",
    "#Control Flow: if, else, for, while manage program execution.\n",
    "#Function Definitions: def defines functions, and return specifies return values.\n",
    "#Exception Handling: try, except, finally manage errors.\n",
    "#Class Definitions: class creates classes, and self refers to instance attributes.\n",
    "#Imports: import and from include modules and their functions."
   ]
  },
  {
   "cell_type": "code",
   "execution_count": 5,
   "id": "8de4b334-6cbe-48d5-81f2-56b3b7d83b10",
   "metadata": {},
   "outputs": [
    {
     "name": "stdout",
     "output_type": "stream",
     "text": [
      "x is greater than 5\n"
     ]
    }
   ],
   "source": [
    "# examples 1:\n",
    "# if, else: Used for conditional execution.\n",
    "\n",
    "x = 10\n",
    "if x > 5:\n",
    "    print(\"x is greater than 5\")\n",
    "else:\n",
    "    print(\"x is 5 or less\")\n"
   ]
  },
  {
   "cell_type": "code",
   "execution_count": 7,
   "id": "f41b94b5-e91d-4bc9-9191-ac3de8cff692",
   "metadata": {},
   "outputs": [
    {
     "name": "stdout",
     "output_type": "stream",
     "text": [
      "Hello, Hetvi\n"
     ]
    }
   ],
   "source": [
    "# example 2:\n",
    "# def: Defines a function named greet.\n",
    "# return: Specifies the output of the function.\n",
    "\n",
    "def greet(name):\n",
    "    return \"Hello, \" + name\n",
    "\n",
    "message = greet(\"Hetvi\")\n",
    "print(message)\n"
   ]
  },
  {
   "cell_type": "code",
   "execution_count": 9,
   "id": "582d059c-324f-41f0-a76e-6370a18e4a28",
   "metadata": {},
   "outputs": [
    {
     "name": "stdout",
     "output_type": "stream",
     "text": [
      "Hello, Hetvi\n"
     ]
    }
   ],
   "source": [
    "# example 3:\n",
    "# class: Defines a new class Person.\n",
    "# self: Refers to instance attributes and methods.\n",
    "\n",
    "class Person:\n",
    "    def __init__(self, name):\n",
    "        self.name = name\n",
    "\n",
    "    def greet(self):\n",
    "        return \"Hello, \" + self.name\n",
    "\n",
    "p = Person(\"Hetvi\")\n",
    "print(p.greet())\n"
   ]
  },
  {
   "cell_type": "code",
   "execution_count": 10,
   "id": "7a934008-9c26-4daf-93fe-12c0399ed0bb",
   "metadata": {},
   "outputs": [
    {
     "name": "stdout",
     "output_type": "stream",
     "text": [
      "You can't divide by zero!\n",
      "Execution completed.\n"
     ]
    }
   ],
   "source": [
    "# example 4:\n",
    "# try, except, finally: Handle and manage exceptions.\n",
    "\n",
    "try:\n",
    "    result = 10 / 0\n",
    "except ZeroDivisionError:\n",
    "    print(\"You can't divide by zero!\")\n",
    "finally:\n",
    "    print(\"Execution completed.\")\n"
   ]
  },
  {
   "cell_type": "code",
   "execution_count": 11,
   "id": "a9ee223f-a79b-424c-98f5-d84118c688ff",
   "metadata": {
    "tags": [
     "q3",
     "q4",
     "q7",
     "q6",
     "q5",
     "q2",
     "q1"
    ]
   },
   "outputs": [],
   "source": [
    "# q3.Compare and contrast mutable and immutable objects in Python with examples\n",
    "\n",
    "#Mutable Objects\n",
    "\n",
    "# Definition: Objects that can be changed after they are created.\n",
    "# Examples: Lists, dictionaries, and sets.\n",
    "#        Characteristics:\n",
    "#             You can modify, add, or remove elements.\n",
    "#             Changes affect the original object."
   ]
  },
  {
   "cell_type": "code",
   "execution_count": 14,
   "id": "7d8b8175-b478-4283-b797-39324859c1cf",
   "metadata": {},
   "outputs": [
    {
     "name": "stdout",
     "output_type": "stream",
     "text": [
      "[1, 2, 3, 4]\n"
     ]
    }
   ],
   "source": [
    "# example : List (mutable)\n",
    "\n",
    "numbers = [1, 2, 3]\n",
    "numbers.append(4)  \n",
    "print(numbers)  \n"
   ]
  },
  {
   "cell_type": "code",
   "execution_count": 13,
   "id": "9dbef27e-7605-418e-9910-b4320dd2d439",
   "metadata": {},
   "outputs": [],
   "source": [
    "#Immutable Objects\n",
    "\n",
    "# Definition: Objects that cannot be changed once they are created.\n",
    "# Examples: Integers, strings, and tuples.\n",
    "#         Characteristics:\n",
    "#                Any operation that seems to modify the object actually creates a new object.\n",
    "#                The original object remains unchanged."
   ]
  },
  {
   "cell_type": "code",
   "execution_count": 15,
   "id": "021ed35d-7d7c-4a4e-8d5a-004ca1ff0e73",
   "metadata": {},
   "outputs": [
    {
     "name": "stdout",
     "output_type": "stream",
     "text": [
      "hello\n",
      "HELLO\n"
     ]
    }
   ],
   "source": [
    "# example : # String (immutable)\n",
    "\n",
    "text = \"hello\"\n",
    "new_text = text.upper()\n",
    "print(text)  \n",
    "print(new_text) \n"
   ]
  },
  {
   "cell_type": "code",
   "execution_count": 79,
   "id": "54c74f00-5f3e-4980-b4f1-77053720ed9e",
   "metadata": {
    "tags": [
     "q4"
    ]
   },
   "outputs": [],
   "source": [
    "# q4.Discuss the different types of operators in Python and provide examples of how they are used\n",
    "#operators are special symbols or keywords that are used to perform operations on operands. Python supports a variety of operators, which can be categorized into several types:"
   ]
  },
  {
   "cell_type": "code",
   "execution_count": 80,
   "id": "a4491b1d-83fc-4f02-b088-988173f99471",
   "metadata": {},
   "outputs": [
    {
     "name": "stdout",
     "output_type": "stream",
     "text": [
      "8\n"
     ]
    }
   ],
   "source": [
    "# 1. Arithmetic Operators\n",
    "\n",
    "#Addition (+): Adds two value\n",
    "result = 5 + 3\n",
    "print(result)"
   ]
  },
  {
   "cell_type": "code",
   "execution_count": 21,
   "id": "512afe87-8340-4ea8-b91b-31ba79d3fb31",
   "metadata": {},
   "outputs": [
    {
     "name": "stdout",
     "output_type": "stream",
     "text": [
      "4.0\n"
     ]
    }
   ],
   "source": [
    "#Division (/): Divides one value by another (returns float).\n",
    "result = 8 / 2\n",
    "print(result)"
   ]
  },
  {
   "cell_type": "code",
   "execution_count": 22,
   "id": "70f6dc5d-f6f9-4196-8f8c-edc34cb7ed57",
   "metadata": {},
   "outputs": [
    {
     "name": "stdout",
     "output_type": "stream",
     "text": [
      "2\n"
     ]
    }
   ],
   "source": [
    "#Floor Division (//): Divides and returns the integer part.\n",
    "result = 8 // 3  \n",
    "print(result)"
   ]
  },
  {
   "cell_type": "code",
   "execution_count": 23,
   "id": "1ea12df5-1f10-463b-893c-57f68a322bd5",
   "metadata": {},
   "outputs": [
    {
     "name": "stdout",
     "output_type": "stream",
     "text": [
      "1\n"
     ]
    }
   ],
   "source": [
    "#Modulus (%): Returns the remainder of division\n",
    "result = 10 % 3\n",
    "print(result)"
   ]
  },
  {
   "cell_type": "code",
   "execution_count": 24,
   "id": "512f6e28-8f7e-47d5-b92f-fb6765cdd1a8",
   "metadata": {},
   "outputs": [
    {
     "name": "stdout",
     "output_type": "stream",
     "text": [
      "8\n"
     ]
    }
   ],
   "source": [
    "#Exponentiation (**): Raises one value to the power of another\n",
    "result = 2 ** 3  \n",
    "print(result)"
   ]
  },
  {
   "cell_type": "code",
   "execution_count": 33,
   "id": "a1fd2215-1dc7-4f92-aefb-ac4c8f785023",
   "metadata": {},
   "outputs": [
    {
     "name": "stdout",
     "output_type": "stream",
     "text": [
      "True\n"
     ]
    }
   ],
   "source": [
    "# 2. Comparison Operators\n",
    "# Compare two values and return a boolean result.\n",
    "\n",
    "#Equal to (==): Checks if two values are equal.\n",
    "result = (5 == 5) \n",
    "print(result)"
   ]
  },
  {
   "cell_type": "code",
   "execution_count": 34,
   "id": "47d5116e-9ccd-407e-926d-6e656d354d13",
   "metadata": {},
   "outputs": [
    {
     "name": "stdout",
     "output_type": "stream",
     "text": [
      "True\n"
     ]
    }
   ],
   "source": [
    "\n",
    "#Not equal to (!=): Checks if two values are not equal.\n",
    "result = (5 != 3)\n",
    "print(result)"
   ]
  },
  {
   "cell_type": "code",
   "execution_count": 35,
   "id": "7a2d8ee6-aa06-45ff-ba79-96b74582c16d",
   "metadata": {},
   "outputs": [
    {
     "name": "stdout",
     "output_type": "stream",
     "text": [
      "True\n"
     ]
    }
   ],
   "source": [
    "\n",
    "#Greater than (>): Checks if one value is greater than another.\n",
    "result = (7 > 3) \n",
    "print(result)"
   ]
  },
  {
   "cell_type": "code",
   "execution_count": 36,
   "id": "0d7fb693-ede6-4e5c-a207-9af4a83f93a1",
   "metadata": {},
   "outputs": [
    {
     "name": "stdout",
     "output_type": "stream",
     "text": [
      "True\n"
     ]
    }
   ],
   "source": [
    "\n",
    "#Less than (<): Checks if one value is less than another.\n",
    "result = (2 < 4)\n",
    "print(result)"
   ]
  },
  {
   "cell_type": "code",
   "execution_count": 37,
   "id": "424d94bc-7469-42d2-8858-6b4ceb800435",
   "metadata": {},
   "outputs": [
    {
     "name": "stdout",
     "output_type": "stream",
     "text": [
      "True\n"
     ]
    }
   ],
   "source": [
    "\n",
    "#Greater than or equal to (>=): Checks if one value is greater than or equal to another.\n",
    "result = (5 >= 5) \n",
    "print(result)"
   ]
  },
  {
   "cell_type": "code",
   "execution_count": 38,
   "id": "92043780-7a6a-41d9-98ca-c54adae006c3",
   "metadata": {},
   "outputs": [
    {
     "name": "stdout",
     "output_type": "stream",
     "text": [
      "True\n"
     ]
    }
   ],
   "source": [
    "\n",
    "#Less than or equal to (<=): Checks if one value is less than or equal to another.\n",
    "result = (3 <= 4) \n",
    "print(result)"
   ]
  },
  {
   "cell_type": "code",
   "execution_count": 39,
   "id": "f0db624c-1d8f-4720-b7fa-87fd47642f48",
   "metadata": {},
   "outputs": [
    {
     "name": "stdout",
     "output_type": "stream",
     "text": [
      "True\n"
     ]
    }
   ],
   "source": [
    "#3. Logical Operators\n",
    "#Combine boolean expressions.\n",
    "\n",
    "#And (and): Returns True if both expressions are true.\n",
    "result = (5 > 2) and (8 < 10) \n",
    "print(result)"
   ]
  },
  {
   "cell_type": "code",
   "execution_count": 40,
   "id": "730d423d-83cc-4c0c-bbfc-84d739d38fda",
   "metadata": {},
   "outputs": [
    {
     "name": "stdout",
     "output_type": "stream",
     "text": [
      "True\n"
     ]
    }
   ],
   "source": [
    "#Or (or): Returns True if at least one expression is true.\n",
    "result = (5 > 2) or (8 > 10)\n",
    "print(result)"
   ]
  },
  {
   "cell_type": "code",
   "execution_count": 41,
   "id": "0d7acf48-7b41-4b75-ad2b-ccf3764297ca",
   "metadata": {},
   "outputs": [
    {
     "name": "stdout",
     "output_type": "stream",
     "text": [
      "True\n"
     ]
    }
   ],
   "source": [
    "#Not (not): Returns True if the expression is false.\n",
    "result = not (5 > 10) \n",
    "print(result)\n"
   ]
  },
  {
   "cell_type": "code",
   "execution_count": 42,
   "id": "0a69e22e-fddf-4abc-948d-df5024c8ebe0",
   "metadata": {},
   "outputs": [
    {
     "name": "stdout",
     "output_type": "stream",
     "text": [
      "True\n"
     ]
    }
   ],
   "source": [
    "#4. Assignment Operators\n",
    "#Assign values to variables and can also perform operations.\n",
    "\n",
    "#Assignment (=): Assigns a value to a variable.\n",
    "x = 5\n",
    "print(result)"
   ]
  },
  {
   "cell_type": "code",
   "execution_count": 43,
   "id": "7ec5c623-0167-45ba-9ed0-8609b3121510",
   "metadata": {},
   "outputs": [
    {
     "name": "stdout",
     "output_type": "stream",
     "text": [
      "True\n"
     ]
    }
   ],
   "source": [
    "#Add and assign (+=): Adds and assigns a value.\n",
    "x += 3 \n",
    "print(result)"
   ]
  },
  {
   "cell_type": "code",
   "execution_count": 44,
   "id": "4f7fd13d-7044-4061-9656-2b9d60ed7d45",
   "metadata": {},
   "outputs": [
    {
     "name": "stdout",
     "output_type": "stream",
     "text": [
      "True\n"
     ]
    }
   ],
   "source": [
    "#Subtract and assign (-=): Subtracts and assigns a value.\n",
    "x -= 2\n",
    "print(result)"
   ]
  },
  {
   "cell_type": "code",
   "execution_count": 45,
   "id": "3da14c8c-62dd-4cd8-8e16-7604b8539466",
   "metadata": {},
   "outputs": [
    {
     "name": "stdout",
     "output_type": "stream",
     "text": [
      "True\n"
     ]
    }
   ],
   "source": [
    "#Multiply and assign (*=): Multiplies and assigns a value.\n",
    "x *= 4 \n",
    "print(result)"
   ]
  },
  {
   "cell_type": "code",
   "execution_count": 46,
   "id": "3f2dfe31-7bac-4481-b4d3-78f1e1fd6f18",
   "metadata": {},
   "outputs": [
    {
     "name": "stdout",
     "output_type": "stream",
     "text": [
      "True\n"
     ]
    }
   ],
   "source": [
    "#Divide and assign (/=): Divides and assigns a value.\n",
    "x /= 6 \n",
    "print(result)"
   ]
  },
  {
   "cell_type": "code",
   "execution_count": 47,
   "id": "88672953-3f3a-4401-95ba-bb6bb29ef4bc",
   "metadata": {},
   "outputs": [
    {
     "name": "stdout",
     "output_type": "stream",
     "text": [
      "1\n"
     ]
    }
   ],
   "source": [
    "#Bitwise Operators\n",
    "#Perform operations on binary representations of integers.\n",
    "\n",
    "#AND (&): Bitwise AND.\n",
    "result = 5 & 3  \n",
    "print(result)"
   ]
  },
  {
   "cell_type": "code",
   "execution_count": 48,
   "id": "b54dd3a4-ee98-4718-a6b5-b18e2978a556",
   "metadata": {},
   "outputs": [
    {
     "name": "stdout",
     "output_type": "stream",
     "text": [
      "7\n"
     ]
    }
   ],
   "source": [
    "#OR (|): Bitwise OR.\n",
    "result = 5 | 3 \n",
    "print(result)"
   ]
  },
  {
   "cell_type": "code",
   "execution_count": 49,
   "id": "e9e9def5-e520-4ebb-b3cb-70cf8de913c2",
   "metadata": {},
   "outputs": [
    {
     "name": "stdout",
     "output_type": "stream",
     "text": [
      "6\n"
     ]
    }
   ],
   "source": [
    "#XOR (^): Bitwise XOR.\n",
    "result = 5 ^ 3 \n",
    "print(result)"
   ]
  },
  {
   "cell_type": "code",
   "execution_count": 50,
   "id": "4582a06f-0a13-4a2d-875a-8b1d78d5e62b",
   "metadata": {},
   "outputs": [
    {
     "name": "stdout",
     "output_type": "stream",
     "text": [
      "-6\n"
     ]
    }
   ],
   "source": [
    "#NOT (~): Bitwise NOT (inverts bits).\n",
    "result = ~5 \n",
    "print(result)"
   ]
  },
  {
   "cell_type": "code",
   "execution_count": 51,
   "id": "e5348901-52f9-4445-9ece-0681b937056e",
   "metadata": {},
   "outputs": [
    {
     "name": "stdout",
     "output_type": "stream",
     "text": [
      "10\n"
     ]
    }
   ],
   "source": [
    "#Shift left (<<): Shifts bits to the left.\n",
    "result = 5 << 1 \n",
    "print(result)"
   ]
  },
  {
   "cell_type": "code",
   "execution_count": 52,
   "id": "b3370ee1-12db-4792-9c32-3d2f3613bc62",
   "metadata": {},
   "outputs": [
    {
     "name": "stdout",
     "output_type": "stream",
     "text": [
      "2\n"
     ]
    }
   ],
   "source": [
    "#Shift right (>>): Shifts bits to the right.\n",
    "result = 5 >> 1  \n",
    "print(result)"
   ]
  },
  {
   "cell_type": "code",
   "execution_count": 53,
   "id": "ecce5cb1-3e90-4edc-b272-79b4d323190e",
   "metadata": {},
   "outputs": [
    {
     "name": "stdout",
     "output_type": "stream",
     "text": [
      "True\n"
     ]
    }
   ],
   "source": [
    "#6. Identity Operators\n",
    "#Check if two variables point to the same object.\n",
    "\n",
    "#Is (is): Checks if two references point to the same object.\n",
    "a = [1, 2, 3]\n",
    "b = a\n",
    "result = (a is b)\n",
    "print(result)"
   ]
  },
  {
   "cell_type": "code",
   "execution_count": 54,
   "id": "8c4a0265-2b57-46f9-9c38-ad3dbf29900e",
   "metadata": {},
   "outputs": [
    {
     "name": "stdout",
     "output_type": "stream",
     "text": [
      "True\n"
     ]
    }
   ],
   "source": [
    "#Is not (is not): Checks if two references do not point to the same object.\n",
    "a = [1, 2, 3]\n",
    "b = [1, 2, 3]\n",
    "result = (a is not b)\n",
    "print(result)"
   ]
  },
  {
   "cell_type": "code",
   "execution_count": 55,
   "id": "be951d79-e369-4da6-bec0-155582cbd601",
   "metadata": {},
   "outputs": [
    {
     "name": "stdout",
     "output_type": "stream",
     "text": [
      "True\n"
     ]
    }
   ],
   "source": [
    "#7. Membership Operators\n",
    "#Check if a value is part of a collection.\n",
    "\n",
    "#In (in): Checks if a value is present in a collection.\n",
    "result = 3 in [1, 2, 3] \n",
    "print(result)"
   ]
  },
  {
   "cell_type": "code",
   "execution_count": 56,
   "id": "646cd51f-d999-4508-9dde-e7e7bf2e8462",
   "metadata": {},
   "outputs": [
    {
     "name": "stdout",
     "output_type": "stream",
     "text": [
      "True\n"
     ]
    }
   ],
   "source": [
    "#Not in (not in): Checks if a value is not present in a collection.\n",
    "result = 4 not in [1, 2, 3] \n",
    "print(result)"
   ]
  },
  {
   "cell_type": "code",
   "execution_count": 81,
   "id": "447c3248-6573-4dea-b1c6-95872fa0e18b",
   "metadata": {
    "tags": [
     "q5"
    ]
   },
   "outputs": [],
   "source": [
    "# q5.Explain the concept of type casting in Python with examples\n",
    "# refers to converting a variable from one data type to another. This is often necessary when performing operations that require data to be in a specific format or type. Python provides built-in functions for this purpose, which are straightforward to use.\n",
    "#Types of Casting\n",
    "#Casting to Integer (int()):\n",
    "#Converts a value to an integer.\n",
    "x = 3.7\n",
    "y = int(x)"
   ]
  },
  {
   "cell_type": "code",
   "execution_count": 58,
   "id": "b4ab97c6-f0db-42a0-84d3-ee2898f902eb",
   "metadata": {},
   "outputs": [],
   "source": [
    "\n",
    "#Casting to Float (float()):\n",
    "#Converts a value to a float.\n",
    "x = 5\n",
    "y = float(x)"
   ]
  },
  {
   "cell_type": "code",
   "execution_count": 59,
   "id": "1ca9463b-0c74-4a65-beeb-7f81ef190012",
   "metadata": {},
   "outputs": [],
   "source": [
    "\n",
    "#Casting to String (str()):\n",
    "#Converts a value to a string.\n",
    "x = 123\n",
    "y = str(x) "
   ]
  },
  {
   "cell_type": "code",
   "execution_count": 60,
   "id": "43d9d7cf-5fa4-4ad6-8c40-62e40aac61b0",
   "metadata": {},
   "outputs": [],
   "source": [
    "#Casting to List (list()):\n",
    "#Converts an iterable to a list.\n",
    "x = (1, 2, 3) \n",
    "y = list(x)  "
   ]
  },
  {
   "cell_type": "code",
   "execution_count": 61,
   "id": "5b5b9989-30d5-4d53-b8bb-3c4d2c40de41",
   "metadata": {},
   "outputs": [],
   "source": [
    "#Casting to Tuple (tuple()):\n",
    "#Converts an iterable to a tuple.\n",
    "x = [1, 2, 3] \n",
    "y = tuple(x) "
   ]
  },
  {
   "cell_type": "code",
   "execution_count": 62,
   "id": "1ebfbe32-167a-4d61-aa16-c3137e9ef77b",
   "metadata": {},
   "outputs": [],
   "source": [
    "#Examples\n",
    "#From Float to Integer:\n",
    "num = 7.9\n",
    "whole_number = int(num) "
   ]
  },
  {
   "cell_type": "code",
   "execution_count": 63,
   "id": "d2876c6d-be47-4e3e-8c51-ef98bb9dcb44",
   "metadata": {},
   "outputs": [],
   "source": [
    "#From Integer to String:\n",
    "number = 10\n",
    "text = str(number)"
   ]
  },
  {
   "cell_type": "code",
   "execution_count": 65,
   "id": "498a3eca-7c4b-47f9-b022-5602a7628e1c",
   "metadata": {
    "tags": [
     "q6"
    ]
   },
   "outputs": [
    {
     "name": "stdout",
     "output_type": "stream",
     "text": [
      "x is greater than 5\n"
     ]
    }
   ],
   "source": [
    "# q6.How do conditional statements work in Python? Illustrate with examples\n",
    "\n",
    "#Conditional statements in Python control the flow of execution based on certain conditions. They allow you to execute specific blocks of code depending on whether a condition is true or false.\n",
    "\n",
    "#Key Conditional Statements\n",
    "#if Statement\n",
    "#Executes a block of code if a condition is true.\n",
    "x = 10\n",
    "if x > 5:\n",
    "    print(\"x is greater than 5\")"
   ]
  },
  {
   "cell_type": "code",
   "execution_count": 66,
   "id": "471aecf6-4075-4d66-bee2-2a502fb54349",
   "metadata": {},
   "outputs": [
    {
     "name": "stdout",
     "output_type": "stream",
     "text": [
      "x is 5 or less\n"
     ]
    }
   ],
   "source": [
    "#else Statement\n",
    "#Executes a block of code if the if condition is false\n",
    "x = 3\n",
    "if x > 5:\n",
    "    print(\"x is greater than 5\")\n",
    "else:\n",
    "    print(\"x is 5 or less\")"
   ]
  },
  {
   "cell_type": "code",
   "execution_count": 67,
   "id": "795ed3b5-78a2-4b36-a858-66d84b106b69",
   "metadata": {},
   "outputs": [
    {
     "name": "stdout",
     "output_type": "stream",
     "text": [
      "x is greater than 5 but less than or equal to 10\n"
     ]
    }
   ],
   "source": [
    "#elif Statement\n",
    "#Allows you to check multiple conditions. It stands for \"else if\" and is used after an if statement.\n",
    "x = 7\n",
    "if x > 10:\n",
    "    print(\"x is greater than 10\")\n",
    "elif x > 5:\n",
    "    print(\"x is greater than 5 but less than or equal to 10\") \n",
    "else:\n",
    "    print(\"x is 5 or less\")"
   ]
  },
  {
   "cell_type": "code",
   "execution_count": 68,
   "id": "454c6ee6-6eff-430f-8f99-e14b8ba8255a",
   "metadata": {},
   "outputs": [
    {
     "name": "stdout",
     "output_type": "stream",
     "text": [
      "You are an adult.\n"
     ]
    }
   ],
   "source": [
    "#Examples\n",
    "#Basic if Statement:\n",
    "age = 18\n",
    "if age >= 18:\n",
    "    print(\"You are an adult.\") "
   ]
  },
  {
   "cell_type": "code",
   "execution_count": 69,
   "id": "30fdf7a9-8466-4c1f-8744-68d3138c2c27",
   "metadata": {},
   "outputs": [
    {
     "name": "stdout",
     "output_type": "stream",
     "text": [
      "It's hot outside.\n"
     ]
    }
   ],
   "source": [
    "#if-else Statement:\n",
    "temperature = 30\n",
    "if temperature > 25:\n",
    "    print(\"It's hot outside.\") \n",
    "else:\n",
    "    print(\"It's cool outside.\")"
   ]
  },
  {
   "cell_type": "code",
   "execution_count": 70,
   "id": "040d4263-8397-428b-bb2a-bf05dddbec46",
   "metadata": {},
   "outputs": [
    {
     "name": "stdout",
     "output_type": "stream",
     "text": [
      "Grade: B\n"
     ]
    }
   ],
   "source": [
    "#if-elif-else Statement:\n",
    "score = 85\n",
    "if score >= 90:\n",
    "    print(\"Grade: A\")\n",
    "elif score >= 80:\n",
    "    print(\"Grade: B\")\n",
    "else:\n",
    "    print(\"Grade: C or below\")"
   ]
  },
  {
   "cell_type": "code",
   "execution_count": 71,
   "id": "202037ac-8d7e-4e0e-b734-6b3dbd05e6a3",
   "metadata": {
    "tags": [
     "q7"
    ]
   },
   "outputs": [
    {
     "name": "stdout",
     "output_type": "stream",
     "text": [
      "apple\n",
      "banana\n",
      "cherry\n",
      "0\n",
      "1\n",
      "2\n",
      "3\n",
      "4\n"
     ]
    }
   ],
   "source": [
    "# q7.Describe the different types of loops in Python and their use cases with examples.\n",
    "#In Python, loops are used to repeat a block of code multiple times. Here are the main types of loops and their use cases:\n",
    "\n",
    "#1. for Loop\n",
    "#Used to iterate over a sequence (like a list, tuple, or string) or other iterable objects.\n",
    "\n",
    "#Use Case: When you need to perform an action a specific number of times or process each item in a collection.\n",
    "#Example:\n",
    "# Iterate over a list\n",
    "fruits = ['apple', 'banana', 'cherry']\n",
    "for fruit in fruits:\n",
    "    print(fruit)\n",
    "\n",
    "#Example:\n",
    "# Using range() to iterate a specific number of times\n",
    "for i in range(5):\n",
    "    print(i)"
   ]
  },
  {
   "cell_type": "code",
   "execution_count": 72,
   "id": "9c4026bd-4bfa-4c33-9e02-1ca452732cb3",
   "metadata": {},
   "outputs": [
    {
     "name": "stdout",
     "output_type": "stream",
     "text": [
      "0\n",
      "1\n",
      "2\n",
      "3\n",
      "4\n"
     ]
    }
   ],
   "source": [
    "\n",
    "#2. while Loop\n",
    "#Repeats a block of code as long as a specified condition is true.\n",
    "\n",
    "#Use Case: When you need to continue looping until a condition changes or becomes false.\n",
    "#Example:\n",
    "# Print numbers from 0 to 4\n",
    "count = 0\n",
    "while count < 5:\n",
    "    print(count)\n",
    "    count += 1"
   ]
  },
  {
   "cell_type": "code",
   "execution_count": 73,
   "id": "ea2b8e58-579e-4aa1-98d5-ec65ff8d213e",
   "metadata": {},
   "outputs": [
    {
     "name": "stdout",
     "output_type": "stream",
     "text": [
      "0\n",
      "1\n",
      "2\n"
     ]
    }
   ],
   "source": [
    "#3. break Statement\n",
    "#Exits the loop prematurely, even if the loop’s condition is still true.\n",
    "\n",
    "#Use Case: When you need to stop the loop based on a certain condition within the loop body.\n",
    "#xample:\n",
    "# Stop loop when count reaches 3\n",
    "for i in range(10):\n",
    "    if i == 3:\n",
    "        break\n",
    "    print(i)"
   ]
  },
  {
   "cell_type": "code",
   "execution_count": 74,
   "id": "36529e41-8c84-48cd-aaad-76ca5889cd54",
   "metadata": {},
   "outputs": [
    {
     "name": "stdout",
     "output_type": "stream",
     "text": [
      "0\n",
      "1\n",
      "2\n",
      "4\n"
     ]
    }
   ],
   "source": [
    "#4. continue Statement\n",
    "#Skips the rest of the current loop iteration and proceeds to the next iteration.\n",
    "\n",
    "#Use Case: When you want to skip certain iterations but continue looping.\n",
    "#Example:\n",
    "# Skip printing number 3\n",
    "for i in range(5):\n",
    "    if i == 3:\n",
    "        continue\n",
    "    print(i)"
   ]
  },
  {
   "cell_type": "code",
   "execution_count": 75,
   "id": "921212e9-29b6-4036-ad73-019c50157f0f",
   "metadata": {},
   "outputs": [
    {
     "name": "stdout",
     "output_type": "stream",
     "text": [
      "0\n",
      "1\n",
      "2\n",
      "3\n",
      "4\n",
      "Loop finished without break.\n"
     ]
    }
   ],
   "source": [
    "#5. else Clause with Loops\n",
    "#Executes a block of code once the loop finishes without encountering a break.\n",
    "\n",
    "#Use Case: When you need to execute code after a loop completes normally.\n",
    "#Example:\n",
    "for i in range(5):\n",
    "    print(i)\n",
    "else:\n",
    "    print(\"Loop finished without break.\")"
   ]
  },
  {
   "cell_type": "code",
   "execution_count": null,
   "id": "61e11923-b11b-4879-a208-6de5a4aebaf8",
   "metadata": {},
   "outputs": [],
   "source": []
  }
 ],
 "metadata": {
  "kernelspec": {
   "display_name": "Python 3 (ipykernel)",
   "language": "python",
   "name": "python3"
  },
  "language_info": {
   "codemirror_mode": {
    "name": "ipython",
    "version": 3
   },
   "file_extension": ".py",
   "mimetype": "text/x-python",
   "name": "python",
   "nbconvert_exporter": "python",
   "pygments_lexer": "ipython3",
   "version": "3.10.8"
  }
 },
 "nbformat": 4,
 "nbformat_minor": 5
}
