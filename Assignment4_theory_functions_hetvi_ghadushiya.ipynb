{
 "cells": [
  {
   "cell_type": "markdown",
   "id": "4f273309-70f6-4324-9627-55cb61d23060",
   "metadata": {},
   "source": [
    "## Q1. What is the difference between a function and a method in Python?"
   ]
  },
  {
   "cell_type": "code",
   "execution_count": 1,
   "id": "e1fac763-7836-48e1-9efa-c3e568f1773d",
   "metadata": {},
   "outputs": [
    {
     "name": "stdout",
     "output_type": "stream",
     "text": [
      "Function Result: 8\n",
      "Method Result: 8\n"
     ]
    }
   ],
   "source": [
    "# Difference between Function and Method in Python\n",
    "\n",
    "# 1. Function:\n",
    "# A function is a block of code that is defined using the `def` keyword and can be called independently in the program.\n",
    "# Functions are not bound to any specific object or class and can be applied to various data types.\n",
    "# They can take arguments and return values.\n",
    "\n",
    "# Example of a function:\n",
    "def add(a, b):\n",
    "    return a + b\n",
    "\n",
    "result = add(5, 3)\n",
    "print(f\"Function Result: {result}\")  # Output: 8\n",
    "\n",
    "# 2. Method:\n",
    "# A method is a function that is associated with an object or class.\n",
    "# It is defined within a class and is called on an instance (object) of that class or directly from the class.\n",
    "# A method always takes at least one argument, `self`, which refers to the instance of the class.\n",
    "\n",
    "# Example of a method:\n",
    "class Calculator:\n",
    "    def add(self, a, b):\n",
    "        return a + b\n",
    "\n",
    "calc = Calculator()  # Creating an instance of Calculator class\n",
    "result = calc.add(5, 3)\n",
    "print(f\"Method Result: {result}\")  # Output: 8\n",
    "\n",
    "# Key Differences:\n",
    "# 1. Context:\n",
    "# - Function: Independent of any class or object.\n",
    "# - Method: Associated with an object or class.\n",
    "\n",
    "# 2. Invocation:\n",
    "# - Function: Called by its name, passing required arguments.\n",
    "# - Method: Called on an instance or class (using dot notation).\n",
    "\n",
    "# 3. Binding:\n",
    "# - Function: Not bound to any particular object.\n",
    "# - Method: Always bound to an instance (or class) and operates on the object's data.\n",
    "\n",
    "# Summary:\n",
    "# - A function is a standalone block of code that performs a task, while a method is a function that is part of a class \n",
    "# and is used to operate on data belonging to an object of that class.\n"
   ]
  },
  {
   "cell_type": "markdown",
   "id": "f08ef9b7-3ae3-41f1-b630-c2c684fa8cf8",
   "metadata": {},
   "source": [
    "## Q2.Explain the concept of function arguments and parameters in Python."
   ]
  },
  {
   "cell_type": "code",
   "execution_count": 4,
   "id": "9ab536f2-5c7c-4b43-b5de-8dba3399014e",
   "metadata": {},
   "outputs": [
    {
     "name": "stdout",
     "output_type": "stream",
     "text": [
      "Hello, Alice!\n",
      "8\n",
      "2\n",
      "8\n",
      "15\n",
      "name: Alice\n",
      "age: 25\n"
     ]
    }
   ],
   "source": [
    "# Concept of Function Arguments and Parameters in Python\n",
    "\n",
    "# In Python, a **function** can accept input values, called **arguments**, which are passed to it when the function is called.\n",
    "# These arguments are received by the function as **parameters**.\n",
    "\n",
    "# 1. **Parameters**:\n",
    "# - Parameters are the names defined in the function signature (defining the function).\n",
    "# - They act as placeholders for the actual values that will be passed to the function when it is called.\n",
    "# - The function uses parameters to operate on the data passed to it.\n",
    "\n",
    "# Example of parameters:\n",
    "def greet(name):  # 'name' is a parameter\n",
    "    return f\"Hello, {name}!\"\n",
    "\n",
    "# 2. **Arguments**:\n",
    "# - Arguments are the actual values passed to the function when it is called.\n",
    "# - These are assigned to the corresponding parameters in the function definition.\n",
    "# - Arguments can be passed in multiple ways, such as positional, keyword, or default arguments.\n",
    "\n",
    "# Example of arguments:\n",
    "message = greet(\"Alice\")  # \"Alice\" is the argument\n",
    "print(message) \n",
    "\n",
    "# 3. **Types of Function Arguments:**\n",
    "\n",
    "# - **Positional Arguments**: The values are assigned to parameters based on their position.\n",
    "def add(a, b):\n",
    "    return a + b\n",
    "\n",
    "result = add(5, 3)  # 5 is assigned to 'a', and 3 to 'b'\n",
    "print(result) \n",
    "\n",
    "# - **Keyword Arguments**: The values are passed with the names of the parameters.\n",
    "def subtract(a, b):\n",
    "    return a - b\n",
    "\n",
    "result = subtract(b=3, a=5)  # 'a' is 5 and 'b' is 3, passed by name\n",
    "print(result) \n",
    "\n",
    "# - **Default Arguments**: These are parameters that have default values. If no value is passed, the default is used.\n",
    "def multiply(a, b=2):\n",
    "    return a * b\n",
    "\n",
    "result = multiply(4)  # Uses the default value for 'b' (2)\n",
    "print(result) \n",
    "\n",
    "# - **Variable-Length Arguments (args and kwargs)**:\n",
    "# - `*args`: Used to pass a variable number of positional arguments.\n",
    "def sum_values(*args):\n",
    "    return sum(args)\n",
    "\n",
    "result = sum_values(1, 2, 3, 4, 5)  # Arguments can be passed as a tuple\n",
    "print(result)  \n",
    "\n",
    "# - `**kwargs`: Used to pass a variable number of keyword arguments.\n",
    "def print_info(**kwargs):\n",
    "    for key, value in kwargs.items():\n",
    "        print(f\"{key}: {value}\")\n",
    "\n",
    "print_info(name=\"Alice\", age=25)  \n"
   ]
  },
  {
   "cell_type": "markdown",
   "id": "e24a575d-3c99-45db-a36c-1a4bbda27c87",
   "metadata": {},
   "source": [
    "## Q3.What are the different ways to define and call a function in Python?"
   ]
  },
  {
   "cell_type": "markdown",
   "id": "3447073f-7ff0-447f-8ff2-0a7b24e39cf7",
   "metadata": {},
   "source": [
    "# Python Functions: Definition and Calling\n",
    "\n",
    "In Python, functions are blocks of reusable code that perform a specific task. Below are different ways to define and call functions:\n",
    "\n",
    "## 1. Basic Function Definition\n",
    "\n",
    "Define a function with the `def` keyword:\n"
   ]
  },
  {
   "cell_type": "code",
   "execution_count": 5,
   "id": "1ba3b0a0-fe22-49d9-9ac6-57d4c9446507",
   "metadata": {},
   "outputs": [],
   "source": [
    "def greet():\n",
    "    print(\"Hello, World!\")"
   ]
  },
  {
   "cell_type": "code",
   "execution_count": 6,
   "id": "991e776c-1e1a-4f6f-857e-764ec96bb68e",
   "metadata": {},
   "outputs": [
    {
     "name": "stdout",
     "output_type": "stream",
     "text": [
      "Hello, World!\n"
     ]
    }
   ],
   "source": [
    "greet()  "
   ]
  },
  {
   "cell_type": "code",
   "execution_count": 7,
   "id": "78cf1e01-e62e-4c64-8e57-38a94839d193",
   "metadata": {},
   "outputs": [
    {
     "name": "stdout",
     "output_type": "stream",
     "text": [
      "Hello, Alice!\n"
     ]
    }
   ],
   "source": [
    "##2. Function with Parameters\n",
    "#Functions can accept parameters:\n",
    "def greet(name):\n",
    "    print(f\"Hello, {name}!\")\n",
    "greet(\"Alice\") "
   ]
  },
  {
   "cell_type": "code",
   "execution_count": 8,
   "id": "0bb6fa9a-7d38-4574-a5e5-865887675f5d",
   "metadata": {},
   "outputs": [
    {
     "name": "stdout",
     "output_type": "stream",
     "text": [
      "8\n"
     ]
    }
   ],
   "source": [
    "##3. Function with Return Value\n",
    "#Functions can return a value:\n",
    "def add(a, b):\n",
    "    return a + b\n",
    "result = add(5, 3)\n",
    "print(result)  "
   ]
  },
  {
   "cell_type": "code",
   "execution_count": 9,
   "id": "fe141857-d16b-48a4-8a1e-4899f18a61c8",
   "metadata": {},
   "outputs": [
    {
     "name": "stdout",
     "output_type": "stream",
     "text": [
      "Hello, Guest!\n",
      "Hello, Bob!\n"
     ]
    }
   ],
   "source": [
    "##4. Default Arguments\n",
    "#Define default values for parameters:\n",
    "def greet(name=\"Guest\"):\n",
    "    print(f\"Hello, {name}!\")\n",
    "greet() \n",
    "greet(\"Bob\")"
   ]
  },
  {
   "cell_type": "code",
   "execution_count": 10,
   "id": "dc363288-a276-4917-82c4-ad452b1f7b26",
   "metadata": {},
   "outputs": [
    {
     "name": "stdout",
     "output_type": "stream",
     "text": [
      "Alice is 25 years old.\n"
     ]
    }
   ],
   "source": [
    "##5. Keyword Arguments\n",
    "#Call a function using parameter names:\n",
    "\n",
    "def describe_person(name, age):\n",
    "    print(f\"{name} is {age} years old.\")\n",
    "\n",
    "describe_person(age=25, name=\"Alice\") "
   ]
  },
  {
   "cell_type": "code",
   "execution_count": 11,
   "id": "28e60e91-d0c8-4146-8295-4c702c5244d4",
   "metadata": {},
   "outputs": [
    {
     "name": "stdout",
     "output_type": "stream",
     "text": [
      "10\n",
      "name: Alice\n",
      "age: 25\n"
     ]
    }
   ],
   "source": [
    "##6. Variable-Length Arguments\n",
    "#Use *args for non-keyword and **kwargs for keyword arguments:\n",
    "\n",
    "def sum_numbers(*args):\n",
    "    return sum(args)\n",
    "\n",
    "def print_details(**kwargs):\n",
    "    for key, value in kwargs.items():\n",
    "        print(f\"{key}: {value}\")\n",
    "\n",
    "print(sum_numbers(1, 2, 3, 4))  \n",
    "print_details(name=\"Alice\", age=25)"
   ]
  },
  {
   "cell_type": "code",
   "execution_count": 12,
   "id": "4a2c8803-a441-4d3c-8fc0-b43c20afe05c",
   "metadata": {},
   "outputs": [
    {
     "name": "stdout",
     "output_type": "stream",
     "text": [
      "25\n"
     ]
    }
   ],
   "source": [
    "##7. Lambda Functions (Anonymous Functions)\n",
    "#Lambda functions are simple one-line functions:\n",
    "\n",
    "square = lambda x: x * x\n",
    "print(square(5))  "
   ]
  },
  {
   "cell_type": "markdown",
   "id": "509257a3-946c-48f8-80c8-4b1a2a7f922a",
   "metadata": {},
   "source": [
    "## Q4. What is the purpose of the `return` statement in a Python function?"
   ]
  },
  {
   "cell_type": "code",
   "execution_count": 13,
   "id": "21875999-50d3-415e-aa85-6f786af7f764",
   "metadata": {},
   "outputs": [
    {
     "name": "stdout",
     "output_type": "stream",
     "text": [
      "7\n",
      "Hello, Alice!\n",
      "None\n"
     ]
    }
   ],
   "source": [
    "#The purpose of the return statement in a Python function is to send a result back to the caller and terminate the function's execution. When a function is called, the return statement allows it to return a value, which can then be used later in the program.\n",
    "\n",
    "#Key Points:\n",
    "#Returns a Value: The return statement is used to return a value from the function to the place where it was called.\n",
    "#Terminates Function Execution: As soon as the return statement is encountered, the function ends, and no further code in the function is executed.\n",
    "#Optional: If a function does not explicitly use return, it will return None by default.\n",
    "##Example:\n",
    "\n",
    "def add(a, b):\n",
    "    return a + b \n",
    "\n",
    "result = add(3, 4)\n",
    "print(result) \n",
    "#In this example:\n",
    "#The function add takes two arguments a and b.\n",
    "#It returns their sum using the return statement.\n",
    "#The returned value is stored in the variable result, which is then printed.\n",
    "#Without a return Statement:\n",
    "#If there is no return statement in a function, the function implicitly returns None.\n",
    "\n",
    "def greet(name):\n",
    "    print(f\"Hello, {name}!\")\n",
    "    \n",
    "result = greet(\"Alice\")\n",
    "print(result) \n",
    "#In this case, greet prints a message but doesn't return anything, so the value of result is None.\n",
    "\n",
    "#Conclusion:\n",
    "#The return statement is crucial for functions that need to pass data back to the caller and stop execution at a specific point within the function."
   ]
  },
  {
   "cell_type": "markdown",
   "id": "513d03de-d9d9-481b-950d-29c4c919d22d",
   "metadata": {},
   "source": [
    "## Q5. What are iterators in Python and how do they differ from iterables?## Q5."
   ]
  },
  {
   "cell_type": "markdown",
   "id": "cbc3bfed-c30c-4551-a6d5-3b03ff98f926",
   "metadata": {},
   "source": [
    "Iterators vs Iterables in Python\n",
    "In Python, the concepts of iterators and iterables are closely related but distinct. Understanding their differences is crucial for working with loops, generators, and other forms of iteration.\n",
    "\n",
    "## 1. Iterable\n",
    "An iterable is any Python object that can return an iterator. In other words, an iterable is an object that can be looped over using a for loop or any other function that iterates over its elements.\n",
    "\n",
    "## Definition: An iterable is any object that implements the __iter__() method or defines the __getitem__() method, allowing it to be iterated over.\n",
    "Common examples of iterables:\n",
    "\n",
    "## Lists\n",
    "## Tuples\n",
    "## Strings\n",
    "## Dictionaries (iterating over keys, values, or items)\n",
    "## Sets\n",
    "## Key Points:\n",
    "\n",
    "Iterables do not directly perform the iteration; they just define how to access their elements.\n",
    "They provide an iterator (via the __iter__() method) when asked."
   ]
  },
  {
   "cell_type": "code",
   "execution_count": 15,
   "id": "4d091c3c-4d52-48b3-b762-c68e67a6f389",
   "metadata": {},
   "outputs": [
    {
     "name": "stdout",
     "output_type": "stream",
     "text": [
      "1\n",
      "2\n",
      "3\n"
     ]
    }
   ],
   "source": [
    "my_list = [1, 2, 3]\n",
    "\n",
    "# List is iterable\n",
    "for item in my_list:\n",
    "    print(item)\n"
   ]
  },
  {
   "cell_type": "markdown",
   "id": "00e63862-5d58-4758-9a7b-fd7803c2d4a6",
   "metadata": {},
   "source": [
    "## 2. Iterator\n",
    "An iterator is an object that represents a stream of data; it produces items one at a time when requested. It keeps track of its current state, allowing iteration to continue where it left off.\n",
    "\n",
    "## Definition: An iterator is an object that implements two methods:\n",
    "__iter__() – Returns the iterator object itself.\n",
    "__next__() – Returns the next item from the container and raises a StopIteration exception when no more items are available.\n",
    "## Key Points:\n",
    "## Iterators are used to produce values one at a time.\n",
    "They maintain the state of the iteration, so when next() is called, it gives the next value until it reaches the end, where it raises StopIteration."
   ]
  },
  {
   "cell_type": "code",
   "execution_count": 17,
   "id": "e6c7dbec-00dd-47d4-bd59-bcee490d2c64",
   "metadata": {},
   "outputs": [
    {
     "name": "stdout",
     "output_type": "stream",
     "text": [
      "1\n",
      "2\n",
      "3\n"
     ]
    }
   ],
   "source": [
    "my_list = [1, 2, 3]\n",
    "\n",
    "# Get an iterator from the list\n",
    "my_iterator = iter(my_list)\n",
    "\n",
    "# Use next() to get the items one by one\n",
    "print(next(my_iterator)) \n",
    "print(next(my_iterator)) \n",
    "print(next(my_iterator)) \n",
    "\n"
   ]
  },
  {
   "cell_type": "markdown",
   "id": "046e7bf3-c81b-4480-b8c9-6ab187fc037a",
   "metadata": {},
   "source": [
    "## Q6. Explain the concept of generators in Python and how they are defined"
   ]
  },
  {
   "cell_type": "markdown",
   "id": "96620701-c7c1-4113-ace6-78a5884dc5e3",
   "metadata": {},
   "source": [
    "# Python Generators: Definition and Usage\n",
    "\n",
    "In Python, **generators** are a simple and efficient way to create iterators. They allow you to iterate over a sequence of values lazily, meaning values are generated on the fly, rather than storing them in memory all at once. This makes generators particularly useful when working with large datasets or streams of data where you don't need to hold everything in memory at once.\n",
    "\n",
    "## 1. **What is a Generator?**\n",
    "\n",
    "A **generator** is a special type of iterator that yields items one at a time using the `yield` keyword. Unlike regular functions that return a value and terminate, generators return an item and pause their state, resuming where they left off each time the next item is requested.\n",
    "\n",
    "### Key Points:\n",
    "- Generators do not store their values in memory; they generate each value when requested.\n",
    "- Generators can be defined using functions or expressions.\n",
    "- They are more memory-efficient than lists or other collections that store all values at once.\n",
    "\n",
    "## 2. **Defining a Generator Using a Function**\n",
    "\n",
    "Generators can be defined using the `def` keyword, just like regular functions, but instead of `return`, we use the `yield` keyword to return values.\n",
    "\n",
    "### Example:"
   ]
  },
  {
   "cell_type": "code",
   "execution_count": 21,
   "id": "0d60101c-6ab8-47fa-9af9-26527f44dfc3",
   "metadata": {},
   "outputs": [],
   "source": [
    "def count_up_to(max):\n",
    "    count = 1\n",
    "    while count <= max:\n",
    "        yield count\n",
    "        count += 1"
   ]
  },
  {
   "cell_type": "code",
   "execution_count": 22,
   "id": "a92a99be-597a-4152-b6f2-3d3b68c954ee",
   "metadata": {},
   "outputs": [
    {
     "name": "stdout",
     "output_type": "stream",
     "text": [
      "1\n",
      "2\n",
      "3\n",
      "4\n",
      "5\n"
     ]
    }
   ],
   "source": [
    "counter = count_up_to(5)\n",
    "\n",
    "for num in counter:\n",
    "    print(num)\n"
   ]
  },
  {
   "cell_type": "markdown",
   "id": "2a0ad234-6058-427f-b96c-acb33827df6f",
   "metadata": {},
   "source": [
    "3. Benefits of Generators\n",
    "Memory Efficiency: Since generators generate values one at a time, they don't require storing the entire sequence in memory.\n",
    "Lazy Evaluation: Values are produced only when needed, which can be more efficient in cases where you don't need to process every value immediately.\n",
    "Cleaner Code: Generators can often replace complicated iterator classes, resulting in more concise and readable code.\n",
    "4. Defining a Generator Using a Generator Expression\n",
    "Python also provides a concise way to define generators using generator expressions, which are similar to list comprehensions but with parentheses () instead of square brackets [].\n",
    "\n",
    "Example:"
   ]
  },
  {
   "cell_type": "code",
   "execution_count": 23,
   "id": "76e6c476-8c5a-4642-84a6-8524199a4571",
   "metadata": {},
   "outputs": [
    {
     "name": "stdout",
     "output_type": "stream",
     "text": [
      "1\n",
      "4\n",
      "9\n",
      "16\n",
      "25\n"
     ]
    }
   ],
   "source": [
    "gen_exp = (x * x for x in range(1, 6))\n",
    "\n",
    "for value in gen_exp:\n",
    "    print(value)"
   ]
  },
  {
   "cell_type": "code",
   "execution_count": 24,
   "id": "a9613a72-ed7d-4328-bc90-29c5ee86b7b6",
   "metadata": {},
   "outputs": [
    {
     "name": "stdout",
     "output_type": "stream",
     "text": [
      "1\n",
      "2\n",
      "3\n"
     ]
    }
   ],
   "source": [
    "## 5. Using next() with a Generator\n",
    "#You can also manually control the iteration of a generator using the next() function.\n",
    "\n",
    "#Example:\n",
    "\n",
    "gen = count_up_to(3)\n",
    "print(next(gen))  # Output: 1\n",
    "print(next(gen))  # Output: 2\n",
    "print(next(gen))  # Output: 3\n",
    "\n",
    "# The next call raises StopIteration because the generator is exhausted\n",
    "# print(next(gen))  # Raises StopIteration\n",
    "#6. The StopIteration Exception\n",
    "#When a generator has no more values to yield, it raises a StopIteration exception. This signals the end of the iteration. In a for loop, Python automatically handles this exception, ending the loop when all items are exhausted."
   ]
  },
  {
   "cell_type": "markdown",
   "id": "fba90e78-1486-4e30-b5d1-2e4f8fef028d",
   "metadata": {},
   "source": [
    "## Q7.What are the advantages of using generators over regular functions?"
   ]
  },
  {
   "cell_type": "markdown",
   "id": "41efd204-5dfa-48f3-ab83-6d389e748fae",
   "metadata": {},
   "source": [
    "\n",
    "Advantages of Using Generators Over Regular Functions\n",
    "Generators offer several key advantages over regular functions, especially when it comes to performance, memory efficiency, and the ability to handle large datasets. Here's a breakdown of the main benefits:\n",
    "\n",
    "1. Memory Efficiency\n",
    "Generators are memory-efficient because they generate values one at a time, on-demand, without storing the entire sequence in memory.\n",
    "This is particularly useful when working with large datasets or infinite sequences, where storing the entire sequence in memory would be impractical or impossible.\n",
    "Regular functions that return large lists or other data structures require all values to be computed and stored in memory at once, which can lead to memory bloat."
   ]
  },
  {
   "cell_type": "code",
   "execution_count": 25,
   "id": "33379e39-90bb-4eb8-a1a1-8242e03b7779",
   "metadata": {},
   "outputs": [],
   "source": [
    "# Regular function (requires memory for the entire list)\n",
    "def generate_numbers():\n",
    "    return [x for x in range(1000000)]  # Creates a list of 1 million numbers\n",
    "\n",
    "# Generator (memory-efficient)\n",
    "def generate_numbers():\n",
    "    for x in range(1000000):\n",
    "        yield x  # Yields each number one at a time\n"
   ]
  },
  {
   "cell_type": "markdown",
   "id": "8a7f4cdb-6346-4222-96b0-dfd3a471159a",
   "metadata": {},
   "source": [
    "2. Lazy Evaluation\n",
    "Generators use lazy evaluation, meaning values are produced only when requested. This can be a performance advantage when not all values in a sequence need to be processed immediately.\n",
    "This avoids unnecessary calculations or memory usage when you don't need the entire sequence right away."
   ]
  },
  {
   "cell_type": "code",
   "execution_count": 26,
   "id": "31ae5aab-14cd-42ad-a6be-d1e3c7fa1261",
   "metadata": {},
   "outputs": [
    {
     "name": "stdout",
     "output_type": "stream",
     "text": [
      "1\n",
      "2\n"
     ]
    }
   ],
   "source": [
    "def count_up_to(max):\n",
    "    count = 1\n",
    "    while count <= max:\n",
    "        yield count\n",
    "        count += 1\n",
    "\n",
    "# Only the first few numbers are generated and used\n",
    "gen = count_up_to(100)\n",
    "print(next(gen)) \n",
    "print(next(gen))  \n"
   ]
  },
  {
   "cell_type": "markdown",
   "id": "f9598b1a-c8fd-487c-9f36-de1427a7ad46",
   "metadata": {},
   "source": [
    "3. Improved Performance for Large Datasets\n",
    "Generators are ideal for handling large datasets because they don't require loading the entire dataset into memory. This can significantly speed up processing when dealing with large streams of data, such as reading from a file or processing large queries.\n",
    "Regular functions that return entire datasets (like lists) can be much slower and require more memory, which can slow down performance."
   ]
  },
  {
   "cell_type": "code",
   "execution_count": null,
   "id": "24c45ddd-d5fe-4ee2-99e3-78540b89bf76",
   "metadata": {},
   "outputs": [],
   "source": [
    "import os\n",
    "\n",
    "# Print current working directory\n",
    "print(os.getcwd())\n",
    "\n",
    "# Absolute path (adjust as necessary)\n",
    "file_path = 'C:/path/to/your/large_file.txt'\n",
    "\n",
    "# Check if the file exists\n",
    "if os.path.exists(file_path):\n",
    "    def read_large_file(filename):\n",
    "        with open(filename, 'r') as f:\n",
    "            for line in f:\n",
    "                yield line.strip()\n",
    "\n",
    "    # Process the file line by line without loading the entire file into memory\n",
    "    for line in read_large_file(file_path):  # Use the correct path here\n",
    "        process(line)\n",
    "else:\n",
    "    print(f\"The file at {file_path} does not exist.\")"
   ]
  },
  {
   "cell_type": "markdown",
   "id": "621341cd-1be2-4ff5-9b97-65b42726b6bd",
   "metadata": {},
   "source": [
    "4. Cleaner and More Concise Code\n",
    "Generators simplify code when dealing with sequences that are expensive to generate or require complex iteration. They replace the need for maintaining explicit loop counters or complex iterator classes, making the code more readable.\n",
    "Regular functions that need to return sequences typically require creating and returning entire data structures (like lists or tuples), which can clutter the code."
   ]
  },
  {
   "cell_type": "code",
   "execution_count": 29,
   "id": "0cf95caa-67b6-45f2-95e4-b3e6a831b118",
   "metadata": {},
   "outputs": [
    {
     "name": "stdout",
     "output_type": "stream",
     "text": [
      "0\n",
      "1\n",
      "1\n",
      "2\n",
      "3\n"
     ]
    }
   ],
   "source": [
    "def fibonacci():\n",
    "    a, b = 0, 1\n",
    "    while True:\n",
    "        yield a\n",
    "        a, b = b, a + b\n",
    "\n",
    "# Get the first 5 Fibonacci numbers\n",
    "gen = fibonacci()\n",
    "for _ in range(5):\n",
    "    print(next(gen))\n"
   ]
  },
  {
   "cell_type": "markdown",
   "id": "5ca186a6-5898-4268-9c5d-a7b410e23b59",
   "metadata": {},
   "source": [
    "5. State Retention\n",
    "Generators maintain their internal state across iterations. This allows them to pause execution, remember the state of variables, and resume from where they left off when next() is called. This is not easily achievable with regular functions.\n",
    "Regular functions do not preserve their state between calls, unless explicitly handled with external variables or complex objects."
   ]
  },
  {
   "cell_type": "code",
   "execution_count": 30,
   "id": "b3327986-7139-4d0d-a242-7264dc2c0ca2",
   "metadata": {},
   "outputs": [
    {
     "name": "stdout",
     "output_type": "stream",
     "text": [
      "1\n",
      "2\n"
     ]
    }
   ],
   "source": [
    "def counter():\n",
    "    count = 0\n",
    "    while True:\n",
    "        count += 1\n",
    "        yield count\n",
    "\n",
    "# Counter generator retains its state\n",
    "counter_gen = counter()\n",
    "print(next(counter_gen))  \n",
    "print(next(counter_gen)) \n"
   ]
  },
  {
   "cell_type": "markdown",
   "id": "c5b60015-65ff-4478-b7bd-cfc923d17384",
   "metadata": {},
   "source": [
    "6. Infinite Sequences\n",
    "Generators can be used to represent infinite sequences. Since they only compute the next value when needed, they can generate infinite series (such as Fibonacci numbers or prime numbers) without running out of memory.\n",
    "Regular functions that return sequences would require you to store the entire sequence, which is impossible for infinite sequences."
   ]
  },
  {
   "cell_type": "code",
   "execution_count": 31,
   "id": "d79e09bc-3bcb-4cb9-b499-2d3e4a4fc981",
   "metadata": {},
   "outputs": [
    {
     "name": "stdout",
     "output_type": "stream",
     "text": [
      "0\n",
      "1\n",
      "1\n",
      "2\n",
      "3\n",
      "5\n",
      "8\n",
      "13\n",
      "21\n",
      "34\n"
     ]
    }
   ],
   "source": [
    "def infinite_fibonacci():\n",
    "    a, b = 0, 1\n",
    "    while True:\n",
    "        yield a\n",
    "        a, b = b, a + b\n",
    "\n",
    "gen = infinite_fibonacci()\n",
    "for _ in range(10):\n",
    "    print(next(gen)) \n"
   ]
  },
  {
   "cell_type": "markdown",
   "id": "0af253a1-236d-4fed-ace1-19936dd9f981",
   "metadata": {},
   "source": [
    "## Q8. What is a lambda function in Python and when is it typically used?"
   ]
  },
  {
   "cell_type": "code",
   "execution_count": 36,
   "id": "89513875-62e9-4aee-ae20-657d10d602d8",
   "metadata": {},
   "outputs": [
    {
     "name": "stdout",
     "output_type": "stream",
     "text": [
      "7\n",
      "[(3, 1), (1, 2), (7, 4), (5, 6)]\n",
      "[1, 4, 9, 16, 25]\n",
      "[2, 4, 6]\n",
      "[{'name': 'Alice', 'age': 23}, {'name': 'John', 'age': 45}]\n"
     ]
    }
   ],
   "source": [
    "#Lambda Function in Python\n",
    "#A lambda function in Python is a small anonymous function, defined using the lambda keyword. It can take any number of arguments but can only have one expression. The result of the expression is automatically returned without the need for a return statement.\n",
    "\n",
    "#Syntax\n",
    "\n",
    "#lambda arguments: expression\n",
    "#arguments: A list of parameters (can be empty or multiple).\n",
    "#expression: A single expression whose result is returned automatically.\n",
    "#Example:\n",
    "# A simple lambda function that adds two numbers\n",
    "add = lambda x, y: x + y\n",
    "print(add(3, 4)) \n",
    "#In the above example, lambda x, y: x + y defines an anonymous function that adds x and y. The result is returned directly.\n",
    "\n",
    "#Characteristics of Lambda Functions\n",
    "#Anonymous: They don’t need a name (though they can be assigned to variables).\n",
    "#Single Expression: The body of a lambda function is a single expression. No statements are allowed (e.g., no if, for, etc., in the body).\n",
    "#No return Statement: The return value is implicitly the result of the expression.\n",
    "#When Are Lambda Functions Typically Used?\n",
    "#When a Small Function is Needed: Lambda functions are often used for simple operations that are not complex enough to require a full function definition.\n",
    "\n",
    "#Example:\n",
    "\n",
    "# Sort a list of tuples by the second element\n",
    "data = [(1, 2), (3, 1), (5, 6), (7, 4)]\n",
    "sorted_data = sorted(data, key=lambda x: x[1])\n",
    "print(sorted_data)  # Output: [(3, 1), (1, 2), (7, 4), (5, 6)]\n",
    "#Functional Programming with Functions like map(), filter(), reduce(): Lambda functions are frequently used with higher-order functions like map(), filter(), and reduce() for concise, inline operations.\n",
    "\n",
    "#Example with map():\n",
    "\n",
    "# Using lambda with map to square each number in a list\n",
    "numbers = [1, 2, 3, 4, 5]\n",
    "squared = list(map(lambda x: x ** 2, numbers))\n",
    "print(squared)  # Output: [1, 4, 9, 16, 25]\n",
    "#When Defining Short Functions Inline: Lambda functions are useful for situations where you need a function just for a short period and do not need to reuse it elsewhere.\n",
    "\n",
    "#Example with filter():\n",
    "\n",
    "# Using lambda with filter to get even numbers from a list\n",
    "numbers = [1, 2, 3, 4, 5, 6]\n",
    "even_numbers = list(filter(lambda x: x % 2 == 0, numbers))\n",
    "print(even_numbers)  # Output: [2, 4, 6]\n",
    "#Event Handlers (in GUI programming): In event-driven programming, lambda functions are sometimes used to define simple callbacks or event handlers.\n",
    "\n",
    "#Sorting Complex Data: Lambdas are commonly used in sorting complex data structures by specific keys.\n",
    "\n",
    "#Example:\n",
    "\n",
    "data = [{'name': 'John', 'age': 45}, {'name': 'Alice', 'age': 23}]\n",
    "sorted_data = sorted(data, key=lambda x: x['age'])\n",
    "print(sorted_data)  # Output: [{'name': 'Alice', 'age': 23}, {'name': 'John', 'age': 45}]\n",
    "#When Not to Use Lambda Functions:\n",
    "#If the function's logic becomes complex, it’s better to define a regular function for clarity and maintainability.\n",
    "#Lambdas are not ideal for long expressions or functions that require multiple statements.\n"
   ]
  },
  {
   "cell_type": "markdown",
   "id": "b48309bf-3f49-4cfd-a73e-936180f304d7",
   "metadata": {},
   "source": [
    "## Q9.Explain the purpose and usage of the `map()` function in Python."
   ]
  },
  {
   "cell_type": "code",
   "execution_count": 37,
   "id": "b7a86c95-3cac-4c11-ba41-4e30b3ef6722",
   "metadata": {},
   "outputs": [
    {
     "name": "stdout",
     "output_type": "stream",
     "text": [
      "7\n",
      "[1, 4, 9]\n",
      "[5, 7, 9]\n"
     ]
    }
   ],
   "source": [
    "#Lambda Function in Python\n",
    "#A lambda function is an anonymous, small function defined using the lambda keyword. It can take multiple arguments but can only have one expression.\n",
    "\n",
    "#Syntax:\n",
    "#lambda arguments: expression\n",
    "#Example:\n",
    "# Lambda to add two numbers\n",
    "add = lambda x, y: x + y\n",
    "print(add(3, 4))  # Output: 7\n",
    "#Uses:\n",
    "#Simple operations: Quick, single-expression functions.\n",
    "#Functional programming: Often used with map(), filter(), and reduce().\n",
    "#Inline functions: Suitable for short-term, small tasks.\n",
    "#map() Function in Python\n",
    "#The map() function applies a given function to each item in an iterable (like a list) and returns an iterator with the results.\n",
    "\n",
    "#Syntax:\n",
    "#map(function, iterable)\n",
    "#Example 1: With one iterable:\n",
    "\n",
    "numbers = [1, 2, 3]\n",
    "squared = map(lambda x: x ** 2, numbers)\n",
    "print(list(squared))  # Output: [1, 4, 9]\n",
    "#Example 2: With multiple iterables:\n",
    "list1 = [1, 2, 3]\n",
    "list2 = [4, 5, 6]\n",
    "result = map(lambda x, y: x + y, list1, list2)\n",
    "print(list(result))\n",
    "#Uses:\n",
    "#Apply functions to each element of a list (or multiple lists).\n",
    "#Avoid explicit loops, making code more concise.\n",
    "#Useful for transformations like squaring numbers, adding lists, etc."
   ]
  },
  {
   "cell_type": "markdown",
   "id": "2dba42bb-2365-4132-8bea-1510ac97d58f",
   "metadata": {},
   "source": [
    "## Q10.. What is the difference between `map()`, `reduce()`, and `filter()` functions in Python?"
   ]
  },
  {
   "cell_type": "code",
   "execution_count": 38,
   "id": "807caedc-fd7d-4c8e-8f71-70482884a984",
   "metadata": {},
   "outputs": [
    {
     "name": "stdout",
     "output_type": "stream",
     "text": [
      "[1, 4, 9, 16]\n",
      "24\n",
      "[2, 4, 6]\n"
     ]
    }
   ],
   "source": [
    "#1. map() Function\n",
    "#Purpose: Applies a given function to every item of an iterable and returns a new iterable (map object) with the results.\n",
    "#Output: A map object (which can be converted to a list or tuple).\n",
    "#Use Case: When you want to transform each element in a collection (e.g., square all elements in a list).\n",
    "#Example:\n",
    "numbers = [1, 2, 3, 4]\n",
    "squared_numbers = map(lambda x: x**2, numbers)\n",
    "print(list(squared_numbers))  \n",
    "#2. reduce() Function (from functools module)\n",
    "#Purpose: Applies a binary function (a function that takes two arguments) cumulatively to the items of an iterable, so as to reduce the iterable to a single value.\n",
    "#Output: A single value that is the result of reducing the iterable.\n",
    "#Use Case: When you want to combine the elements in an iterable into a single result (e.g., calculating the sum or product of all numbers in a list).\n",
    "#Example:\n",
    "from functools import reduce\n",
    "\n",
    "numbers = [1, 2, 3, 4]\n",
    "product = reduce(lambda x, y: x * y, numbers)\n",
    "print(product)\n",
    "#3. filter() Function\n",
    "#Purpose: Filters the elements of an iterable by applying a function that returns a boolean value (True or False) to each item. It returns an iterable containing only the elements for which the function returns True.\n",
    "#Output: A filter object (which can be converted to a list or tuple).\n",
    "#Use Case: When you want to filter out certain elements in a collection based on some condition (e.g., keeping only even numbers).\n",
    "#Example:\n",
    "numbers = [1, 2, 3, 4, 5, 6]\n",
    "even_numbers = filter(lambda x: x % 2 == 0, numbers)\n",
    "print(list(even_numbers))  \n",
    "#Key Differences:\n",
    "#Function\tPurpose\tOutput\tUse Case\n",
    "#map()\tApply a function to each item in an iterable\tIterable of results\tTransforming or modifying elements\n",
    "#reduce()\tApply a function cumulatively to reduce to a single value\tSingle value\tAggregating or combining elements\n",
    "#filter()\tFilter elements based on a condition\tFiltered iterable\tSelecting elements based on conditions\n"
   ]
  },
  {
   "cell_type": "markdown",
   "id": "4fd8afa6-0824-4167-849c-cda03e7fd5bb",
   "metadata": {},
   "source": [
    "## Q11. Using pen & Paper write the internal mechanism for sum operation using  reduce function on this given\n",
    "list:[47,11,42,13]; "
   ]
  },
  {
   "cell_type": "markdown",
   "id": "ed411d7e-bdca-4860-9f1c-14b3da77869b",
   "metadata": {},
   "source": [
    "\n",
    "Let's walk through the internal mechanism of the reduce() function for the sum operation using the list [47, 11, 42, 13] step-by-step.\n",
    "\n",
    "Using reduce() for Sum\n",
    "We are going to use the reduce() function from the functools module and a lambda function to sum the numbers in the list. The lambda function we'll use is:"
   ]
  },
  {
   "cell_type": "code",
   "execution_count": 52,
   "id": "5eb3d5aa-ee06-48c6-8ff0-8f5a76b74ade",
   "metadata": {},
   "outputs": [
    {
     "data": {
      "text/plain": [
       "113"
      ]
     },
     "execution_count": 52,
     "metadata": {},
     "output_type": "execute_result"
    }
   ],
   "source": [
    "# Let's first import the reduce function from the functools module\n",
    "from functools import reduce\n",
    "\n",
    "# Given list\n",
    "numbers = [47, 11, 42, 13]\n",
    "\n",
    "# Define a function to sum two numbers\n",
    "def add(x, y):\n",
    "    return x + y\n",
    "\n",
    "# Now, apply the reduce function to sum all elements of the list\n",
    "result = reduce(add, numbers)\n",
    "\n",
    "# Print the result\n",
    "result\n"
   ]
  },
  {
   "cell_type": "markdown",
   "id": "96e4d0de-02d0-4875-9ab2-baaa6c651260",
   "metadata": {},
   "source": [
    "Internal Mechanism:\n",
    "Initial List: [47, 11, 42, 13]\n",
    "\n",
    "Step 1: First operation (47 + 11)\n",
    "\n",
    "The reduce function starts with the first two elements: 47 and 11.\n",
    "The add function is called with x = 47 and y = 11, so the result is:\n",
    "47\n",
    "+\n",
    "11\n",
    "=\n",
    "58\n",
    "47+11=58\n",
    "Now the intermediate result is 58.\n",
    "Step 2: Second operation (58 + 42)\n",
    "\n",
    "Now the intermediate result 58 is combined with the next element 42.\n",
    "The add function is called with x = 58 and y = 42, so the result is:\n",
    "58\n",
    "+\n",
    "42\n",
    "=\n",
    "100\n",
    "58+42=100\n",
    "The intermediate result is now 100.\n",
    "Step 3: Third operation (100 + 13)\n",
    "\n",
    "Now the intermediate result 100 is combined with the last element 13.\n",
    "The add function is called with x = 100 and y = 13, so the result is:\n",
    "100\n",
    "+\n",
    "13\n",
    "=\n",
    "113\n",
    "100+13=113\n",
    "The final result is 113.\n",
    "Final Output:\n",
    "\n",
    "After all operations, the reduce function returns the final result: 113.\n",
    "Thus, the sum of the numbers [47, 11, 42, 13] using the reduce function is 113."
   ]
  }
 ],
 "metadata": {
  "kernelspec": {
   "display_name": "Python 3 (ipykernel)",
   "language": "python",
   "name": "python3"
  },
  "language_info": {
   "codemirror_mode": {
    "name": "ipython",
    "version": 3
   },
   "file_extension": ".py",
   "mimetype": "text/x-python",
   "name": "python",
   "nbconvert_exporter": "python",
   "pygments_lexer": "ipython3",
   "version": "3.13.0"
  }
 },
 "nbformat": 4,
 "nbformat_minor": 5
}
