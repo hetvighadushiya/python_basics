{
 "cells": [
  {
   "cell_type": "markdown",
   "id": "05c2e61e-3033-461d-9ed6-f1a6279875df",
   "metadata": {},
   "source": [
    "Q1  Write a Python function that takes a list of numbers as input and returns the sum of all even numbers in the list."
   ]
  },
  {
   "cell_type": "code",
   "execution_count": 1,
   "id": "333578e8-9111-4f39-9c75-15bd07331cd5",
   "metadata": {},
   "outputs": [],
   "source": [
    "#Certainly! When writing a Python function in a Jupyter Notebook, you typically structure your cells to include code, comments, and sometimes Markdown for documentation. Here’s how you would write the function to sum even numbers in a Jupyter Notebook cell:"
   ]
  },
  {
   "cell_type": "markdown",
   "id": "3f9fce0b-918b-4f5e-94bf-35f60b974bf5",
   "metadata": {},
   "source": [
    "q2. Create a Python function that accepts a string and returns the reverse of that string"
   ]
  },
  {
   "cell_type": "code",
   "execution_count": 10,
   "id": "850a87a7-c7b9-4c81-919b-4a0928b754e4",
   "metadata": {},
   "outputs": [
    {
     "name": "stdout",
     "output_type": "stream",
     "text": [
      "!dlroW ,olleH\n"
     ]
    }
   ],
   "source": [
    "#Example Usage\n",
    "#Here’s how you can use the function:\n",
    "example_string = \"Hello, World!\"\n",
    "reversed_string = reverse_string(example_string)\n",
    "print(reversed_string)  # Output: !dlroW ,olleH\n"
   ]
  },
  {
   "cell_type": "markdown",
   "id": "c3f9348e-8cb1-40f7-a461-b4c7752939e5",
   "metadata": {},
   "source": [
    "q3 . Implement a Python function that takes a list of integers and returns a new list containing the squares of each number."
   ]
  },
  {
   "cell_type": "code",
   "execution_count": 11,
   "id": "1fba53ea-7dc3-461e-ade5-d98535d2e9f1",
   "metadata": {},
   "outputs": [
    {
     "data": {
      "text/plain": [
       "[1, 4, 9, 16, 25]"
      ]
     },
     "execution_count": 11,
     "metadata": {},
     "output_type": "execute_result"
    }
   ],
   "source": [
    "#To implement a Python function that takes a list of integers and returns a new list containing the squares of each number, you can use list comprehension for a concise solution. Here’s how you can do it:\n",
    "\n",
    "#Function Definition\n",
    "#Code Cell:\n",
    "\n",
    "def square_numbers(numbers):\n",
    "    \"\"\"\n",
    "    Returns a new list containing the squares of each number in the given list.\n",
    "\n",
    "    Parameters:\n",
    "    numbers (list of int): A list of integers.\n",
    "\n",
    "    Returns:\n",
    "    list of int: A list of squared integers.\n",
    "    \"\"\"\n",
    "    # Use list comprehension to create a new list with the squares of the numbers\n",
    "    return [num ** 2 for num in numbers]\n",
    "\n",
    "# Example usage\n",
    "example_numbers = [1, 2, 3, 4, 5]\n",
    "squared_numbers = square_numbers(example_numbers)\n",
    "squared_numbers\n",
    "\n"
   ]
  },
  {
   "cell_type": "code",
   "execution_count": 13,
   "id": "15effeb2-d7e8-401e-abbf-edaec57ee541",
   "metadata": {},
   "outputs": [
    {
     "name": "stdout",
     "output_type": "stream",
     "text": [
      "[1, 4, 9, 16, 25]\n"
     ]
    }
   ],
   "source": [
    "#Example Usage\n",
    "#Here’s how you can use the function:\n",
    "example_numbers = [1, 2, 3, 4, 5]\n",
    "squared_numbers = square_numbers(example_numbers)\n",
    "print(squared_numbers)  # Output: [1, 4, 9, 16, 25]  "
   ]
  },
  {
   "cell_type": "markdown",
   "id": "5368fc63-8cb4-43a7-9037-1cd0906412ac",
   "metadata": {},
   "source": [
    "q4  Write a Python function that checks if a given number is prime or not from 1 to 200."
   ]
  },
  {
   "cell_type": "code",
   "execution_count": 14,
   "id": "45785896-f9b6-4a8e-9901-4e228380b881",
   "metadata": {},
   "outputs": [
    {
     "name": "stdout",
     "output_type": "stream",
     "text": [
      "True\n"
     ]
    }
   ],
   "source": [
    "#Prime Checking Function\n",
    "def is_prime(n):\n",
    "    \"\"\"Check if a number is prime.\"\"\"\n",
    "    if n <= 1:\n",
    "        return False\n",
    "    if n <= 3:\n",
    "        return True\n",
    "    if n % 2 == 0 or n % 3 == 0:\n",
    "        return False\n",
    "    i = 5\n",
    "    while i * i <= n:\n",
    "        if n % i == 0 or n % (i + 2) == 0:\n",
    "            return False\n",
    "        i += 6\n",
    "    return True\n",
    "\n",
    "# Example usage\n",
    "print(is_prime(29))  # Output: True\n"
   ]
  },
  {
   "cell_type": "code",
   "execution_count": 15,
   "id": "4bb891d7-7eaa-485f-a5e5-b6969ef006bd",
   "metadata": {},
   "outputs": [
    {
     "name": "stdout",
     "output_type": "stream",
     "text": [
      "[2, 3, 5, 7, 11, 13, 17, 19, 23, 29, 31, 37, 41, 43, 47, 53, 59, 61, 67, 71, 73, 79, 83, 89, 97, 101, 103, 107, 109, 113, 127, 131, 137, 139, 149, 151, 157, 163, 167, 173, 179, 181, 191, 193, 197, 199]\n"
     ]
    }
   ],
   "source": [
    "#Function to Find Primes Up to 200\n",
    "def primes_up_to(max_num):\n",
    "    \"\"\"Return a list of primes up to max_num.\"\"\"\n",
    "    return [num for num in range(2, max_num + 1) if is_prime(num)]\n",
    "\n",
    "# Example usage\n",
    "print(primes_up_to(200))  # Output: List of primes up to 200"
   ]
  },
  {
   "cell_type": "markdown",
   "id": "05f9d9eb-ef1c-4950-aef2-2b223f2215e1",
   "metadata": {},
   "source": [
    "q5 . Create an iterator class in Python that generates the Fibonacci sequence up to a specified number of terms. "
   ]
  },
  {
   "cell_type": "code",
   "execution_count": 17,
   "id": "c75b8f09-94dd-46b5-8d95-c7142f67f9eb",
   "metadata": {},
   "outputs": [
    {
     "name": "stdout",
     "output_type": "stream",
     "text": [
      "0\n",
      "1\n",
      "1\n",
      "2\n",
      "3\n",
      "5\n",
      "8\n",
      "13\n",
      "21\n",
      "34\n"
     ]
    }
   ],
   "source": [
    "class FibonacciIterator:\n",
    "    def __init__(self, num_terms):\n",
    "        self.num_terms = num_terms\n",
    "        self.current_term = 0\n",
    "        self.a, self.b = 0, 1  # Initial values for Fibonacci sequence\n",
    "\n",
    "    def __iter__(self):\n",
    "        return self\n",
    "\n",
    "    def __next__(self):\n",
    "        if self.current_term >= self.num_terms:\n",
    "            raise StopIteration\n",
    "        if self.current_term == 0:\n",
    "            self.current_term += 1\n",
    "            return self.a\n",
    "        elif self.current_term == 1:\n",
    "            self.current_term += 1\n",
    "            return self.b\n",
    "        else:\n",
    "            a, b = self.a, self.b\n",
    "            self.a, self.b = self.b, self.a + self.b\n",
    "            self.current_term += 1\n",
    "            return self.b\n",
    "\n",
    "fib_iter = FibonacciIterator(10)\n",
    "for num in fib_iter:\n",
    "    print(num)\n"
   ]
  },
  {
   "cell_type": "markdown",
   "id": "d9bf809a-bbf2-4f66-a623-e11ca25e7283",
   "metadata": {},
   "source": [
    "q6  Write a generator function in Python that yields the powers of 2 up to a given exponent"
   ]
  },
  {
   "cell_type": "code",
   "execution_count": 18,
   "id": "765b5375-0061-48b1-b8d3-f5b52e2e8730",
   "metadata": {},
   "outputs": [
    {
     "name": "stdout",
     "output_type": "stream",
     "text": [
      "1\n",
      "2\n",
      "4\n",
      "8\n",
      "16\n",
      "32\n"
     ]
    }
   ],
   "source": [
    "def powers_of_2(max_exponent):\n",
    "    \"\"\"Generator function that yields powers of 2 up to the given exponent.\"\"\"\n",
    "    for exponent in range(max_exponent + 1):\n",
    "        yield 2 ** exponent\n",
    "\n",
    "# Example usage:\n",
    "for power in powers_of_2(5):\n",
    "    print(power)\n"
   ]
  },
  {
   "cell_type": "markdown",
   "id": "c5049c85-c053-424e-9cb0-a5d16459bb65",
   "metadata": {},
   "source": [
    "q7  Implement a generator function that reads a file line by line and yields each line as a string."
   ]
  },
  {
   "cell_type": "code",
   "execution_count": 19,
   "id": "0c2c22d4-236a-48b1-88e7-33262f93ca0a",
   "metadata": {},
   "outputs": [
    {
     "name": "stdout",
     "output_type": "stream",
     "text": [
      "Error: The file at example.txt was not found.\n"
     ]
    }
   ],
   "source": [
    "def read_lines(file_path):\n",
    "    \"\"\"Generator function that yields each line from the specified file.\"\"\"\n",
    "    try:\n",
    "        with open(file_path, 'r') as file:\n",
    "            for line in file:\n",
    "                yield line.rstrip('\\n')  # Remove the trailing newline character\n",
    "    except FileNotFoundError:\n",
    "        print(f\"Error: The file at {file_path} was not found.\")\n",
    "    except IOError as e:\n",
    "        print(f\"Error: An IOError occurred. Details: {e}\")\n",
    "\n",
    "# Example usage:\n",
    "file_path = 'example.txt'\n",
    "for line in read_lines(file_path):\n",
    "    print(line)\n"
   ]
  },
  {
   "cell_type": "markdown",
   "id": "25514d76-c24b-4eca-9941-bbe83fb4c156",
   "metadata": {},
   "source": [
    "q8. Use a lambda function in Python to sort a list of tuples based on the second element of each tuple"
   ]
  },
  {
   "cell_type": "code",
   "execution_count": 20,
   "id": "30ff60b1-73f5-4c26-8368-264f79d56cf4",
   "metadata": {},
   "outputs": [
    {
     "name": "stdout",
     "output_type": "stream",
     "text": [
      "Sorted list (using sorted()): [(4, 1), (5, 2), (1, 3), (2, 5)]\n"
     ]
    }
   ],
   "source": [
    "#Example Using sorted():\n",
    "# Define a list of tuples\n",
    "data = [(1, 3), (4, 1), (5, 2), (2, 5)]\n",
    "\n",
    "# Sort the list of tuples based on the second element of each tuple using sorted()\n",
    "sorted_data = sorted(data, key=lambda x: x[1])\n",
    "\n",
    "print(\"Sorted list (using sorted()):\", sorted_data)"
   ]
  },
  {
   "cell_type": "code",
   "execution_count": 21,
   "id": "e19939d8-8904-4c7f-b035-43fac5a80e87",
   "metadata": {},
   "outputs": [
    {
     "name": "stdout",
     "output_type": "stream",
     "text": [
      "Sorted list (using sort()): [(4, 1), (5, 2), (1, 3), (2, 5)]\n"
     ]
    }
   ],
   "source": [
    "#Example Using sort():\n",
    "# Define a list of tuples\n",
    "data = [(1, 3), (4, 1), (5, 2), (2, 5)]\n",
    "\n",
    "# Sort the list of tuples based on the second element of each tuple in place using sort()\n",
    "data.sort(key=lambda x: x[1])\n",
    "\n",
    "print(\"Sorted list (using sort()):\", data)\n"
   ]
  },
  {
   "cell_type": "markdown",
   "id": "f8f291d1-de7a-4bb2-95ee-78941eece97d",
   "metadata": {},
   "source": [
    "q9 Write a Python program that uses `map()` to convert a list of temperatures from Celsius to Fahrenheit"
   ]
  },
  {
   "cell_type": "code",
   "execution_count": 22,
   "id": "65ccbcfd-f012-4255-8aa2-2b5e1a919a3c",
   "metadata": {},
   "outputs": [
    {
     "name": "stdout",
     "output_type": "stream",
     "text": [
      "Celsius temperatures: [0, 20, 37, 100]\n",
      "Fahrenheit temperatures: [32.0, 68.0, 98.6, 212.0]\n"
     ]
    }
   ],
   "source": [
    "def celsius_to_fahrenheit(celsius):\n",
    "    return (celsius * 9/5) + 32\n",
    "\n",
    "celsius_temperatures = [0, 20, 37, 100]\n",
    "\n",
    "fahrenheit_temperatures = map(celsius_to_fahrenheit, celsius_temperatures)\n",
    "\n",
    "fahrenheit_temperatures_list = list(fahrenheit_temperatures)\n",
    "\n",
    "print(\"Celsius temperatures:\", celsius_temperatures)\n",
    "print(\"Fahrenheit temperatures:\", fahrenheit_temperatures_list)"
   ]
  },
  {
   "cell_type": "markdown",
   "id": "ce05353b-40f8-4503-a21b-237729c6de3c",
   "metadata": {},
   "source": [
    "q10 Create a Python program that uses `filter()` to remove all the vowels from a given string."
   ]
  },
  {
   "cell_type": "code",
   "execution_count": 23,
   "id": "f238aef3-8500-451e-be9e-23e3f9564b5b",
   "metadata": {},
   "outputs": [
    {
     "name": "stdout",
     "output_type": "stream",
     "text": [
      "Original string: Hello, World!\n",
      "String without vowels: Hll, Wrld!\n"
     ]
    }
   ],
   "source": [
    "def is_not_vowel(char):\n",
    "    \"\"\"Return True if the character is not a vowel, False otherwise.\"\"\"\n",
    "    return char.lower() not in 'aeiou'\n",
    "\n",
    "def remove_vowels(input_string):\n",
    "    \"\"\"Remove all vowels from the given string.\"\"\"\n",
    "    # Use filter() to keep only non-vowel characters\n",
    "    filtered_chars = filter(is_not_vowel, input_string)\n",
    "    # Join the filtered characters to form the resulting string\n",
    "    return ''.join(filtered_chars)\n",
    "\n",
    "# Example usage\n",
    "input_string = \"Hello, World!\"\n",
    "result = remove_vowels(input_string)\n",
    "print(\"Original string:\", input_string)\n",
    "print(\"String without vowels:\", result)\n"
   ]
  },
  {
   "cell_type": "markdown",
   "id": "df7931e1-dd1e-4db7-823b-d0ad89bfc76d",
   "metadata": {},
   "source": [
    "q11. Imagine an accounting routine used in a book shop. It works on a list with sublists, which look like this"
   ]
  },
  {
   "cell_type": "code",
   "execution_count": 2,
   "id": "9e160eab-67ce-4515-a177-b103a1ac2d13",
   "metadata": {},
   "outputs": [
    {
     "data": {
      "text/plain": [
       "[(34587, 163.8), (98762, 284.0), (77226, 108.85000000000001), (88112, 84.97)]"
      ]
     },
     "execution_count": 2,
     "metadata": {},
     "output_type": "execute_result"
    }
   ],
   "source": [
    "orders = [\n",
    "    (34587, 'Learning Python, Mark Lutz', 4, 40.95),\n",
    "    (98762, 'Programming Python, Mark Lutz', 5, 56.80),\n",
    "    (77226, 'Head First Python, Paul Barry', 3, 32.95),\n",
    "    (88112, 'Einführung in Python3, Bernd Klein', 3, 24.99)\n",
    "]\n",
    "\n",
    "def calculate_total_cost(order):\n",
    "    order_number, _, quantity, price_per_item = order\n",
    "    total_cost = quantity * price_per_item\n",
    "    if total_cost < 100:\n",
    "        total_cost += 10 \n",
    "    return (order_number, total_cost)\n",
    "\n",
    "result = list(map(lambda order: calculate_total_cost(order), orders))\n",
    "\n",
    "result"
   ]
  },
  {
   "cell_type": "code",
   "execution_count": null,
   "id": "0e981d77-ad76-4d15-8bd3-8a7fb450471a",
   "metadata": {},
   "outputs": [],
   "source": []
  }
 ],
 "metadata": {
  "kernelspec": {
   "display_name": "Python 3 (ipykernel)",
   "language": "python",
   "name": "python3"
  },
  "language_info": {
   "codemirror_mode": {
    "name": "ipython",
    "version": 3
   },
   "file_extension": ".py",
   "mimetype": "text/x-python",
   "name": "python",
   "nbconvert_exporter": "python",
   "pygments_lexer": "ipython3",
   "version": "3.10.8"
  }
 },
 "nbformat": 4,
 "nbformat_minor": 5
}
