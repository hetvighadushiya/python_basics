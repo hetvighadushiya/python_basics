{
  "metadata": {
    "kernelspec": {
      "name": "python",
      "display_name": "Python (Pyodide)",
      "language": "python"
    },
    "language_info": {
      "codemirror_mode": {
        "name": "python",
        "version": 3
      },
      "file_extension": ".py",
      "mimetype": "text/x-python",
      "name": "python",
      "nbconvert_exporter": "python",
      "pygments_lexer": "ipython3",
      "version": "3.8"
    }
  },
  "nbformat_minor": 4,
  "nbformat": 4,
  "cells": [
    {
      "cell_type": "markdown",
      "source": "Q1. Explain the purpose and advantages of NumPy in scientific computing and data analysis. How does it enhance Python's capabilities for numerical operations?\n\nNumPy is a fundamental library for scientific computing in Python. It provides support for large, multi-dimensional arrays and matrices, along with a range of mathematical functions.\nAdvantages:\nPerformance: Operations are implemented in C, making them significantly faster than native Python operations.\nMemory Efficiency: NumPy arrays use contiguous blocks of memory, leading to better cache performance.\nFunctionality: Offers a wide array of mathematical functions for element-wise operations, enhancing data analysis capabilities.",
      "metadata": {}
    },
    {
      "cell_type": "markdown",
      "source": "q2. Compare and contrast np.mean() and np.average() functions in NumPy. When would you use one over the other?\nnp.mean()\nFunctionality: Computes the arithmetic mean of an array along a specified axis.\nParameters:\na: Input array.\naxis: Axis along which to compute the mean. If None, computes the mean of the flattened array.\ndtype: Data type to use for the computation.\nout: Alternative output array to store the result.",
      "metadata": {}
    },
    {
      "cell_type": "code",
      "source": "import numpy as np\n\narr = np.array([1, 2, 3, 4, 5])\nmean_value = np.mean(arr)  # Output: 3.0\n",
      "metadata": {
        "trusted": true
      },
      "outputs": [],
      "execution_count": 5
    },
    {
      "cell_type": "markdown",
      "source": "np.average()\nFunctionality: Computes the weighted average of an array, allowing for the inclusion of weights.\nParameters:\na: Input array.\naxis: Axis along which to compute the average.\nweights: Optional weights for each element.\nreturned: If True, returns a tuple of (average, sum of weights).",
      "metadata": {}
    },
    {
      "cell_type": "code",
      "source": "arr = np.array([1, 2, 3, 4, 5])\nweights = np.array([1, 1, 1, 1, 1])\naverage_value = np.average(arr, weights=weights) ",
      "metadata": {
        "trusted": true
      },
      "outputs": [],
      "execution_count": 6
    },
    {
      "cell_type": "markdown",
      "source": "Key Differences\nWeights:\n\nnp.mean() does not take weights into account; it treats all values equally.\nnp.average() allo\nws you to specify weights, giving you the flexibility to perform weighted calculations.\nUse Cases:\n\nUse np.mean() when you want a straightforward average of the data.\nUse np.average() when you need to incorporate weights, for example, in scenarios where some values contribute more to the average than others (like in statistical analysis or machine learning).\nWhen to Use Each\nUse np.mean() when:\nYou need a simple arithmetic mean.\nAll data points should be treated equally.\nUse np.average() when:\nYou have weighted data and need to compute a weighted average.\nYou require flexibility in handling contributions from different elements.",
      "metadata": {}
    },
    {
      "cell_type": "markdown",
      "source": "q3. Describe the methods for reversing a NumPy array along different axes. Provide examples for 1D and 2D arrays\nIn NumPy, you can reverse arrays along different axes using slicing or specific functions. Here’s how to do it for both 1D and 2D arrays:\n\n1. Reversing a 1D Array\nTo reverse a 1D array, you can use slicing with a step of -1.",
      "metadata": {}
    },
    {
      "cell_type": "code",
      "source": "import numpy as np\n\narr_1d = np.array([1, 2, 3, 4, 5])\n\nreversed_1d = arr_1d[::-1]\n\nprint(\"Reversed 1D array:\", reversed_1d)\n",
      "metadata": {
        "trusted": true
      },
      "outputs": [
        {
          "name": "stdout",
          "text": "Reversed 1D array: [5 4 3 2 1]\n",
          "output_type": "stream"
        }
      ],
      "execution_count": 7
    },
    {
      "cell_type": "markdown",
      "source": "2. Reversing a 2D Array\nFor 2D arrays, you can reverse the array along specific axes:\n\nReversing Rows (Vertical Flip): Use [::-1] to reverse the rows.\nReversing Columns (Horizontal Flip): Use [:, ::-1] to reverse the columns.\nExample:",
      "metadata": {}
    },
    {
      "cell_type": "code",
      "source": "arr_2d = np.array([[1, 2, 3],\n                   [4, 5, 6],\n                   [7, 8, 9]])\n\nreversed_2d_rows = arr_2d[::-1]  \nreversed_2d_cols = arr_2d[:, ::-1] \n\nprint(\"Reversed 2D array (rows):\\n\", reversed_2d_rows)\nprint(\"Reversed 2D array (columns):\\n\", reversed_2d_cols)\n",
      "metadata": {
        "trusted": true
      },
      "outputs": [
        {
          "name": "stdout",
          "text": "Reversed 2D array (rows):\n [[7 8 9]\n [4 5 6]\n [1 2 3]]\nReversed 2D array (columns):\n [[3 2 1]\n [6 5 4]\n [9 8 7]]\n",
          "output_type": "stream"
        }
      ],
      "execution_count": 8
    },
    {
      "cell_type": "markdown",
      "source": "q4.How can you determine the data type of elements in a NumPy array? Discuss the importance of data types in memory management and performance.\nYou can determine the data type of elements in a NumPy array using the .dtype attribute.\n\nExample:",
      "metadata": {}
    },
    {
      "cell_type": "code",
      "source": "import numpy as np\n\narr = np.array([1, 2, 3], dtype=float)\ndata_type = arr.dtype\nprint(\"Data type of the array elements:\", data_type)\n",
      "metadata": {
        "trusted": true
      },
      "outputs": [
        {
          "name": "stdout",
          "text": "Data type of the array elements: float64\n",
          "output_type": "stream"
        }
      ],
      "execution_count": 9
    },
    {
      "cell_type": "markdown",
      "source": "Importance of Data Types in Memory Management and Performance\nMemory Management:\n\nEach data type in NumPy has a specific size (e.g., int32, float64), which dictates how much memory is allocated for each element.\nChoosing an appropriate data type minimizes memory usage, especially when dealing with large datasets. For instance, using int8 instead of int64 for small integers can save significant memory.\nPerformance:\n\nNumPy operations are optimized for specific data types, allowing for faster computations.\nUsing the correct data type enables better cache utilization, leading to improved performance for array operations.\nOperations on homogeneous data types (like those in NumPy arrays) are generally faster than on heterogeneous types (like Python lists).",
      "metadata": {}
    },
    {
      "cell_type": "markdown",
      "source": "q5.. Define ndarrays in NumPy and explain their key features. How do they differ from standard Python lists?\nndarrays (N-dimensional arrays) are the core data structure of NumPy, designed to handle large datasets and perform numerical computations efficiently.\n\nKey Features of ndarrays\nHomogeneous Data Type:\nAll elements in an ndarray must be of the same data type, allowing for optimized memory storage and computational efficiency.\n\nMultidimensional:\nndarrays can have any number of dimensions (1D, 2D, 3D, etc.), enabling complex data structures like matrices and tensors.\n\nContiguous Memory Allocation:\nElements are stored in contiguous blocks of memory, improving cache performance and access speed.\n\nVectorized Operations:\nSupport for element-wise operations without the need for explicit loops, enhancing performance and code simplicity.\n\nroadcasting:\nAbility to perform arithmetic operations on arrays of different shapes, automatically expanding smaller arrays to match the dimensions of larger ones.\n\nAdvanced Indexing and Slicing:\nFlexible methods for accessing and manipulating subsets of data using boolean indexing, fancy indexing, and slicing.\nDifferences from Standard Python Lists\n\nHomogeneity vs. Heterogeneity:\nndarrays require all elements to be of the same type, while Python lists can hold mixed data types.\n\nPerformance:\nndarrays are optimized for numerical operations and are generally faster than Python lists for large-scale computations due to vectorization and contiguous memory.\n\nMultidimensionality:\nndarrays can easily represent multi-dimensional data, whereas Python lists require nested lists to achieve similar structures.\n\nMemory Efficiency:\nndarrays use less memory for storing numerical data because of fixed data types, while Python lists have additional overhead due to dynamic typing.\n\nFunctionality:\nNumPy provides a rich set of functions specifically for numerical computations on ndarrays, while Python lists require additional libraries for similar functionalities.",
      "metadata": {}
    },
    {
      "cell_type": "markdown",
      "source": "q6.Analyze the performance benefits of NumPy arrays over Python lists for large-scale numerical operations.\n\n1)Speed:\nVectorization: NumPy leverages vectorized operations, which allow for performing computations on entire arrays without the need for explicit loops. This leads to significantly faster execution times, as operations are executed in compiled C code rather than interpreted Python.\nOptimized Algorithms: NumPy includes highly optimized mathematical functions that are implemented in C, which are faster than the equivalent operations performed using Python lists.\n\n2)Memory Efficiency:\nContiguous Memory Allocation: NumPy arrays are stored in contiguous blocks of memory, leading to better cache performance. This reduces overhead and allows for faster data access compared to the non-contiguous storage of Python lists.\nFixed Data Types: NumPy arrays have a uniform data type, which allows for more efficient memory usage. Python lists can hold mixed types, leading to additional overhead for type checking and storage.\n\n3)Reduced Overhead:\nLess Memory Overhead: Each element in a NumPy array requires less memory than an equivalent element in a Python list because NumPy avoids storing type information with each element. This is particularly beneficial for large datasets.\nDynamic vs. Static Typing: NumPy arrays utilize static typing, which leads to reduced overhead during operations, while Python lists use dynamic typing, which incurs additional processing costs.\n\n4)Advanced Functionality:\nBroadcasting: NumPy’s broadcasting capabilities allow for arithmetic operations between arrays of different shapes, facilitating complex numerical computations without the need for manual resizing or looping.\nEfficient Aggregation: NumPy provides efficient methods for aggregation operations (e.g., sum, mean, max) that are optimized for performance, reducing the time needed to perform these operations on large datasets.\n\n5)Parallel Processing:\nSupport for Multithreading: NumPy can take advantage of low-level optimizations, including parallel processing, to enhance performance on multi-core systems, whereas Python lists do not inherently support this capability.",
      "metadata": {}
    },
    {
      "cell_type": "markdown",
      "source": "q6. Analyze the performance benefits of NumPy arrays over Python lists for large-scale numerical operations.\n\nSpeed of Computation:\nVectorization: NumPy supports vectorized operations, allowing you to apply operations to entire arrays at once. This eliminates the need for explicit loops, significantly speeding up computations. For example, adding two large arrays can be done in a single line with NumPy, while it would require a loop in Python lists.\nCompiled Code: Many NumPy operations are implemented in C, which is faster than the interpreted nature of Python code. This leads to better performance for numerical calculations.\n\nMemory Efficiency:\nContiguous Memory Storage: NumPy arrays are stored in contiguous memory locations, which allows for more efficient access patterns and better cache utilization. This results in faster data retrieval compared to Python lists, which can have scattered memory addresses due to their dynamic nature.\nReduced Overhead: Each element in a NumPy array has a fixed size and type, leading to lower memory overhead compared to Python lists, which store additional information for each element (such as type).\n\nHomogeneity:\nSingle Data Type: NumPy arrays require all elements to be of the same data type. This uniformity allows NumPy to optimize operations and memory usage, while Python lists can hold mixed types, leading to inefficiencies in both processing speed and memory.\n\nAdvanced Mathematical Functions:\nOptimized Mathematical Functions: NumPy provides a wide range of mathematical functions that are optimized for performance. Functions such as np.sum(), np.mean(), and others are implemented to work efficiently on large datasets, providing results faster than equivalent operations on lists.\n\nBroadcasting:\nFlexible Operations: NumPy’s broadcasting feature allows you to perform arithmetic operations on arrays of different shapes without the need for manual resizing. This reduces the complexity of code and enhances performance by minimizing overhead.\n\nAggregation and Manipulation:\nEfficient Aggregation: NumPy’s built-in methods for aggregating data (e.g., summing, averaging) are optimized for performance. Performing these operations on large datasets is much faster than using loops or list comprehensions in Python.\nArray Manipulation: Operations like reshaping, stacking, and splitting are optimized in NumPy, allowing for quick and memory-efficient data manipulation.\n\nSupport for Multithreading:\nParallel Processing: NumPy can leverage low-level optimizations, including parallel processing on multi-core systems, further enhancing performance for large-scale operations. This is something Python lists cannot inherently utilize.",
      "metadata": {}
    },
    {
      "cell_type": "markdown",
      "source": "Q7. Compare vstack() and hstack() functions in NumPy. Provide examples demonstrating their usage and output.\nComparison of vstack() and hstack() Functions in NumPy\nnp.vstack(): Stacks arrays vertically (row-wise). It concatenates arrays along a new vertical axis, effectively adding more rows to the existing arrays.\n\nnp.hstack(): Stacks arrays horizontally (column-wise). It concatenates arrays along a new horizontal axis, effectively adding more columns to the existing arrays.\n\nExamples\nUsing np.vstack()",
      "metadata": {}
    },
    {
      "cell_type": "code",
      "source": "import numpy as np\n\na = np.array([[1, 2], [3, 4]])\nb = np.array([[5, 6]])\n\nvstacked = np.vstack((a, b))\n\nprint(\"Vertical Stack (vstack):\\n\", vstacked)",
      "metadata": {
        "trusted": true
      },
      "outputs": [
        {
          "name": "stdout",
          "text": "Vertical Stack (vstack):\n [[1 2]\n [3 4]\n [5 6]]\n",
          "output_type": "stream"
        }
      ],
      "execution_count": 11
    },
    {
      "cell_type": "markdown",
      "source": "Using np.hstack()",
      "metadata": {}
    },
    {
      "cell_type": "code",
      "source": "c = np.array([[1, 2], [3, 4]])\nd = np.array([[5], [6]])\n\nhstacked = np.hstack((c, d))\n\nprint(\"Horizontal Stack (hstack):\\n\", hstacked)\n",
      "metadata": {
        "trusted": true
      },
      "outputs": [
        {
          "name": "stdout",
          "text": "Horizontal Stack (hstack):\n [[1 2 5]\n [3 4 6]]\n",
          "output_type": "stream"
        }
      ],
      "execution_count": 12
    },
    {
      "cell_type": "markdown",
      "source": "q8.Differences Between fliplr() and flipud() Methods in NumPy\nBoth fliplr() and flipud() are functions in NumPy that are used to reverse the order of elements in an array, but they operate along different axes.\n\n1. fliplr()\nFunctionality: Flips an array from left to right, effectively reversing the order of columns.\nApplicable Dimensions: Primarily used with 2D arrays, but it can also be applied to higher-dimensional arrays, where it affects the last axis.\nExample:",
      "metadata": {}
    },
    {
      "cell_type": "code",
      "source": "import numpy as np\n\narr_2d = np.array([[1, 2, 3],\n                   [4, 5, 6]])\n\nflipped_lr = np.fliplr(arr_2d)\n\nprint(\"Original Array:\\n\", arr_2d)\nprint(\"Flipped Left-Right (fliplr):\\n\", flipped_lr)\n",
      "metadata": {
        "trusted": true
      },
      "outputs": [
        {
          "name": "stdout",
          "text": "Original Array:\n [[1 2 3]\n [4 5 6]]\nFlipped Left-Right (fliplr):\n [[3 2 1]\n [6 5 4]]\n",
          "output_type": "stream"
        }
      ],
      "execution_count": 13
    },
    {
      "cell_type": "markdown",
      "source": "2. flipud()\nFunctionality: Flips an array from up to down, effectively reversing the order of rows.\nApplicable Dimensions: Primarily used with 2D arrays, but can also be applied to higher-dimensional arrays, where it affects the first axis.\nExample:",
      "metadata": {}
    },
    {
      "cell_type": "code",
      "source": "flipped_ud = np.flipud(arr_2d)\n\nprint(\"Flipped Up-Down (flipud):\\n\", flipped_ud)\n",
      "metadata": {
        "trusted": true
      },
      "outputs": [
        {
          "name": "stdout",
          "text": "Flipped Up-Down (flipud):\n [[4 5 6]\n [1 2 3]]\n",
          "output_type": "stream"
        }
      ],
      "execution_count": 14
    },
    {
      "cell_type": "markdown",
      "source": "q9.. Discuss the functionality of the array_split() method in NumPy. How does it handle uneven splits?\nFunctionality of the array_split() Method in NumPy\nThe array_split() function in NumPy is used to divide an array into multiple sub-arrays along a specified axis. Unlike split(), which requires the number of splits to evenly divide the array, array_split() can handle cases where the array cannot be evenly divided.\n\nKey Features\nFlexible Splitting: You can specify the number of splits you want to make, and NumPy will distribute the elements as evenly as possible across the resulting sub-arrays.\nAxis Specification: You can specify the axis along which to split the array. By default, it splits along the first axis (axis=0).\nReturns a List: The function returns a list of sub-arrays.",
      "metadata": {}
    },
    {
      "cell_type": "code",
      "source": "#syntex\n#numpy.array_split(ary, indices_or_sections, axis=0)",
      "metadata": {
        "trusted": true
      },
      "outputs": [],
      "execution_count": 18
    },
    {
      "cell_type": "markdown",
      "source": "ary: The input array to be split.\nindices_or_sections: Either an integer (number of splits) or an array of indices at which to split.\naxis: The axis along which to split the array (default is 0).\nHandling Uneven Splits\nWhen the total number of elements in the array is not evenly divisible by the number of desired splits, array_split() distributes the elements as evenly as possible. The first few sub-arrays will have one more element than the others, ensuring all elements are included.",
      "metadata": {}
    },
    {
      "cell_type": "code",
      "source": "import numpy as np\n\narr = np.array([1, 2, 3, 4, 5, 6, 7])\n\nsub_arrays = np.array_split(arr, 3)\n\nprint(\"Original Array:\", arr)\nprint(\"Sub-arrays after split:\", sub_arrays)",
      "metadata": {
        "trusted": true
      },
      "outputs": [
        {
          "name": "stdout",
          "text": "Original Array: [1 2 3 4 5 6 7]\nSub-arrays after split: [array([1, 2, 3]), array([4, 5]), array([6, 7])]\n",
          "output_type": "stream"
        }
      ],
      "execution_count": 19
    },
    {
      "cell_type": "markdown",
      "source": "Explanation of Uneven Splits\nIn the example above:\n\nThe original array has 7 elements.\nWhen splitting into 3 sub-arrays, the first sub-array gets 3 elements, while the second and third sub-arrays each get 2 elements. This distribution ensures that all elements are accounted for.",
      "metadata": {}
    },
    {
      "cell_type": "markdown",
      "source": "q10.Explain the concepts of vectorization and broadcasting in NumPy. How do they contribute to efficient array operations?\nConcepts of Vectorization and Broadcasting in NumPy\nVectorization\nDefinition: Vectorization refers to the process of converting operations that would typically use explicit loops into operations that apply to entire arrays at once. In NumPy, vectorized operations are implemented in C, which allows for significant performance improvements.\n\nBenefits:\n\nSpeed: By eliminating Python loops, vectorized operations are executed faster due to lower overhead and optimized computational routines.\nSimplicity: Code becomes more concise and readable. Instead of writing multiple lines of code to perform operations on array elements, you can use a single line for array-wide operations.\nExample:",
      "metadata": {}
    },
    {
      "cell_type": "code",
      "source": "import numpy as np\n\n# Create two large arrays\na = np.array([1, 2, 3])\nb = np.array([4, 5, 6])\n\n# Vectorized addition\nresult = a + b  # Output: array([5, 7, 9])\nprint(\"Vectorized Result:\", result)\n",
      "metadata": {
        "trusted": true
      },
      "outputs": [
        {
          "name": "stdout",
          "text": "Vectorized Result: [5 7 9]\n",
          "output_type": "stream"
        }
      ],
      "execution_count": 20
    },
    {
      "cell_type": "markdown",
      "source": "Broadcasting\nDefinition: Broadcasting is a feature that allows NumPy to perform arithmetic operations on arrays of different shapes. It automatically expands the smaller array to match the dimensions of the larger array for element-wise operations.\n\nMechanism:\n\nIf the arrays have different numbers of dimensions, the smaller array is padded with ones on the left side until both arrays have the same number of dimensions.\nIf the sizes of the dimensions differ, the smaller dimension is expanded to match the larger dimension's size if the size is either 1 or matches the corresponding dimension.\nBenefits:\n\nFlexibility: It enables operations between arrays of different shapes without requiring explicit reshaping.\nPerformance: Reduces the need for explicit loops and memory allocation for temporary arrays.",
      "metadata": {}
    },
    {
      "cell_type": "code",
      "source": "# Create a 2D array and a 1D array\nA = np.array([[1, 2, 3],\n              [4, 5, 6]])\n\nB = np.array([10, 20, 30])\n\n# Broadcasting the 1D array across the 2D array\nresult = A + B  # Output: array([[11, 22, 33], [14, 25, 36]])\nprint(\"Broadcasting Result:\\n\", result)\n",
      "metadata": {
        "trusted": true
      },
      "outputs": [],
      "execution_count": null
    }
  ]
}