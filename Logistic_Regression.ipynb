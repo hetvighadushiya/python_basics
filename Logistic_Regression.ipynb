{
 "cells": [
  {
   "cell_type": "markdown",
   "id": "de5af9b0-18e0-45dd-8d62-82fa0f31de7d",
   "metadata": {},
   "source": [
    "# Logistic Regression"
   ]
  },
  {
   "cell_type": "markdown",
   "id": "ca941ed6-e14e-426b-a8d7-72c66c6e183e",
   "metadata": {},
   "source": [
    "# Logistic Regression Theory\n",
    "\n",
    "### 1) What is Logistic Regression, and how does it differ from Linear Regression?\n",
    "Logistic Regression is a statistical model used for binary classification tasks, where the goal is to predict one of two possible outcomes. It models the probability that a given input point belongs to a particular class.\n",
    "\n",
    "**Difference from Linear Regression:**\n",
    "- **Linear Regression** is used for predicting continuous outcomes, and it predicts a linear relationship between the independent variables and the dependent variable.\n",
    "- **Logistic Regression** is used for classification and predicts the probability of a binary outcome using a logistic (sigmoid) function. It transforms the output of a linear model into a value between 0 and 1.\n",
    "\n",
    "### 2) What is the mathematical equation of Logistic Regression?\n",
    "The mathematical equation of Logistic Regression is:\n",
    "\n",
    "\\[\n",
    "p(y=1|X) = \\frac{1}{1 + e^{-z}}\n",
    "\\]\n",
    "\n",
    "Where:\n",
    "- \\( p(y=1|X) \\) is the probability of the outcome being 1 given the input features \\( X \\).\n",
    "- \\( z = \\beta_0 + \\beta_1 x_1 + \\beta_2 x_2 + ... + \\beta_n x_n \\) is the linear combination of input features and their corresponding coefficients.\n",
    "- \\( e \\) is Euler’s number (base of the natural logarithm).\n",
    "\n",
    "### 3) Why do we use the Sigmoid function in Logistic Regression?\n",
    "The Sigmoid function is used to map any real-valued number into a value between 0 and 1. This is important because logistic regression is used for binary classification, and we need the output to represent the probability of the target variable belonging to one of the two classes. The Sigmoid function ensures that the output is constrained to the range [0, 1], making it interpretable as a probability.\n",
    "\n",
    "### 4) What is the cost function of Logistic Regression?\n",
    "The cost function in Logistic Regression is the **Log Loss** or **Binary Cross-Entropy Loss**:\n",
    "\n",
    "\\[\n",
    "J(\\theta) = - \\frac{1}{m} \\sum_{i=1}^{m} \\left( y^{(i)} \\log(h_{\\theta}(x^{(i)})) + (1 - y^{(i)}) \\log(1 - h_{\\theta}(x^{(i)})) \\right)\n",
    "\\]\n",
    "\n",
    "Where:\n",
    "- \\( m \\) is the number of training examples.\n",
    "- \\( h_{\\theta}(x) \\) is the predicted probability of the positive class (calculated using the Sigmoid function).\n",
    "- \\( y^{(i)} \\) is the true label of the i-th training example.\n",
    "\n",
    "### 5) What is Regularization in Logistic Regression? Why is it needed?\n",
    "Regularization is a technique used to prevent overfitting by adding a penalty term to the cost function. In Logistic Regression, regularization discourages the model from fitting excessively complex models that perform well on training data but poorly on new data.\n",
    "\n",
    "### 6) Explain the difference between Lasso, Ridge, and Elastic Net regression.\n",
    "- **Lasso (L1 regularization)**: Adds a penalty equal to the absolute value of the coefficients. It can shrink some coefficients to zero, effectively performing feature selection.\n",
    "  \n",
    "- **Ridge (L2 regularization)**: Adds a penalty equal to the squared value of the coefficients. It encourages smaller coefficients but does not eliminate them completely.\n",
    "  \n",
    "- **Elastic Net**: A combination of L1 and L2 regularization. It balances the properties of Lasso and Ridge, making it useful when there are multiple correlated features.\n",
    "\n",
    "### 7) When should we use Elastic Net instead of Lasso or Ridge?\n",
    "Elastic Net is preferred when:\n",
    "- There are many correlated features.\n",
    "- You want to combine the feature selection property of Lasso with the regularization ability of Ridge.\n",
    "\n",
    "If you suspect that some features are highly correlated, Elastic Net is often a better choice than using Lasso or Ridge alone.\n",
    "\n",
    "### 8) What is the impact of the regularization parameter (λ) in Logistic Regression?\n",
    "The regularization parameter \\( \\lambda \\) controls the strength of the penalty applied to the coefficients. \n",
    "- A larger \\( \\lambda \\) value increases the penalty, leading to more shrinkage of the coefficients, potentially reducing overfitting but also making the model underfit.\n",
    "- A smaller \\( \\lambda \\) value reduces the penalty, allowing the model to fit more closely to the training data, but it may overfit if \\( \\lambda \\) is too small.\n",
    "\n",
    "### 9) What are the key assumptions of Logistic Regression?\n",
    "The key assumptions of Logistic Regression are:\n",
    "- The dependent variable is binary.\n",
    "- The relationship between the independent variables and the log-odds of the dependent variable is linear.\n",
    "- Observations are independent of each other.\n",
    "- No or little multicollinearity exists between the independent variables.\n",
    "\n",
    "### 10) What are some alternatives to Logistic Regression for classification tasks?\n",
    "Alternatives to Logistic Regression include:\n",
    "- **Decision Trees**: Non-linear models that split the data based on feature thresholds.\n",
    "- **Random Forests**: An ensemble of decision trees that aggregates results for better accuracy.\n",
    "- **Support Vector Machines (SVM)**: A model that finds the optimal hyperplane to separate classes.\n",
    "- **K-Nearest Neighbors (KNN)**: A non-parametric algorithm that classifies based on the closest neighbors in the feature space.\n",
    "- **Neural Networks**: A class of models inspired by biological neural networks, capable of modeling complex non-linear relationships.\n",
    "\n",
    "### 11) What are Classification Evaluation Metrics?\n",
    "Classification evaluation metrics are used to assess the performance of classification models. Common evaluation metrics include:\n",
    "\n",
    "- **Accuracy**: The proportion of correctly classified instances among the total instances.\n",
    "- **Precision**: The proportion of true positives among all predicted positives. Precision = TP / (TP + FP).\n",
    "- **Recall (Sensitivity)**: The proportion of true positives among all actual positives. Recall = TP / (TP + FN).\n",
    "- **F1-Score**: The harmonic mean of precision and recall. F1-Score = 2 * (Precision * Recall) / (Precision + Recall).\n",
    "- **Confusion Matrix**: A matrix showing the counts of true positives, false positives, true negatives, and false negatives.\n",
    "- **ROC Curve and AUC**: The Receiver Operating Characteristic curve shows the trade-off between true positive rate and false positive rate, and AUC (Area Under the Curve) provides a single metric of the model's ability to distinguish between classes.\n",
    "\n",
    "### 12) How does class imbalance affect Logistic Regression?\n",
    "Class imbalance occurs when one class is significantly more frequent than the other. It can negatively affect Logistic Regression by:\n",
    "- Biasing the model towards the majority class, which leads to poor performance on the minority class.\n",
    "- Reducing the model's ability to generalize to the minority class.\n",
    "  \n",
    "To address class imbalance, techniques such as **resampling (over-sampling or under-sampling)**, **class weights adjustment**, or using **evaluation metrics like Precision-Recall AUC** are often applied.\n",
    "\n",
    "### 13) What is Hyperparameter Tuning in Logistic Regression?\n",
    "Hyperparameter tuning involves selecting the best values for parameters that are not learned by the model during training, such as:\n",
    "- **Regularization parameter (λ)**: Controls the strength of regularization.\n",
    "- **Solver**: Determines the optimization method used to minimize the cost function.\n",
    "- **Maximum number of iterations**: Defines the stopping criterion for the optimization process.\n",
    "  \n",
    "Hyperparameter tuning is often done using techniques like **Grid Search** or **Randomized Search** to improve the model's performance.\n",
    "\n",
    "### 14) What are different solvers in Logistic Regression? Which one should be used?\n",
    "In Logistic Regression, solvers are optimization algorithms used to minimize the cost function. Common solvers include:\n",
    "- **'liblinear'**: A good choice for small datasets, supports L1 and L2 regularization.\n",
    "- **'newton-cg'**: Efficient for large datasets and works well with L2 regularization.\n",
    "- **'lbfgs'**: A robust solver suitable for larger datasets, supports L2 regularization.\n",
    "- **'saga'**: Suitable for very large datasets, supports both L1 and L2 regularization.\n",
    "\n",
    "**Recommendation**: For smaller datasets, 'liblinear' works well, while for larger datasets, 'lbfgs' or 'saga' is more efficient.\n",
    "\n",
    "### 15) How is Logistic Regression extended for multiclass classification?\n",
    "Logistic Regression can be extended for multiclass classification in two main ways:\n",
    "- **One-vs-Rest (OvR)**: For each class, a separate binary logistic regression model is trained to distinguish that class from all others.\n",
    "- **Softmax Regression (Multinomial Logistic Regression)**: Uses a generalization of the logistic function (the softmax function) to handle multiple classes simultaneously. It computes the probability of each class and assigns the class with the highest probability.\n",
    "\n",
    "### 16) What are the advantages and disadvantages of Logistic Regression?\n",
    "**Advantages**:\n",
    "- Simple and interpretable model.\n",
    "- Efficient for linearly separable data.\n",
    "- Can be regularized to prevent overfitting.\n",
    "- Fast and computationally inexpensive.\n",
    "\n",
    "**Disadvantages**:\n",
    "- Assumes linearity between the features and the log-odds.\n",
    "- Not suitable for complex relationships (non-linear).\n",
    "- Sensitive to outliers.\n",
    "- Struggles with class imbalance unless properly handled.\n",
    "\n",
    "### 17) What are some use cases of Logistic Regression?\n",
    "Logistic Regression is widely used in:\n",
    "- **Binary classification**: Spam detection, medical diagnosis (e.g., predicting if a patient has a disease), credit card fraud detection.\n",
    "- **Multiclass classification**: Handwriting recognition, image classification, sentiment analysis.\n",
    "\n",
    "### 18) What is the difference between Softmax Regression and Logistic Regression?\n",
    "- **Logistic Regression** is used for binary classification, where it models the probability of the positive class using the sigmoid function.\n",
    "- **Softmax Regression** (Multinomial Logistic Regression) is an extension of Logistic Regression used for multiclass classification, where the softmax function is used to calculate the probability for each class.\n",
    "\n",
    "### 19) How do we choose between One-vs-Rest (OvR) and Softmax for multiclass classification?\n",
    "- **One-vs-Rest (OvR)** is typically used when classes are not mutually exclusive or when the dataset is too large, and training multiple binary classifiers is computationally feasible.\n",
    "- **Softmax** is preferred when classes are mutually exclusive, and you want to calculate the probabilities for each class simultaneously, offering a more unified approach for multiclass classification.\n",
    "\n",
    "### 20) How do we interpret coefficients in Logistic Regression?\n",
    "The coefficients in Logistic Regression represent the log-odds change of the dependent variable for a one-unit change in the corresponding independent variable. Specifically:\n",
    "- If \\( \\beta_i > 0 \\), an increase in \\( x_i \\) will increase the probability of the positive class.\n",
    "- If \\( \\beta_i < 0 \\), an increase in \\( x_i \\) will decrease the probability of the positive class.\n",
    "  \n",
    "To interpret the impact of the coefficients in terms of probabilities, you can exponentiate the coefficients, which gives the **odds ratio**. For example:\n",
    "- If \\( \\beta_i = 0.5 \\), the odds ratio is \\( e^{0.5} \\approx 1.65 \\), meaning a one-unit increase in \\( x_i \\) increases the odds of the positive class by 65%.\n"
   ]
  },
  {
   "cell_type": "markdown",
   "id": "1f93861b-0a50-4f21-a72e-35bcfb37a898",
   "metadata": {},
   "source": [
    "# Practical"
   ]
  },
  {
   "cell_type": "code",
   "execution_count": 1,
   "id": "0f44eada-4ad9-4d96-9bdf-989bdc846c73",
   "metadata": {},
   "outputs": [
    {
     "name": "stdout",
     "output_type": "stream",
     "text": [
      "Logistic Regression Accuracy: 1.0\n"
     ]
    }
   ],
   "source": [
    "# Question 1: Load a dataset, split it, apply Logistic Regression, and print accuracy\n",
    "\n",
    "from sklearn.datasets import load_iris\n",
    "from sklearn.model_selection import train_test_split\n",
    "from sklearn.linear_model import LogisticRegression\n",
    "from sklearn.metrics import accuracy_score\n",
    "\n",
    "iris = load_iris()\n",
    "X, y = iris.data, iris.target\n",
    "\n",
    "X_train, X_test, y_train, y_test = train_test_split(X, y, test_size=0.2, random_state=42)\n",
    "\n",
    "log_reg = LogisticRegression(max_iter=200)\n",
    "log_reg.fit(X_train, y_train)\n",
    "\n",
    "y_pred = log_reg.predict(X_test)\n",
    "\n",
    "\n",
    "accuracy = accuracy_score(y_test, y_pred)\n",
    "print(\"Logistic Regression Accuracy:\", accuracy)"
   ]
  },
  {
   "cell_type": "code",
   "execution_count": 2,
   "id": "a89249ee-5d49-412b-9e4f-45a437d2bb3d",
   "metadata": {},
   "outputs": [
    {
     "name": "stdout",
     "output_type": "stream",
     "text": [
      "Model Accuracy with L1 Regularization: 1.00\n"
     ]
    }
   ],
   "source": [
    "### 2) Write a Python program to apply L1 regularization (Lasso) on a dataset using LogisticRegression(penalty='l1') and print the model accuracy\n",
    "\n",
    "from sklearn.svm import l1_min_c\n",
    "\n",
    "model_l1 = LogisticRegression(penalty='l1', solver='liblinear', max_iter=200)\n",
    "model_l1.fit(X_train, y_train)\n",
    "\n",
    "y_pred_l1 = model_l1.predict(X_test)\n",
    "accuracy_l1 = accuracy_score(y_test, y_pred_l1)\n",
    "print(f'Model Accuracy with L1 Regularization: {accuracy_l1:.2f}')"
   ]
  },
  {
   "cell_type": "code",
   "execution_count": 3,
   "id": "6699146c-efee-42e8-91fe-dc6d267905b2",
   "metadata": {},
   "outputs": [
    {
     "name": "stdout",
     "output_type": "stream",
     "text": [
      "Model Accuracy with L2 Regularization: 1.00\n",
      "Coefficients: [[-0.39348375  0.96248072 -2.37513667 -0.99874733]\n",
      " [ 0.50844947 -0.25480597 -0.21300937 -0.77574588]\n",
      " [-0.11496571 -0.70767474  2.58814604  1.77449321]]\n"
     ]
    }
   ],
   "source": [
    "### 3) Write a Python program to train Logistic Regression with L2 regularization (Ridge) using LogisticRegression(penalty='l2'). Print model accuracy and coefficients\n",
    "\n",
    "model_l2 = LogisticRegression(penalty='l2', max_iter=200)\n",
    "model_l2.fit(X_train, y_train)\n",
    "\n",
    "y_pred_l2 = model_l2.predict(X_test)\n",
    "accuracy_l2 = accuracy_score(y_test, y_pred_l2)\n",
    "print(f'Model Accuracy with L2 Regularization: {accuracy_l2:.2f}')\n",
    "print('Coefficients:', model_l2.coef_)"
   ]
  },
  {
   "cell_type": "code",
   "execution_count": 6,
   "id": "5eb9a2bf-da9f-4f27-b17c-f0a187812a14",
   "metadata": {},
   "outputs": [
    {
     "name": "stdout",
     "output_type": "stream",
     "text": [
      "Model Accuracy with Elastic Net Regularization: 1.00\n"
     ]
    }
   ],
   "source": [
    "### 4) Write a Python program to train Logistic Regression with Elastic Net Regularization (penalty='elasticnet')\n",
    "from sklearn.preprocessing import StandardScaler\n",
    "\n",
    "scaler = StandardScaler()\n",
    "X_train_scaled = scaler.fit_transform(X_train)\n",
    "X_test_scaled = scaler.transform(X_test)\n",
    "\n",
    "model_elastic = LogisticRegression(penalty='elasticnet', solver='saga', l1_ratio=0.5, max_iter=1000)\n",
    "model_elastic.fit(X_train_scaled, y_train)\n",
    "\n",
    "y_pred_elastic = model_elastic.predict(X_test_scaled)\n",
    "accuracy_elastic = accuracy_score(y_test, y_pred_elastic)\n",
    "print(f'Model Accuracy with Elastic Net Regularization: {accuracy_elastic:.2f}')"
   ]
  },
  {
   "cell_type": "code",
   "execution_count": 17,
   "id": "d67f066c-c43f-4976-9f65-1f18524d2f05",
   "metadata": {},
   "outputs": [
    {
     "name": "stdout",
     "output_type": "stream",
     "text": [
      "Model Accuracy with OVR (One-vs-Rest): 0.97\n"
     ]
    }
   ],
   "source": [
    "### 5) Write a Python program to train a Logistic Regression model for multiclass classification using multi_class='ovr'\n",
    "import numpy as np\n",
    "import pandas as pd\n",
    "from sklearn.datasets import load_iris\n",
    "from sklearn.model_selection import train_test_split\n",
    "from sklearn.preprocessing import StandardScaler\n",
    "from sklearn.linear_model import LogisticRegression\n",
    "from sklearn.multiclass import OneVsRestClassifier\n",
    "from sklearn.metrics import accuracy_score\n",
    "\n",
    "iris = load_iris()\n",
    "X, y = iris.data, iris.target\n",
    "\n",
    "X_train, X_test, y_train, y_test = train_test_split(X, y, test_size=0.2, random_state=42)\n",
    "\n",
    "scaler = StandardScaler()\n",
    "X_train = scaler.fit_transform(X_train)\n",
    "X_test = scaler.transform(X_test)\n",
    "\n",
    "model_ovr = OneVsRestClassifier(LogisticRegression(max_iter=200))\n",
    "model_ovr.fit(X_train, y_train)\n",
    "\n",
    "y_pred_ovr = model_ovr.predict(X_test)\n",
    "accuracy_ovr = accuracy_score(y_test, y_pred_ovr)\n",
    "\n",
    "print(f'Model Accuracy with OVR (One-vs-Rest): {accuracy_ovr:.2f}')"
   ]
  },
  {
   "cell_type": "code",
   "execution_count": 8,
   "id": "cba5477b-d77c-4d4e-9ccb-627252d6be43",
   "metadata": {},
   "outputs": [
    {
     "name": "stdout",
     "output_type": "stream",
     "text": [
      "Best Parameters: {'C': 10, 'penalty': 'l1'}\n",
      "Best Accuracy: 0.96\n"
     ]
    }
   ],
   "source": [
    "### 6) Write a Python program to apply GridSearchCV to tune the hyperparameters (C and penalty) of Logistic Regression. Print the best parameters and accuracy\n",
    "\n",
    "from sklearn.model_selection import GridSearchCV\n",
    "\n",
    "param_grid = {\n",
    "    'C': [0.01, 0.1, 1, 10],\n",
    "    'penalty': ['l1', 'l2']\n",
    "}\n",
    "\n",
    "grid_search = GridSearchCV(LogisticRegression(solver='liblinear'), param_grid, cv=5, scoring='accuracy')\n",
    "grid_search.fit(X_train, y_train)\n",
    "\n",
    "print(f'Best Parameters: {grid_search.best_params_}')\n",
    "print(f'Best Accuracy: {grid_search.best_score_:.2f}')"
   ]
  },
  {
   "cell_type": "code",
   "execution_count": 11,
   "id": "399ec729-6560-44d6-b70b-6e76c3697462",
   "metadata": {},
   "outputs": [
    {
     "name": "stdout",
     "output_type": "stream",
     "text": [
      "Average Accuracy: 0.97\n"
     ]
    }
   ],
   "source": [
    "### 7) Write a Python program to evaluate Logistic Regression using Stratified K-Fold Cross-Validation. Print the average accuracy\n",
    "import numpy as np\n",
    "\n",
    "from sklearn.model_selection import StratifiedKFold, cross_val_score\n",
    "\n",
    "skf = StratifiedKFold(n_splits=5, shuffle=True, random_state=42)\n",
    "cv_scores = cross_val_score(LogisticRegression(max_iter=200), X, y, cv=skf, scoring='accuracy')\n",
    "\n",
    "print(f'Average Accuracy: {np.mean(cv_scores):.2f}')"
   ]
  },
  {
   "cell_type": "code",
   "execution_count": 22,
   "id": "51ecdcbc-95eb-4a85-b0e1-5a15f1e56969",
   "metadata": {},
   "outputs": [
    {
     "name": "stdout",
     "output_type": "stream",
     "text": [
      "Model Accuracy from CSV Data: 1.00\n"
     ]
    }
   ],
   "source": [
    "### 8) Write a Python program to load a dataset from a CSV file, apply Logistic Regression, and evaluate its accuracy\n",
    "\n",
    "import pandas as pd\n",
    "from sklearn.model_selection import train_test_split\n",
    "from sklearn.linear_model import LogisticRegression\n",
    "from sklearn.metrics import accuracy_score\n",
    "\n",
    "csv_path = \"C:/Users/hetvi/Downloads/superstore.csv\"\n",
    "df = pd.read_csv(csv_path, encoding='latin1') \n",
    "\n",
    "df = pd.get_dummies(df)\n",
    "\n",
    "df = df.dropna()\n",
    "\n",
    "y = df.iloc[:, -1]  \n",
    "X = df.iloc[:, :-1] \n",
    "\n",
    "X_train, X_test, y_train, y_test = train_test_split(X, y, test_size=0.2, random_state=42)\n",
    "\n",
    "model_csv = LogisticRegression(max_iter=200)\n",
    "model_csv.fit(X_train, y_train)\n",
    "\n",
    "y_pred_csv = model_csv.predict(X_test)\n",
    "accuracy_csv = accuracy_score(y_test, y_pred_csv)\n",
    "print(f'Model Accuracy from CSV Data: {accuracy_csv:.2f}')"
   ]
  },
  {
   "cell_type": "code",
   "execution_count": 2,
   "id": "64c6da89-3eb3-4284-9a30-4a58a6f362e6",
   "metadata": {},
   "outputs": [
    {
     "name": "stdout",
     "output_type": "stream",
     "text": [
      "Best Hyperparameters: {'C': 8.424426408004217, 'penalty': 'l2', 'solver': 'saga'}\n",
      "Best Cross-Validation Score: 0.9667\n"
     ]
    }
   ],
   "source": [
    "### q9)\n",
    "import numpy as np\n",
    "from sklearn.datasets import load_iris\n",
    "from sklearn.linear_model import LogisticRegression\n",
    "from sklearn.model_selection import RandomizedSearchCV, train_test_split\n",
    "from scipy.stats import uniform\n",
    "\n",
    "X, y = load_iris(return_X_y=True)\n",
    "\n",
    "X_train, X_test, y_train, y_test = train_test_split(X, y, test_size=0.2, random_state=42)\n",
    "\n",
    "param_distributions = {\n",
    "    'C': uniform(0.1, 10),         \n",
    "    'penalty': ['l1', 'l2'],       \n",
    "    'solver': ['liblinear', 'saga']  \n",
    "}\n",
    "\n",
    "model = LogisticRegression(max_iter=5000)\n",
    "\n",
    "random_search = RandomizedSearchCV(\n",
    "    estimator=model,\n",
    "    param_distributions=param_distributions,\n",
    "    n_iter=20,          \n",
    "    cv=5,                \n",
    "    random_state=42,\n",
    "    n_jobs=-1           \n",
    ")\n",
    "\n",
    "random_search.fit(X_train, y_train)\n",
    "\n",
    "print(\"Best Hyperparameters:\", random_search.best_params_)\n",
    "print(\"Best Cross-Validation Score: {:.4f}\".format(random_search.best_score_))"
   ]
  },
  {
   "cell_type": "code",
   "execution_count": 16,
   "id": "911dc003-b42e-4958-8735-f2c297f6410f",
   "metadata": {},
   "outputs": [
    {
     "name": "stdout",
     "output_type": "stream",
     "text": [
      "Accuracy: 1.0\n"
     ]
    }
   ],
   "source": [
    "### 10) Implement One-vs-One Multiclass Logistic Regression\n",
    "import numpy as np\n",
    "import pandas as pd\n",
    "from sklearn.datasets import load_iris\n",
    "from sklearn.model_selection import train_test_split\n",
    "from sklearn.preprocessing import StandardScaler\n",
    "from sklearn.linear_model import LogisticRegression\n",
    "from sklearn.multiclass import OneVsOneClassifier\n",
    "from sklearn.metrics import accuracy_score\n",
    "\n",
    "iris = load_iris()\n",
    "X, y = iris.data, iris.target\n",
    "\n",
    "X_train, X_test, y_train, y_test = train_test_split(X, y, test_size=0.2, random_state=42)\n",
    "\n",
    "scaler = StandardScaler()\n",
    "X_train = scaler.fit_transform(X_train)\n",
    "X_test = scaler.transform(X_test)\n",
    "\n",
    "model = OneVsOneClassifier(LogisticRegression(solver='liblinear'))\n",
    "model.fit(X_train, y_train)\n",
    "\n",
    "y_pred = model.predict(X_test)\n",
    "accuracy = accuracy_score(y_test, y_pred)\n",
    "print(\"Accuracy:\", accuracy)"
   ]
  },
  {
   "cell_type": "code",
   "execution_count": 4,
   "id": "d24fa4bc-4add-4c0a-b1d8-0a42f4bf4475",
   "metadata": {},
   "outputs": [
    {
     "data": {
      "image/png": "[encoded data removed]",
      "text/plain": [
       "<Figure size 640x480 with 2 Axes>"
      ]
     },
     "metadata": {},
     "output_type": "display_data"
    }
   ],
   "source": [
    "### 11) Train Logistic Regression and visualize Confusion Matrix\n",
    "import seaborn as sns\n",
    "import matplotlib.pyplot as plt\n",
    "from sklearn.metrics import confusion_matrix\n",
    "\n",
    "from sklearn.datasets import make_classification\n",
    "X, y = make_classification(n_samples=1000, n_features=10, random_state=42)\n",
    "\n",
    "X_train, X_test, y_train, y_test = train_test_split(X, y, test_size=0.2, random_state=42)\n",
    "\n",
    "model = LogisticRegression()\n",
    "model.fit(X_train, y_train)\n",
    "\n",
    "y_pred = model.predict(X_test)\n",
    "\n",
    "cm = confusion_matrix(y_test, y_pred)\n",
    "sns.heatmap(cm, annot=True, fmt='d', cmap='Blues')\n",
    "plt.xlabel(\"Predicted\")\n",
    "plt.ylabel(\"Actual\")\n",
    "plt.title(\"Confusion Matrix\")\n",
    "plt.show()"
   ]
  },
  {
   "cell_type": "code",
   "execution_count": 5,
   "id": "fdda1bd8-0cac-48f3-aa37-00ea82970b3a",
   "metadata": {},
   "outputs": [
    {
     "name": "stdout",
     "output_type": "stream",
     "text": [
      "Precision: 0.8666666666666667\n",
      "Recall: 0.8198198198198198\n",
      "F1 Score: 0.8425925925925926\n"
     ]
    }
   ],
   "source": [
    "### 12) Evaluate performance using Precision, Recall, and F1-Score\n",
    "from sklearn.metrics import precision_score, recall_score, f1_score\n",
    "\n",
    "# Compute metrics\n",
    "precision = precision_score(y_test, y_pred)\n",
    "recall = recall_score(y_test, y_pred)\n",
    "f1 = f1_score(y_test, y_pred)\n",
    "\n",
    "print(\"Precision:\", precision)\n",
    "print(\"Recall:\", recall)\n",
    "print(\"F1 Score:\", f1)"
   ]
  },
  {
   "cell_type": "code",
   "execution_count": 6,
   "id": "39d1fcb7-51f9-48bc-96f1-9f7078ad0813",
   "metadata": {},
   "outputs": [
    {
     "name": "stdout",
     "output_type": "stream",
     "text": [
      "Accuracy: 0.865\n"
     ]
    }
   ],
   "source": [
    "### 13) Train Logistic Regression on imbalanced data with class weights\n",
    "from sklearn.utils import class_weight\n",
    "\n",
    "X, y = make_classification(n_samples=1000, weights=[0.9, 0.1], random_state=42)\n",
    "\n",
    "X_train, X_test, y_train, y_test = train_test_split(X, y, test_size=0.2, random_state=42)\n",
    "\n",
    "model = LogisticRegression(class_weight='balanced')\n",
    "model.fit(X_train, y_train)\n",
    "\n",
    "y_pred = model.predict(X_test)\n",
    "print(\"Accuracy:\", accuracy_score(y_test, y_pred))"
   ]
  },
  {
   "cell_type": "code",
   "execution_count": 7,
   "id": "0ce43bc7-c229-4cba-99f3-e9fe89d59770",
   "metadata": {},
   "outputs": [
    {
     "name": "stdout",
     "output_type": "stream",
     "text": [
      "Accuracy: 0.7552447552447552\n"
     ]
    }
   ],
   "source": [
    "### 14) Train Logistic Regression on Titanic dataset\n",
    "import seaborn as sns\n",
    "from sklearn.impute import SimpleImputer\n",
    "\n",
    "df = sns.load_dataset(\"titanic\")\n",
    "\n",
    "df = df[['age', 'fare', 'pclass', 'sex', 'survived']].dropna()\n",
    "df['sex'] = df['sex'].map({'male': 0, 'female': 1})\n",
    "\n",
    "X = df[['age', 'fare', 'pclass', 'sex']]\n",
    "y = df['survived']\n",
    "\n",
    "imputer = SimpleImputer(strategy='mean')\n",
    "X = imputer.fit_transform(X)\n",
    "\n",
    "X_train, X_test, y_train, y_test = train_test_split(X, y, test_size=0.2, random_state=42)\n",
    "model = LogisticRegression()\n",
    "model.fit(X_train, y_train)\n",
    "\n",
    "print(\"Accuracy:\", accuracy_score(y_test, model.predict(X_test)))\n"
   ]
  },
  {
   "cell_type": "code",
   "execution_count": 8,
   "id": "8482b2c2-813e-4a10-a240-4e89b22b771b",
   "metadata": {},
   "outputs": [
    {
     "name": "stdout",
     "output_type": "stream",
     "text": [
      "Accuracy with scaling: 0.7412587412587412\n"
     ]
    }
   ],
   "source": [
    "### 15) Apply Standardization before training Logistic Regression\n",
    "scaler = StandardScaler()\n",
    "X_train_scaled = scaler.fit_transform(X_train)\n",
    "X_test_scaled = scaler.transform(X_test)\n",
    "\n",
    "model_scaled = LogisticRegression()\n",
    "model_scaled.fit(X_train_scaled, y_train)\n",
    "\n",
    "print(\"Accuracy with scaling:\", accuracy_score(y_test, model_scaled.predict(X_test_scaled)))"
   ]
  },
  {
   "cell_type": "code",
   "execution_count": null,
   "id": "ea2219ad-a56d-4cab-9e15-12a2a2c7d43d",
   "metadata": {},
   "outputs": [],
   "source": [
    "### 16) Evaluate performance using ROC-AUC score\n",
    "accuracy_original = accuracy_score(y_test, model.predict(X_test))\n",
    "accuracy_scaled = accuracy_score(y_test, model_scaled.predict(X_test_scaled))\n",
    "\n",
    "print(\"Accuracy without scaling:\", accuracy_original)\n",
    "print(\"Accuracy with scaling:\", accuracy_scaled)"
   ]
  },
  {
   "cell_type": "code",
   "execution_count": 9,
   "id": "3dd16a9a-f682-4684-8a62-17c92e87235d",
   "metadata": {},
   "outputs": [
    {
     "name": "stdout",
     "output_type": "stream",
     "text": [
      "ROC-AUC Score: 0.8109605911330049\n"
     ]
    }
   ],
   "source": [
    "### 17) Train Logistic Regression with custom learning rate (C=0.5)\n",
    "from sklearn.metrics import roc_auc_score\n",
    "\n",
    "# Compute ROC-AUC Score\n",
    "y_prob = model.predict_proba(X_test)[:, 1]\n",
    "roc_auc = roc_auc_score(y_test, y_prob)\n",
    "\n",
    "print(\"ROC-AUC Score:\", roc_auc)"
   ]
  },
  {
   "cell_type": "code",
   "execution_count": 10,
   "id": "54e1679e-34f6-414e-8c5b-3fb7dbf0a538",
   "metadata": {},
   "outputs": [
    {
     "name": "stdout",
     "output_type": "stream",
     "text": [
      "Accuracy with C=0.5: 0.7482517482517482\n"
     ]
    }
   ],
   "source": [
    "### 18) Identify important features based on coefficients\n",
    "model_custom = LogisticRegression(C=0.5)\n",
    "model_custom.fit(X_train, y_train)\n",
    "\n",
    "print(\"Accuracy with C=0.5:\", accuracy_score(y_test, model_custom.predict(X_test)))"
   ]
  },
  {
   "cell_type": "code",
   "execution_count": 11,
   "id": "315fb40e-2d32-454d-ade0-e5b01bb1dc2a",
   "metadata": {},
   "outputs": [
    {
     "name": "stdout",
     "output_type": "stream",
     "text": [
      "  Feature  Coefficient\n",
      "3     sex     2.530478\n",
      "1    fare     0.000227\n",
      "0     age    -0.042472\n",
      "2  pclass    -1.240688\n"
     ]
    }
   ],
   "source": [
    "### 19) Evaluate performance using Cohen’s Kappa Score\n",
    "# Feature importance\n",
    "feature_importance = pd.DataFrame({'Feature': ['age', 'fare', 'pclass', 'sex'], \n",
    "                                   'Coefficient': model.coef_[0]})\n",
    "print(feature_importance.sort_values(by='Coefficient', ascending=False))"
   ]
  },
  {
   "cell_type": "code",
   "execution_count": 13,
   "id": "bcab6cd5-e3d6-4aac-ab58-832042c8a3cc",
   "metadata": {},
   "outputs": [
    {
     "name": "stdout",
     "output_type": "stream",
     "text": [
      "Cohen's Kappa Score: 0.6581196581196581\n"
     ]
    }
   ],
   "source": [
    "### 20) Visualize the Precision-Recall Curve\n",
    "from sklearn.metrics import cohen_kappa_score\n",
    "from sklearn.model_selection import train_test_split\n",
    "from sklearn.linear_model import LogisticRegression\n",
    "from sklearn.datasets import make_classification\n",
    "\n",
    "X, y = make_classification(n_samples=1000, n_features=10, random_state=42)\n",
    "\n",
    "X_train, X_test, y_train, y_test = train_test_split(X, y, test_size=0.2, random_state=42)\n",
    "\n",
    "model = LogisticRegression()\n",
    "model.fit(X_train, y_train)\n",
    "\n",
    "y_pred = model.predict(X_test)\n",
    "\n",
    "kappa_score = cohen_kappa_score(y_test, y_pred)\n",
    "print(\"Cohen's Kappa Score:\", kappa_score)"
   ]
  },
  {
   "cell_type": "code",
   "execution_count": 15,
   "id": "10688098-5112-415c-bf94-624beb71e91d",
   "metadata": {},
   "outputs": [
    {
     "name": "stdout",
     "output_type": "stream",
     "text": [
      "Solver: liblinear, Accuracy: 1.0000\n",
      "Solver: saga, Accuracy: 1.0000\n",
      "Solver: lbfgs, Accuracy: 1.0000\n"
     ]
    }
   ],
   "source": [
    "### 21) Train Logistic Regression with Different Solvers and Compare Accuracy\n",
    "from sklearn.datasets import load_iris\n",
    "from sklearn.model_selection import train_test_split\n",
    "from sklearn.linear_model import LogisticRegression\n",
    "from sklearn.multiclass import OneVsRestClassifier\n",
    "from sklearn.metrics import accuracy_score\n",
    "\n",
    "iris = load_iris()\n",
    "X, y = iris.data, iris.target\n",
    "\n",
    "X_train, X_test, y_train, y_test = train_test_split(X, y, test_size=0.2, random_state=42)\n",
    "\n",
    "solvers = ['liblinear', 'saga', 'lbfgs']\n",
    "\n",
    "for solver in solvers:\n",
    "    if solver == 'liblinear':\n",
    "        model = OneVsRestClassifier(LogisticRegression(solver=solver, max_iter=5000))\n",
    "    else:\n",
    "        model = LogisticRegression(solver=solver, max_iter=5000)  # Default to multinomial for multi-class\n",
    "\n",
    "    model.fit(X_train, y_train)\n",
    "    y_pred = model.predict(X_test)\n",
    "    \n",
    "    accuracy = accuracy_score(y_test, y_pred)\n",
    "    print(f\"Solver: {solver}, Accuracy: {accuracy:.4f}\")"
   ]
  },
  {
   "cell_type": "code",
   "execution_count": 6,
   "id": "7c7ef832-4d09-4e48-8c86-5ca90fd5db77",
   "metadata": {},
   "outputs": [
    {
     "name": "stdout",
     "output_type": "stream",
     "text": [
      "Matthews Correlation Coefficient (MCC): 0.6593\n"
     ]
    }
   ],
   "source": [
    "### 22) Train Logistic Regression and Evaluate using Matthews Correlation Coefficient (MCC)\n",
    "\n",
    "from sklearn.datasets import make_classification\n",
    "from sklearn.model_selection import train_test_split\n",
    "from sklearn.linear_model import LogisticRegression\n",
    "from sklearn.metrics import matthews_corrcoef\n",
    "\n",
    "X, y = make_classification(n_samples=1000, n_features=10, random_state=42)\n",
    "\n",
    "X_train, X_test, y_train, y_test = train_test_split(X, y, test_size=0.2, random_state=42)\n",
    "\n",
    "model = LogisticRegression(solver='liblinear')\n",
    "model.fit(X_train, y_train)\n",
    "\n",
    "y_pred = model.predict(X_test)\n",
    "\n",
    "mcc = matthews_corrcoef(y_test, y_pred)\n",
    "print(f\"Matthews Correlation Coefficient (MCC): {mcc:.4f}\")\n"
   ]
  },
  {
   "cell_type": "code",
   "execution_count": 7,
   "id": "8c01fab8-bc7f-4e56-8459-93595f68f78c",
   "metadata": {},
   "outputs": [
    {
     "name": "stdout",
     "output_type": "stream",
     "text": [
      "Accuracy on Raw Data: 1.0000\n",
      "Accuracy on Standardized Data: 1.0000\n"
     ]
    }
   ],
   "source": [
    "### 23) Train Logistic Regression on Raw and Standardized Data\n",
    "from sklearn.datasets import load_iris\n",
    "from sklearn.model_selection import train_test_split\n",
    "from sklearn.linear_model import LogisticRegression\n",
    "from sklearn.preprocessing import StandardScaler\n",
    "from sklearn.metrics import accuracy_score\n",
    "\n",
    "# Load dataset\n",
    "iris = load_iris()\n",
    "X, y = iris.data, iris.target\n",
    "\n",
    "X_train, X_test, y_train, y_test = train_test_split(X, y, test_size=0.2, random_state=42)\n",
    "\n",
    "model_raw = LogisticRegression(max_iter=5000)\n",
    "model_raw.fit(X_train, y_train)\n",
    "y_pred_raw = model_raw.predict(X_test)\n",
    "accuracy_raw = accuracy_score(y_test, y_pred_raw)\n",
    "\n",
    "scaler = StandardScaler()\n",
    "X_train_scaled = scaler.fit_transform(X_train)\n",
    "X_test_scaled = scaler.transform(X_test)\n",
    "\n",
    "model_scaled = LogisticRegression(max_iter=5000)\n",
    "model_scaled.fit(X_train_scaled, y_train)\n",
    "y_pred_scaled = model_scaled.predict(X_test_scaled)\n",
    "accuracy_scaled = accuracy_score(y_test, y_pred_scaled)\n",
    "\n",
    "print(f\"Accuracy on Raw Data: {accuracy_raw:.4f}\")\n",
    "print(f\"Accuracy on Standardized Data: {accuracy_scaled:.4f}\")\n"
   ]
  },
  {
   "cell_type": "code",
   "execution_count": 8,
   "id": "b85648fe-7e77-4019-8468-8e293e5f8de3",
   "metadata": {},
   "outputs": [
    {
     "name": "stdout",
     "output_type": "stream",
     "text": [
      "Best C value: 10\n",
      "Best Accuracy: 0.9583\n"
     ]
    }
   ],
   "source": [
    "### 24) Find Optimal C (Regularization Strength) using Cross-Validation\n",
    "from sklearn.datasets import load_iris\n",
    "from sklearn.model_selection import train_test_split, GridSearchCV\n",
    "from sklearn.linear_model import LogisticRegression\n",
    "\n",
    "iris = load_iris()\n",
    "X, y = iris.data, iris.target\n",
    "\n",
    "X_train, X_test, y_train, y_test = train_test_split(X, y, test_size=0.2, random_state=42)\n",
    "\n",
    "param_grid = {'C': [0.01, 0.1, 1, 10, 100]}\n",
    "\n",
    "grid_search = GridSearchCV(LogisticRegression(solver='liblinear', max_iter=5000), param_grid, cv=5)\n",
    "grid_search.fit(X_train, y_train)\n",
    "\n",
    "print(f\"Best C value: {grid_search.best_params_['C']}\")\n",
    "print(f\"Best Accuracy: {grid_search.best_score_:.4f}\")"
   ]
  },
  {
   "cell_type": "code",
   "execution_count": 9,
   "id": "d3dcd279-9883-4bd6-8806-fc1da22f34bc",
   "metadata": {},
   "outputs": [
    {
     "name": "stdout",
     "output_type": "stream",
     "text": [
      "Predicted classes: [1 0 2 1 1 0 1 2 1 1 2 0 0 0 0 1 2 1 1 2 0 2 0 2 2 2 2 2 0 0]\n"
     ]
    }
   ],
   "source": [
    "### 25) Train Logistic Regression, Save Model using Joblib, and Load to Make Predictions\n",
    "from sklearn.datasets import load_iris\n",
    "from sklearn.model_selection import train_test_split\n",
    "from sklearn.linear_model import LogisticRegression\n",
    "import joblib\n",
    "\n",
    "iris = load_iris()\n",
    "X, y = iris.data, iris.target\n",
    "\n",
    "X_train, X_test, y_train, y_test = train_test_split(X, y, test_size=0.2, random_state=42)\n",
    "\n",
    "model = LogisticRegression(max_iter=5000)\n",
    "model.fit(X_train, y_train)\n",
    "\n",
    "joblib.dump(model, 'logistic_regression_model.pkl')\n",
    "\n",
    "loaded_model = joblib.load('logistic_regression_model.pkl')\n",
    "\n",
    "y_pred = loaded_model.predict(X_test)\n",
    "print(f\"Predicted classes: {y_pred}\")"
   ]
  },
  {
   "cell_type": "code",
   "execution_count": null,
   "id": "1fd2c9ee-529a-44a2-b7bf-e011b12b138a",
   "metadata": {},
   "outputs": [],
   "source": []
  }
 ],
 "metadata": {
  "kernelspec": {
   "display_name": "Python 3 (ipykernel)",
   "language": "python",
   "name": "python3"
  },
  "language_info": {
   "codemirror_mode": {
    "name": "ipython",
    "version": 3
   },
   "file_extension": ".py",
   "mimetype": "text/x-python",
   "name": "python",
   "nbconvert_exporter": "python",
   "pygments_lexer": "ipython3",
   "version": "3.11.7"
  }
 },
 "nbformat": 4,
 "nbformat_minor": 5
}
